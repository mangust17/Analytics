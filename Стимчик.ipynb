{
 "cells": [
  {
   "cell_type": "markdown",
   "metadata": {},
   "source": [
    "# Анализ данных магазина Стримчик (1 сборный проект)"
   ]
  },
  {
   "cell_type": "markdown",
   "metadata": {},
   "source": [
    "В современном мире компьютерные игры представляют собой динамичную и конкурентоспособную индустрию, в которой успешность продукта зависит от разнообразных факторов. На основе предоставленных данных о компьютерных играх до 2016 года, наша задача заключается в выявлении закономерностей, определяющих успешность игр. Это позволит сделать ставку на потенциально популярные продукты и разработать эффективные рекламные кампании. Кроме того, мы ставим перед собой цель подготовить данные для предсказания развития рынка в будущем.\n",
    "\n",
    "В анализе данных мы обращаем внимание на различные параметры, такие как название игры, платформа, год выпуска, жанр, продажи в различных регионах, оценки критиков и пользователей, а также рейтинг от ESRB, который определяет возрастную категорию для каждой игры.\n",
    "\n",
    "Эти данные позволят нам выделить ключевые факторы, влияющие на успешность игр, и сформулировать рекомендации для разработчиков и маркетологов. Анализ ESRB рейтинга также предоставит дополнительный контекст, связанный с возрастными ограничениями, что может быть важным аспектом в планировании маркетинговых стратегий.\n",
    "\n",
    "Описание предоставленных данных:\n",
    "Name — название игры\n",
    "Platform — платформа\n",
    "Year_of_Release — год выпуска\n",
    "Genre — жанр игры\n",
    "NA_sales — продажи в Северной Америке (миллионы проданных копий)\n",
    "EU_sales — продажи в Европе (миллионы проданных копий)\n",
    "JP_sales — продажи в Японии (миллионы проданных копий)\n",
    "Other_sales — продажи в других странах (миллионы проданных копий)\n",
    "Critic_Score — оценка критиков (максимум 100)\n",
    "User_Score — оценка пользователей (максимум 10)\n",
    "Rating — рейтинг от организации ESRB (англ. Entertainment Software Rating Board).Эта ассоциация определяет рейтинг компьютерных игр и присваивает им подходящую возрастную категорию."
   ]
  },
  {
   "cell_type": "markdown",
   "metadata": {},
   "source": [
    "# Загрузка данных"
   ]
  },
  {
   "cell_type": "code",
   "execution_count": 1,
   "metadata": {},
   "outputs": [
    {
     "name": "stdout",
     "output_type": "stream",
     "text": [
      "Requirement already satisfied: missingno in /opt/conda/lib/python3.9/site-packages (0.5.2)\n",
      "Requirement already satisfied: seaborn in /opt/conda/lib/python3.9/site-packages (from missingno) (0.11.1)\n",
      "Requirement already satisfied: numpy in /opt/conda/lib/python3.9/site-packages (from missingno) (1.21.1)\n",
      "Requirement already satisfied: scipy in /opt/conda/lib/python3.9/site-packages (from missingno) (1.9.1)\n",
      "Requirement already satisfied: matplotlib in /opt/conda/lib/python3.9/site-packages (from missingno) (3.3.4)\n",
      "Requirement already satisfied: kiwisolver>=1.0.1 in /opt/conda/lib/python3.9/site-packages (from matplotlib->missingno) (1.4.4)\n",
      "Requirement already satisfied: pillow>=6.2.0 in /opt/conda/lib/python3.9/site-packages (from matplotlib->missingno) (8.4.0)\n",
      "Requirement already satisfied: pyparsing!=2.0.4,!=2.1.2,!=2.1.6,>=2.0.3 in /opt/conda/lib/python3.9/site-packages (from matplotlib->missingno) (2.4.7)\n",
      "Requirement already satisfied: python-dateutil>=2.1 in /opt/conda/lib/python3.9/site-packages (from matplotlib->missingno) (2.8.1)\n",
      "Requirement already satisfied: cycler>=0.10 in /opt/conda/lib/python3.9/site-packages (from matplotlib->missingno) (0.11.0)\n",
      "Requirement already satisfied: six>=1.5 in /opt/conda/lib/python3.9/site-packages (from python-dateutil>=2.1->matplotlib->missingno) (1.16.0)\n",
      "Requirement already satisfied: pandas>=0.23 in /opt/conda/lib/python3.9/site-packages (from seaborn->missingno) (1.2.4)\n",
      "Requirement already satisfied: pytz>=2017.3 in /opt/conda/lib/python3.9/site-packages (from pandas>=0.23->seaborn->missingno) (2021.1)\n",
      "Note: you may need to restart the kernel to use updated packages.\n"
     ]
    }
   ],
   "source": [
    "pip install missingno"
   ]
  },
  {
   "cell_type": "code",
   "execution_count": 2,
   "metadata": {},
   "outputs": [],
   "source": [
    "from scipy.stats import binom\n",
    "import numpy as np\n",
    "import matplotlib.pyplot as plt\n",
    "import missingno as msno\n",
    "import pandas as pd\n",
    "from scipy import stats as st\n",
    "import seaborn as sns"
   ]
  },
  {
   "cell_type": "code",
   "execution_count": 3,
   "metadata": {},
   "outputs": [],
   "source": [
    "df = pd.read_csv('/datasets/games.csv')"
   ]
  },
  {
   "cell_type": "code",
   "execution_count": 4,
   "metadata": {},
   "outputs": [
    {
     "data": {
      "text/html": [
       "<div>\n",
       "<style scoped>\n",
       "    .dataframe tbody tr th:only-of-type {\n",
       "        vertical-align: middle;\n",
       "    }\n",
       "\n",
       "    .dataframe tbody tr th {\n",
       "        vertical-align: top;\n",
       "    }\n",
       "\n",
       "    .dataframe thead th {\n",
       "        text-align: right;\n",
       "    }\n",
       "</style>\n",
       "<table border=\"1\" class=\"dataframe\">\n",
       "  <thead>\n",
       "    <tr style=\"text-align: right;\">\n",
       "      <th></th>\n",
       "      <th>Name</th>\n",
       "      <th>Platform</th>\n",
       "      <th>Year_of_Release</th>\n",
       "      <th>Genre</th>\n",
       "      <th>NA_sales</th>\n",
       "      <th>EU_sales</th>\n",
       "      <th>JP_sales</th>\n",
       "      <th>Other_sales</th>\n",
       "      <th>Critic_Score</th>\n",
       "      <th>User_Score</th>\n",
       "      <th>Rating</th>\n",
       "    </tr>\n",
       "  </thead>\n",
       "  <tbody>\n",
       "    <tr>\n",
       "      <th>0</th>\n",
       "      <td>Wii Sports</td>\n",
       "      <td>Wii</td>\n",
       "      <td>2006.0</td>\n",
       "      <td>Sports</td>\n",
       "      <td>41.36</td>\n",
       "      <td>28.96</td>\n",
       "      <td>3.77</td>\n",
       "      <td>8.45</td>\n",
       "      <td>76.0</td>\n",
       "      <td>8</td>\n",
       "      <td>E</td>\n",
       "    </tr>\n",
       "    <tr>\n",
       "      <th>1</th>\n",
       "      <td>Super Mario Bros.</td>\n",
       "      <td>NES</td>\n",
       "      <td>1985.0</td>\n",
       "      <td>Platform</td>\n",
       "      <td>29.08</td>\n",
       "      <td>3.58</td>\n",
       "      <td>6.81</td>\n",
       "      <td>0.77</td>\n",
       "      <td>NaN</td>\n",
       "      <td>NaN</td>\n",
       "      <td>NaN</td>\n",
       "    </tr>\n",
       "    <tr>\n",
       "      <th>2</th>\n",
       "      <td>Mario Kart Wii</td>\n",
       "      <td>Wii</td>\n",
       "      <td>2008.0</td>\n",
       "      <td>Racing</td>\n",
       "      <td>15.68</td>\n",
       "      <td>12.76</td>\n",
       "      <td>3.79</td>\n",
       "      <td>3.29</td>\n",
       "      <td>82.0</td>\n",
       "      <td>8.3</td>\n",
       "      <td>E</td>\n",
       "    </tr>\n",
       "    <tr>\n",
       "      <th>3</th>\n",
       "      <td>Wii Sports Resort</td>\n",
       "      <td>Wii</td>\n",
       "      <td>2009.0</td>\n",
       "      <td>Sports</td>\n",
       "      <td>15.61</td>\n",
       "      <td>10.93</td>\n",
       "      <td>3.28</td>\n",
       "      <td>2.95</td>\n",
       "      <td>80.0</td>\n",
       "      <td>8</td>\n",
       "      <td>E</td>\n",
       "    </tr>\n",
       "    <tr>\n",
       "      <th>4</th>\n",
       "      <td>Pokemon Red/Pokemon Blue</td>\n",
       "      <td>GB</td>\n",
       "      <td>1996.0</td>\n",
       "      <td>Role-Playing</td>\n",
       "      <td>11.27</td>\n",
       "      <td>8.89</td>\n",
       "      <td>10.22</td>\n",
       "      <td>1.00</td>\n",
       "      <td>NaN</td>\n",
       "      <td>NaN</td>\n",
       "      <td>NaN</td>\n",
       "    </tr>\n",
       "  </tbody>\n",
       "</table>\n",
       "</div>"
      ],
      "text/plain": [
       "                       Name Platform  Year_of_Release         Genre  NA_sales  \\\n",
       "0                Wii Sports      Wii           2006.0        Sports     41.36   \n",
       "1         Super Mario Bros.      NES           1985.0      Platform     29.08   \n",
       "2            Mario Kart Wii      Wii           2008.0        Racing     15.68   \n",
       "3         Wii Sports Resort      Wii           2009.0        Sports     15.61   \n",
       "4  Pokemon Red/Pokemon Blue       GB           1996.0  Role-Playing     11.27   \n",
       "\n",
       "   EU_sales  JP_sales  Other_sales  Critic_Score User_Score Rating  \n",
       "0     28.96      3.77         8.45          76.0          8      E  \n",
       "1      3.58      6.81         0.77           NaN        NaN    NaN  \n",
       "2     12.76      3.79         3.29          82.0        8.3      E  \n",
       "3     10.93      3.28         2.95          80.0          8      E  \n",
       "4      8.89     10.22         1.00           NaN        NaN    NaN  "
      ]
     },
     "execution_count": 4,
     "metadata": {},
     "output_type": "execute_result"
    }
   ],
   "source": [
    "df.head()"
   ]
  },
  {
   "cell_type": "code",
   "execution_count": 5,
   "metadata": {},
   "outputs": [
    {
     "name": "stdout",
     "output_type": "stream",
     "text": [
      "<class 'pandas.core.frame.DataFrame'>\n",
      "RangeIndex: 16715 entries, 0 to 16714\n",
      "Data columns (total 11 columns):\n",
      " #   Column           Non-Null Count  Dtype  \n",
      "---  ------           --------------  -----  \n",
      " 0   Name             16713 non-null  object \n",
      " 1   Platform         16715 non-null  object \n",
      " 2   Year_of_Release  16446 non-null  float64\n",
      " 3   Genre            16713 non-null  object \n",
      " 4   NA_sales         16715 non-null  float64\n",
      " 5   EU_sales         16715 non-null  float64\n",
      " 6   JP_sales         16715 non-null  float64\n",
      " 7   Other_sales      16715 non-null  float64\n",
      " 8   Critic_Score     8137 non-null   float64\n",
      " 9   User_Score       10014 non-null  object \n",
      " 10  Rating           9949 non-null   object \n",
      "dtypes: float64(6), object(5)\n",
      "memory usage: 1.4+ MB\n"
     ]
    }
   ],
   "source": [
    "df.info()"
   ]
  },
  {
   "cell_type": "markdown",
   "metadata": {},
   "source": [
    "Расмотрев полученые данные видно, что у некоторых столбцов не верный тип данных.Нужно изменить на верный.Всего 16715 записей,но их надо прорверить на дубликаты. "
   ]
  },
  {
   "cell_type": "markdown",
   "metadata": {},
   "source": [
    "# Предобработка данных"
   ]
  },
  {
   "cell_type": "markdown",
   "metadata": {},
   "source": [
    "### Замена названия столбцов"
   ]
  },
  {
   "cell_type": "code",
   "execution_count": 6,
   "metadata": {},
   "outputs": [],
   "source": [
    "new_name = []\n",
    "\n",
    "for i in df.columns:\n",
    "    i = i.lower()\n",
    "    new_name.append(i)\n",
    "\n",
    "df.columns = new_name"
   ]
  },
  {
   "cell_type": "markdown",
   "metadata": {},
   "source": [
    "Изменил регистр названия столбцов "
   ]
  },
  {
   "cell_type": "code",
   "execution_count": 7,
   "metadata": {},
   "outputs": [
    {
     "name": "stdout",
     "output_type": "stream",
     "text": [
      "<class 'pandas.core.frame.DataFrame'>\n",
      "RangeIndex: 16715 entries, 0 to 16714\n",
      "Data columns (total 11 columns):\n",
      " #   Column           Non-Null Count  Dtype  \n",
      "---  ------           --------------  -----  \n",
      " 0   name             16713 non-null  object \n",
      " 1   platform         16715 non-null  object \n",
      " 2   year_of_release  16446 non-null  float64\n",
      " 3   genre            16713 non-null  object \n",
      " 4   na_sales         16715 non-null  float64\n",
      " 5   eu_sales         16715 non-null  float64\n",
      " 6   jp_sales         16715 non-null  float64\n",
      " 7   other_sales      16715 non-null  float64\n",
      " 8   critic_score     8137 non-null   float64\n",
      " 9   user_score       10014 non-null  object \n",
      " 10  rating           9949 non-null   object \n",
      "dtypes: float64(6), object(5)\n",
      "memory usage: 1.4+ MB\n"
     ]
    }
   ],
   "source": [
    "df.info()"
   ]
  },
  {
   "cell_type": "code",
   "execution_count": 8,
   "metadata": {},
   "outputs": [
    {
     "data": {
      "text/plain": [
       "tbd    2424\n",
       "7.8     324\n",
       "8       290\n",
       "8.2     282\n",
       "8.3     254\n",
       "       ... \n",
       "2.3       2\n",
       "1.3       2\n",
       "0.5       2\n",
       "0         1\n",
       "9.7       1\n",
       "Name: user_score, Length: 96, dtype: int64"
      ]
     },
     "execution_count": 8,
     "metadata": {},
     "output_type": "execute_result"
    }
   ],
   "source": [
    "df.user_score.value_counts()"
   ]
  },
  {
   "cell_type": "markdown",
   "metadata": {},
   "source": [
    "Я подумал, что столбец users_score необходимо преоброзовать в тип float тк в нем в большинстве числовые данные,но позже я выяснил что в этом столбце так же присутствует запись tbd(предстоит оценить).Таких записей 2424 поэтому удалить их нельзя из за этого нельзя переобразовать тип данных этого столбца."
   ]
  },
  {
   "cell_type": "markdown",
   "metadata": {},
   "source": [
    "### Обработка пропусков"
   ]
  },
  {
   "cell_type": "code",
   "execution_count": 9,
   "metadata": {},
   "outputs": [
    {
     "data": {
      "image/png": "[encoded data removed]",
      "text/plain": [
       "<Figure size 1800x720 with 2 Axes>"
      ]
     },
     "metadata": {
      "needs_background": "light"
     },
     "output_type": "display_data"
    }
   ],
   "source": [
    "msno.matrix(df, labels=True)#много пропусков в столбцах user_score,critic_score и rating\n",
    "plt.show()"
   ]
  },
  {
   "cell_type": "markdown",
   "metadata": {},
   "source": [
    "Очень много пропусков в столбцах с рейтингом.Некоторые из этих игр еще не были оценены, но здесь явно, что то произошло с данными. Люди могли случайно не зполнить некоторые поля, но тк пропусков очен много скорее всего файл с данными исказился при отправке."
   ]
  },
  {
   "cell_type": "code",
   "execution_count": 10,
   "metadata": {},
   "outputs": [
    {
     "name": "stdout",
     "output_type": "stream",
     "text": [
      "name                  2\n",
      "platform              0\n",
      "year_of_release     269\n",
      "genre                 2\n",
      "na_sales              0\n",
      "eu_sales              0\n",
      "jp_sales              0\n",
      "other_sales           0\n",
      "critic_score       8578\n",
      "user_score         6701\n",
      "rating             6766\n",
      "dtype: int64\n",
      "(16715, 11)\n"
     ]
    }
   ],
   "source": [
    "print(df.isna().sum()) # в столбце rating 8578 пропусков(почти половна всех записей)\n",
    "print(df.shape) # всего 16715 записей"
   ]
  },
  {
   "cell_type": "code",
   "execution_count": 11,
   "metadata": {},
   "outputs": [
    {
     "name": "stdout",
     "output_type": "stream",
     "text": [
      "['8' nan '8.3' '8.5' '6.6' '8.4' '8.6' '7.7' '6.3' '7.4' '8.2' '9' '7.9'\n",
      " '8.1' '8.7' '7.1' '3.4' '5.3' '4.8' '3.2' '8.9' '6.4' '7.8' '7.5' '2.6'\n",
      " '7.2' '9.2' '7' '7.3' '4.3' '7.6' '5.7' '5' '9.1' '6.5' 'tbd' '8.8' '6.9'\n",
      " '9.4' '6.8' '6.1' '6.7' '5.4' '4' '4.9' '4.5' '9.3' '6.2' '4.2' '6' '3.7'\n",
      " '4.1' '5.8' '5.6' '5.5' '4.4' '4.6' '5.9' '3.9' '3.1' '2.9' '5.2' '3.3'\n",
      " '4.7' '5.1' '3.5' '2.5' '1.9' '3' '2.7' '2.2' '2' '9.5' '2.1' '3.6' '2.8'\n",
      " '1.8' '3.8' '0' '1.6' '9.6' '2.4' '1.7' '1.1' '0.3' '1.5' '0.7' '1.2'\n",
      " '2.3' '0.5' '1.3' '0.2' '0.6' '1.4' '0.9' '1' '9.7']\n",
      "\n",
      "['8' nan '8.3' '8.5' '6.6' '8.4' '8.6' '7.7' '6.3' '7.4' '8.2' '9' '7.9'\n",
      " '8.1' '8.7' '7.1' '3.4' '5.3' '4.8' '3.2' '8.9' '6.4' '7.8' '7.5' '2.6'\n",
      " '7.2' '9.2' '7' '7.3' '4.3' '7.6' '5.7' '5' '9.1' '6.5' '8.8' '6.9' '9.4'\n",
      " '6.8' '6.1' '6.7' '5.4' '4' '4.9' '4.5' '9.3' '6.2' '4.2' '6' '3.7' '4.1'\n",
      " '5.8' '5.6' '5.5' '4.4' '4.6' '5.9' '3.9' '3.1' '2.9' '5.2' '3.3' '4.7'\n",
      " '5.1' '3.5' '2.5' '1.9' '3' '2.7' '2.2' '2' '9.5' '2.1' '3.6' '2.8' '1.8'\n",
      " '3.8' '0' '1.6' '9.6' '2.4' '1.7' '1.1' '0.3' '1.5' '0.7' '1.2' '2.3'\n",
      " '0.5' '1.3' '0.2' '0.6' '1.4' '0.9' '1' '9.7']\n"
     ]
    }
   ],
   "source": [
    "print(df.user_score.unique())\n",
    "df.user_score = df.user_score.replace('tbd', np.nan)\n",
    "print()\n",
    "print(df.user_score.unique())"
   ]
  },
  {
   "cell_type": "markdown",
   "metadata": {},
   "source": [
    "В df встречаются такие данные как 'tbd'. Это сокращение расшифровывается, как:to be decided, что в переводе означает:'будет решено'. Заменил это значение на пропуск, что бы оно не мешало дальнейшему анализу."
   ]
  },
  {
   "cell_type": "markdown",
   "metadata": {},
   "source": [
    "### Изменение типов данных"
   ]
  },
  {
   "cell_type": "code",
   "execution_count": 12,
   "metadata": {},
   "outputs": [],
   "source": [
    "df = df.dropna(subset=['year_of_release'])"
   ]
  },
  {
   "cell_type": "markdown",
   "metadata": {},
   "source": [
    "Удалил пропуски в столбцес годами, тк их не много и эти данные важны для дальнейшего анализа\n"
   ]
  },
  {
   "cell_type": "code",
   "execution_count": 13,
   "metadata": {},
   "outputs": [],
   "source": [
    "df.year_of_release = df.year_of_release.astype('int')"
   ]
  },
  {
   "cell_type": "markdown",
   "metadata": {},
   "source": [
    "Год это целочисленное значение поэтому больше подойдет тип данных int."
   ]
  },
  {
   "cell_type": "code",
   "execution_count": 14,
   "metadata": {},
   "outputs": [],
   "source": [
    "df.user_score = df.user_score.astype('float')"
   ]
  },
  {
   "cell_type": "markdown",
   "metadata": {},
   "source": [
    "Изменил тип данных, тк теперь в этом столбце нет значения tbd, а это значит, что нет смысла оставлять эти данные типом object.\n"
   ]
  },
  {
   "cell_type": "markdown",
   "metadata": {},
   "source": [
    "### Удаление дубликатов"
   ]
  },
  {
   "cell_type": "code",
   "execution_count": 15,
   "metadata": {},
   "outputs": [
    {
     "name": "stdout",
     "output_type": "stream",
     "text": [
      "2\n",
      "Дубликаты успешно удалены.\n"
     ]
    }
   ],
   "source": [
    "print(df.duplicated(subset=['name', 'platform', 'year_of_release']).sum()) #дубликаты не найдны\n",
    "\n",
    "df = df.drop_duplicates(subset=['name', 'platform', 'year_of_release'])\n",
    "\n",
    "if df.duplicated().sum() == 0:\n",
    "    print(\"Дубликаты успешно удалены.\")\n",
    "else:\n",
    "    print(\"Произошла ошибка при удалении дубликатов.\")"
   ]
  },
  {
   "cell_type": "markdown",
   "metadata": {},
   "source": [
    "### Добавление нового столбца"
   ]
  },
  {
   "cell_type": "code",
   "execution_count": 16,
   "metadata": {},
   "outputs": [],
   "source": [
    "df['sales_total'] = df.na_sales + df.eu_sales + df.jp_sales + df.other_sales"
   ]
  },
  {
   "cell_type": "markdown",
   "metadata": {},
   "source": [
    "Создал столбцец с сумарными продажами по регионам.\n"
   ]
  },
  {
   "cell_type": "code",
   "execution_count": 17,
   "metadata": {},
   "outputs": [
    {
     "name": "stdout",
     "output_type": "stream",
     "text": [
      "<class 'pandas.core.frame.DataFrame'>\n",
      "Int64Index: 16444 entries, 0 to 16714\n",
      "Data columns (total 12 columns):\n",
      " #   Column           Non-Null Count  Dtype  \n",
      "---  ------           --------------  -----  \n",
      " 0   name             16443 non-null  object \n",
      " 1   platform         16444 non-null  object \n",
      " 2   year_of_release  16444 non-null  int64  \n",
      " 3   genre            16443 non-null  object \n",
      " 4   na_sales         16444 non-null  float64\n",
      " 5   eu_sales         16444 non-null  float64\n",
      " 6   jp_sales         16444 non-null  float64\n",
      " 7   other_sales      16444 non-null  float64\n",
      " 8   critic_score     7982 non-null   float64\n",
      " 9   user_score       7462 non-null   float64\n",
      " 10  rating           9767 non-null   object \n",
      " 11  sales_total      16444 non-null  float64\n",
      "dtypes: float64(7), int64(1), object(4)\n",
      "memory usage: 1.6+ MB\n"
     ]
    }
   ],
   "source": [
    "df.info()"
   ]
  },
  {
   "cell_type": "markdown",
   "metadata": {},
   "source": [
    "<b>Вывод по предобработке данных</b> \n",
    "<div>Я изменил тип данных для года выпуска игр, удалил дубликаты и пропуски в годах релиза, добавил столбец с сумарными продажами по всем регионам.\n"
   ]
  },
  {
   "cell_type": "markdown",
   "metadata": {},
   "source": [
    "# Иследовательский анализ"
   ]
  },
  {
   "cell_type": "code",
   "execution_count": 18,
   "metadata": {},
   "outputs": [],
   "source": [
    "def plotbar(df, ind, val, func, name, x, y):  # написал функцию чтобы не повторялся код\n",
    "    data = df.pivot_table(index=ind, values=val, aggfunc=func)\n",
    "    data.plot.bar()\n",
    "    plt.title(name)\n",
    "    plt.xlabel(x)\n",
    "    plt.ylabel(y)\n",
    "    plt.figure(figsize=(12, 8))\n",
    "    plt.show()\n",
    "\n",
    "def plotbar_filtered(df, ind, val, func, name, x, y):  # написал функцию чтобы не повторялся код\n",
    "    data = df.pivot_table(index=ind, values=val, aggfunc=func).sort_values(by = val,ascending = False)\n",
    "    data.plot.bar()\n",
    "    plt.title(name)\n",
    "    plt.xlabel(x)\n",
    "    plt.ylabel(y)\n",
    "    plt.figure(figsize=(10, 6))\n",
    "    plt.show()"
   ]
  },
  {
   "cell_type": "markdown",
   "metadata": {},
   "source": [
    "### Выпуск игр по годам"
   ]
  },
  {
   "cell_type": "code",
   "execution_count": 19,
   "metadata": {},
   "outputs": [
    {
     "data": {
      "text/html": [
       "<div>\n",
       "<style scoped>\n",
       "    .dataframe tbody tr th:only-of-type {\n",
       "        vertical-align: middle;\n",
       "    }\n",
       "\n",
       "    .dataframe tbody tr th {\n",
       "        vertical-align: top;\n",
       "    }\n",
       "\n",
       "    .dataframe thead th {\n",
       "        text-align: right;\n",
       "    }\n",
       "</style>\n",
       "<table border=\"1\" class=\"dataframe\">\n",
       "  <thead>\n",
       "    <tr style=\"text-align: right;\">\n",
       "      <th></th>\n",
       "      <th>name</th>\n",
       "    </tr>\n",
       "    <tr>\n",
       "      <th>year_of_release</th>\n",
       "      <th></th>\n",
       "    </tr>\n",
       "  </thead>\n",
       "  <tbody>\n",
       "    <tr>\n",
       "      <th>1980</th>\n",
       "      <td>9</td>\n",
       "    </tr>\n",
       "    <tr>\n",
       "      <th>1981</th>\n",
       "      <td>46</td>\n",
       "    </tr>\n",
       "    <tr>\n",
       "      <th>1982</th>\n",
       "      <td>36</td>\n",
       "    </tr>\n",
       "    <tr>\n",
       "      <th>1983</th>\n",
       "      <td>17</td>\n",
       "    </tr>\n",
       "    <tr>\n",
       "      <th>1984</th>\n",
       "      <td>14</td>\n",
       "    </tr>\n",
       "    <tr>\n",
       "      <th>1985</th>\n",
       "      <td>14</td>\n",
       "    </tr>\n",
       "    <tr>\n",
       "      <th>1986</th>\n",
       "      <td>21</td>\n",
       "    </tr>\n",
       "    <tr>\n",
       "      <th>1987</th>\n",
       "      <td>16</td>\n",
       "    </tr>\n",
       "    <tr>\n",
       "      <th>1988</th>\n",
       "      <td>15</td>\n",
       "    </tr>\n",
       "    <tr>\n",
       "      <th>1989</th>\n",
       "      <td>17</td>\n",
       "    </tr>\n",
       "    <tr>\n",
       "      <th>1990</th>\n",
       "      <td>16</td>\n",
       "    </tr>\n",
       "    <tr>\n",
       "      <th>1991</th>\n",
       "      <td>41</td>\n",
       "    </tr>\n",
       "    <tr>\n",
       "      <th>1992</th>\n",
       "      <td>43</td>\n",
       "    </tr>\n",
       "    <tr>\n",
       "      <th>1993</th>\n",
       "      <td>60</td>\n",
       "    </tr>\n",
       "    <tr>\n",
       "      <th>1994</th>\n",
       "      <td>121</td>\n",
       "    </tr>\n",
       "    <tr>\n",
       "      <th>1995</th>\n",
       "      <td>219</td>\n",
       "    </tr>\n",
       "    <tr>\n",
       "      <th>1996</th>\n",
       "      <td>263</td>\n",
       "    </tr>\n",
       "    <tr>\n",
       "      <th>1997</th>\n",
       "      <td>289</td>\n",
       "    </tr>\n",
       "    <tr>\n",
       "      <th>1998</th>\n",
       "      <td>379</td>\n",
       "    </tr>\n",
       "    <tr>\n",
       "      <th>1999</th>\n",
       "      <td>338</td>\n",
       "    </tr>\n",
       "    <tr>\n",
       "      <th>2000</th>\n",
       "      <td>350</td>\n",
       "    </tr>\n",
       "    <tr>\n",
       "      <th>2001</th>\n",
       "      <td>482</td>\n",
       "    </tr>\n",
       "    <tr>\n",
       "      <th>2002</th>\n",
       "      <td>829</td>\n",
       "    </tr>\n",
       "    <tr>\n",
       "      <th>2003</th>\n",
       "      <td>775</td>\n",
       "    </tr>\n",
       "    <tr>\n",
       "      <th>2004</th>\n",
       "      <td>762</td>\n",
       "    </tr>\n",
       "    <tr>\n",
       "      <th>2005</th>\n",
       "      <td>939</td>\n",
       "    </tr>\n",
       "    <tr>\n",
       "      <th>2006</th>\n",
       "      <td>1006</td>\n",
       "    </tr>\n",
       "    <tr>\n",
       "      <th>2007</th>\n",
       "      <td>1197</td>\n",
       "    </tr>\n",
       "    <tr>\n",
       "      <th>2008</th>\n",
       "      <td>1427</td>\n",
       "    </tr>\n",
       "    <tr>\n",
       "      <th>2009</th>\n",
       "      <td>1426</td>\n",
       "    </tr>\n",
       "    <tr>\n",
       "      <th>2010</th>\n",
       "      <td>1255</td>\n",
       "    </tr>\n",
       "    <tr>\n",
       "      <th>2011</th>\n",
       "      <td>1136</td>\n",
       "    </tr>\n",
       "    <tr>\n",
       "      <th>2012</th>\n",
       "      <td>652</td>\n",
       "    </tr>\n",
       "    <tr>\n",
       "      <th>2013</th>\n",
       "      <td>544</td>\n",
       "    </tr>\n",
       "    <tr>\n",
       "      <th>2014</th>\n",
       "      <td>581</td>\n",
       "    </tr>\n",
       "    <tr>\n",
       "      <th>2015</th>\n",
       "      <td>606</td>\n",
       "    </tr>\n",
       "    <tr>\n",
       "      <th>2016</th>\n",
       "      <td>502</td>\n",
       "    </tr>\n",
       "  </tbody>\n",
       "</table>\n",
       "</div>"
      ],
      "text/plain": [
       "                 name\n",
       "year_of_release      \n",
       "1980                9\n",
       "1981               46\n",
       "1982               36\n",
       "1983               17\n",
       "1984               14\n",
       "1985               14\n",
       "1986               21\n",
       "1987               16\n",
       "1988               15\n",
       "1989               17\n",
       "1990               16\n",
       "1991               41\n",
       "1992               43\n",
       "1993               60\n",
       "1994              121\n",
       "1995              219\n",
       "1996              263\n",
       "1997              289\n",
       "1998              379\n",
       "1999              338\n",
       "2000              350\n",
       "2001              482\n",
       "2002              829\n",
       "2003              775\n",
       "2004              762\n",
       "2005              939\n",
       "2006             1006\n",
       "2007             1197\n",
       "2008             1427\n",
       "2009             1426\n",
       "2010             1255\n",
       "2011             1136\n",
       "2012              652\n",
       "2013              544\n",
       "2014              581\n",
       "2015              606\n",
       "2016              502"
      ]
     },
     "execution_count": 19,
     "metadata": {},
     "output_type": "execute_result"
    }
   ],
   "source": [
    "years = pd.pivot_table(df, index='year_of_release', values='name',\n",
    "                       aggfunc='count')  # сводная таблица по количеству игр выпущенных в разные года\n",
    "years"
   ]
  },
  {
   "cell_type": "code",
   "execution_count": 20,
   "metadata": {},
   "outputs": [
    {
     "data": {
      "image/png": "[encoded data removed]",
      "text/plain": [
       "<Figure size 432x288 with 1 Axes>"
      ]
     },
     "metadata": {
      "needs_background": "light"
     },
     "output_type": "display_data"
    },
    {
     "data": {
      "text/plain": [
       "<Figure size 864x576 with 0 Axes>"
      ]
     },
     "metadata": {},
     "output_type": "display_data"
    }
   ],
   "source": [
    "plotbar(df, 'year_of_release', 'name', 'count', 'Количество игр по годам', 'Года выпуска', 'Количество игр')"
   ]
  },
  {
   "cell_type": "markdown",
   "metadata": {},
   "source": [
    "С 2001 начался сильный рост количества выпущеных игр.Больше всего игр было выпущено в период с 2008 по 2009.После 2009 количество выпускаемых игр пошло на спад."
   ]
  },
  {
   "cell_type": "markdown",
   "metadata": {},
   "source": [
    "### Изменения по платформам"
   ]
  },
  {
   "cell_type": "code",
   "execution_count": 21,
   "metadata": {},
   "outputs": [
    {
     "data": {
      "text/html": [
       "<div>\n",
       "<style scoped>\n",
       "    .dataframe tbody tr th:only-of-type {\n",
       "        vertical-align: middle;\n",
       "    }\n",
       "\n",
       "    .dataframe tbody tr th {\n",
       "        vertical-align: top;\n",
       "    }\n",
       "\n",
       "    .dataframe thead th {\n",
       "        text-align: right;\n",
       "    }\n",
       "</style>\n",
       "<table border=\"1\" class=\"dataframe\">\n",
       "  <thead>\n",
       "    <tr style=\"text-align: right;\">\n",
       "      <th></th>\n",
       "      <th></th>\n",
       "      <th>sales_total</th>\n",
       "    </tr>\n",
       "    <tr>\n",
       "      <th>platform</th>\n",
       "      <th>year_of_release</th>\n",
       "      <th></th>\n",
       "    </tr>\n",
       "  </thead>\n",
       "  <tbody>\n",
       "    <tr>\n",
       "      <th rowspan=\"5\" valign=\"top\">2600</th>\n",
       "      <th>1980</th>\n",
       "      <td>11.38</td>\n",
       "    </tr>\n",
       "    <tr>\n",
       "      <th>1981</th>\n",
       "      <td>35.68</td>\n",
       "    </tr>\n",
       "    <tr>\n",
       "      <th>1982</th>\n",
       "      <td>28.88</td>\n",
       "    </tr>\n",
       "    <tr>\n",
       "      <th>1983</th>\n",
       "      <td>5.84</td>\n",
       "    </tr>\n",
       "    <tr>\n",
       "      <th>1984</th>\n",
       "      <td>0.27</td>\n",
       "    </tr>\n",
       "    <tr>\n",
       "      <th>...</th>\n",
       "      <th>...</th>\n",
       "      <td>...</td>\n",
       "    </tr>\n",
       "    <tr>\n",
       "      <th>XB</th>\n",
       "      <th>2008</th>\n",
       "      <td>0.18</td>\n",
       "    </tr>\n",
       "    <tr>\n",
       "      <th rowspan=\"4\" valign=\"top\">XOne</th>\n",
       "      <th>2013</th>\n",
       "      <td>18.96</td>\n",
       "    </tr>\n",
       "    <tr>\n",
       "      <th>2014</th>\n",
       "      <td>54.07</td>\n",
       "    </tr>\n",
       "    <tr>\n",
       "      <th>2015</th>\n",
       "      <td>60.14</td>\n",
       "    </tr>\n",
       "    <tr>\n",
       "      <th>2016</th>\n",
       "      <td>26.15</td>\n",
       "    </tr>\n",
       "  </tbody>\n",
       "</table>\n",
       "<p>238 rows × 1 columns</p>\n",
       "</div>"
      ],
      "text/plain": [
       "                          sales_total\n",
       "platform year_of_release             \n",
       "2600     1980                   11.38\n",
       "         1981                   35.68\n",
       "         1982                   28.88\n",
       "         1983                    5.84\n",
       "         1984                    0.27\n",
       "...                               ...\n",
       "XB       2008                    0.18\n",
       "XOne     2013                   18.96\n",
       "         2014                   54.07\n",
       "         2015                   60.14\n",
       "         2016                   26.15\n",
       "\n",
       "[238 rows x 1 columns]"
      ]
     },
     "execution_count": 21,
     "metadata": {},
     "output_type": "execute_result"
    }
   ],
   "source": [
    "platforms_per_year = pd.pivot_table(df, index=['platform', 'year_of_release'], values='sales_total',\n",
    "                                    aggfunc='sum')  # продажи всех платформ по годам\n",
    "platforms_per_year"
   ]
  },
  {
   "cell_type": "code",
   "execution_count": 22,
   "metadata": {},
   "outputs": [
    {
     "data": {
      "text/html": [
       "<div>\n",
       "<style scoped>\n",
       "    .dataframe tbody tr th:only-of-type {\n",
       "        vertical-align: middle;\n",
       "    }\n",
       "\n",
       "    .dataframe tbody tr th {\n",
       "        vertical-align: top;\n",
       "    }\n",
       "\n",
       "    .dataframe thead th {\n",
       "        text-align: right;\n",
       "    }\n",
       "</style>\n",
       "<table border=\"1\" class=\"dataframe\">\n",
       "  <thead>\n",
       "    <tr style=\"text-align: right;\">\n",
       "      <th></th>\n",
       "      <th>sales_total</th>\n",
       "    </tr>\n",
       "    <tr>\n",
       "      <th>platform</th>\n",
       "      <th></th>\n",
       "    </tr>\n",
       "  </thead>\n",
       "  <tbody>\n",
       "    <tr>\n",
       "      <th>PS2</th>\n",
       "      <td>1233.56</td>\n",
       "    </tr>\n",
       "    <tr>\n",
       "      <th>X360</th>\n",
       "      <td>961.24</td>\n",
       "    </tr>\n",
       "    <tr>\n",
       "      <th>PS3</th>\n",
       "      <td>931.33</td>\n",
       "    </tr>\n",
       "    <tr>\n",
       "      <th>Wii</th>\n",
       "      <td>891.18</td>\n",
       "    </tr>\n",
       "    <tr>\n",
       "      <th>DS</th>\n",
       "      <td>802.78</td>\n",
       "    </tr>\n",
       "  </tbody>\n",
       "</table>\n",
       "</div>"
      ],
      "text/plain": [
       "          sales_total\n",
       "platform             \n",
       "PS2           1233.56\n",
       "X360           961.24\n",
       "PS3            931.33\n",
       "Wii            891.18\n",
       "DS             802.78"
      ]
     },
     "execution_count": 22,
     "metadata": {},
     "output_type": "execute_result"
    }
   ],
   "source": [
    "platforms_top = pd.pivot_table(df, index='platform', values='sales_total', aggfunc='sum').sort_values(by='sales_total',\n",
    "                                                                                                      ascending=False)\n",
    "platforms_top.head(5)"
   ]
  },
  {
   "cell_type": "markdown",
   "metadata": {},
   "source": [
    "Больше всего продаж у PS2,X360,Wii,PS3,DS\n"
   ]
  },
  {
   "cell_type": "code",
   "execution_count": 23,
   "metadata": {},
   "outputs": [],
   "source": [
    "def platform_year_stat(platform, name, x, y):  # написал функцию чтобы не повторялся код\n",
    "    data = df[df['platform'] == platform].pivot_table(index='year_of_release', values='sales_total', aggfunc='sum')\n",
    "    data.plot.bar()\n",
    "    plt.title(name)\n",
    "    plt.xlabel(x)\n",
    "    plt.ylabel(y)\n",
    "    plt.show()"
   ]
  },
  {
   "cell_type": "code",
   "execution_count": 24,
   "metadata": {},
   "outputs": [
    {
     "data": {
      "image/png": "[encoded data removed]",
      "text/plain": [
       "<Figure size 432x288 with 1 Axes>"
      ]
     },
     "metadata": {
      "needs_background": "light"
     },
     "output_type": "display_data"
    }
   ],
   "source": [
    "platform_year_stat('PS2', 'Продажи по годам для PS2', 'Годы продаж', 'Количество продаж')"
   ]
  },
  {
   "cell_type": "code",
   "execution_count": 25,
   "metadata": {},
   "outputs": [
    {
     "data": {
      "image/png": "[encoded data removed]",
      "text/plain": [
       "<Figure size 432x288 with 1 Axes>"
      ]
     },
     "metadata": {
      "needs_background": "light"
     },
     "output_type": "display_data"
    }
   ],
   "source": [
    "platform_year_stat('X360', 'Продажи по годам для X360', 'Годы продаж', 'Количество продаж')"
   ]
  },
  {
   "cell_type": "code",
   "execution_count": 26,
   "metadata": {},
   "outputs": [
    {
     "data": {
      "image/png": "[encoded data removed]",
      "text/plain": [
       "<Figure size 432x288 with 1 Axes>"
      ]
     },
     "metadata": {
      "needs_background": "light"
     },
     "output_type": "display_data"
    }
   ],
   "source": [
    "platform_year_stat('PS3', 'Продажи по годам для PS3', 'Годы продаж', 'Количество продаж')"
   ]
  },
  {
   "cell_type": "code",
   "execution_count": 27,
   "metadata": {},
   "outputs": [
    {
     "data": {
      "image/png": "[encoded data removed]",
      "text/plain": [
       "<Figure size 432x288 with 1 Axes>"
      ]
     },
     "metadata": {
      "needs_background": "light"
     },
     "output_type": "display_data"
    }
   ],
   "source": [
    "platform_year_stat('Wii', 'Продажи по годам для Wii', 'Годы продаж', 'Количество продаж')"
   ]
  },
  {
   "cell_type": "code",
   "execution_count": 28,
   "metadata": {},
   "outputs": [
    {
     "data": {
      "image/png": "[encoded data removed]",
      "text/plain": [
       "<Figure size 432x288 with 1 Axes>"
      ]
     },
     "metadata": {
      "needs_background": "light"
     },
     "output_type": "display_data"
    }
   ],
   "source": [
    "platform_year_stat('DS', 'Продажи по годам для DS', 'Годы продаж', 'Количество продаж')"
   ]
  },
  {
   "cell_type": "markdown",
   "metadata": {},
   "source": [
    "Построил графики с рапределением продаж для самых популярных платформ\n"
   ]
  },
  {
   "cell_type": "code",
   "execution_count": 29,
   "metadata": {},
   "outputs": [
    {
     "data": {
      "text/html": [
       "<div>\n",
       "<style scoped>\n",
       "    .dataframe tbody tr th:only-of-type {\n",
       "        vertical-align: middle;\n",
       "    }\n",
       "\n",
       "    .dataframe tbody tr th {\n",
       "        vertical-align: top;\n",
       "    }\n",
       "\n",
       "    .dataframe thead th {\n",
       "        text-align: right;\n",
       "    }\n",
       "</style>\n",
       "<table border=\"1\" class=\"dataframe\">\n",
       "  <thead>\n",
       "    <tr style=\"text-align: right;\">\n",
       "      <th></th>\n",
       "      <th>platform</th>\n",
       "      <th>first_year</th>\n",
       "      <th>last_year</th>\n",
       "    </tr>\n",
       "  </thead>\n",
       "  <tbody>\n",
       "    <tr>\n",
       "      <th>0</th>\n",
       "      <td>2600</td>\n",
       "      <td>1980</td>\n",
       "      <td>1989</td>\n",
       "    </tr>\n",
       "    <tr>\n",
       "      <th>1</th>\n",
       "      <td>3DO</td>\n",
       "      <td>1994</td>\n",
       "      <td>1995</td>\n",
       "    </tr>\n",
       "    <tr>\n",
       "      <th>2</th>\n",
       "      <td>3DS</td>\n",
       "      <td>2011</td>\n",
       "      <td>2016</td>\n",
       "    </tr>\n",
       "    <tr>\n",
       "      <th>3</th>\n",
       "      <td>DC</td>\n",
       "      <td>1998</td>\n",
       "      <td>2008</td>\n",
       "    </tr>\n",
       "    <tr>\n",
       "      <th>4</th>\n",
       "      <td>DS</td>\n",
       "      <td>1985</td>\n",
       "      <td>2013</td>\n",
       "    </tr>\n",
       "    <tr>\n",
       "      <th>5</th>\n",
       "      <td>GB</td>\n",
       "      <td>1988</td>\n",
       "      <td>2001</td>\n",
       "    </tr>\n",
       "    <tr>\n",
       "      <th>6</th>\n",
       "      <td>GBA</td>\n",
       "      <td>2000</td>\n",
       "      <td>2007</td>\n",
       "    </tr>\n",
       "    <tr>\n",
       "      <th>7</th>\n",
       "      <td>GC</td>\n",
       "      <td>2001</td>\n",
       "      <td>2007</td>\n",
       "    </tr>\n",
       "    <tr>\n",
       "      <th>8</th>\n",
       "      <td>GEN</td>\n",
       "      <td>1990</td>\n",
       "      <td>1994</td>\n",
       "    </tr>\n",
       "    <tr>\n",
       "      <th>9</th>\n",
       "      <td>GG</td>\n",
       "      <td>1992</td>\n",
       "      <td>1992</td>\n",
       "    </tr>\n",
       "    <tr>\n",
       "      <th>10</th>\n",
       "      <td>N64</td>\n",
       "      <td>1996</td>\n",
       "      <td>2002</td>\n",
       "    </tr>\n",
       "    <tr>\n",
       "      <th>11</th>\n",
       "      <td>NES</td>\n",
       "      <td>1983</td>\n",
       "      <td>1994</td>\n",
       "    </tr>\n",
       "    <tr>\n",
       "      <th>12</th>\n",
       "      <td>NG</td>\n",
       "      <td>1993</td>\n",
       "      <td>1996</td>\n",
       "    </tr>\n",
       "    <tr>\n",
       "      <th>13</th>\n",
       "      <td>PC</td>\n",
       "      <td>1985</td>\n",
       "      <td>2016</td>\n",
       "    </tr>\n",
       "    <tr>\n",
       "      <th>14</th>\n",
       "      <td>PCFX</td>\n",
       "      <td>1996</td>\n",
       "      <td>1996</td>\n",
       "    </tr>\n",
       "    <tr>\n",
       "      <th>15</th>\n",
       "      <td>PS</td>\n",
       "      <td>1994</td>\n",
       "      <td>2003</td>\n",
       "    </tr>\n",
       "    <tr>\n",
       "      <th>16</th>\n",
       "      <td>PS2</td>\n",
       "      <td>2000</td>\n",
       "      <td>2011</td>\n",
       "    </tr>\n",
       "    <tr>\n",
       "      <th>17</th>\n",
       "      <td>PS3</td>\n",
       "      <td>2006</td>\n",
       "      <td>2016</td>\n",
       "    </tr>\n",
       "    <tr>\n",
       "      <th>18</th>\n",
       "      <td>PS4</td>\n",
       "      <td>2013</td>\n",
       "      <td>2016</td>\n",
       "    </tr>\n",
       "    <tr>\n",
       "      <th>19</th>\n",
       "      <td>PSP</td>\n",
       "      <td>2004</td>\n",
       "      <td>2015</td>\n",
       "    </tr>\n",
       "    <tr>\n",
       "      <th>20</th>\n",
       "      <td>PSV</td>\n",
       "      <td>2011</td>\n",
       "      <td>2016</td>\n",
       "    </tr>\n",
       "    <tr>\n",
       "      <th>21</th>\n",
       "      <td>SAT</td>\n",
       "      <td>1994</td>\n",
       "      <td>1999</td>\n",
       "    </tr>\n",
       "    <tr>\n",
       "      <th>22</th>\n",
       "      <td>SCD</td>\n",
       "      <td>1993</td>\n",
       "      <td>1994</td>\n",
       "    </tr>\n",
       "    <tr>\n",
       "      <th>23</th>\n",
       "      <td>SNES</td>\n",
       "      <td>1990</td>\n",
       "      <td>1999</td>\n",
       "    </tr>\n",
       "    <tr>\n",
       "      <th>24</th>\n",
       "      <td>TG16</td>\n",
       "      <td>1995</td>\n",
       "      <td>1995</td>\n",
       "    </tr>\n",
       "    <tr>\n",
       "      <th>25</th>\n",
       "      <td>WS</td>\n",
       "      <td>1999</td>\n",
       "      <td>2001</td>\n",
       "    </tr>\n",
       "    <tr>\n",
       "      <th>26</th>\n",
       "      <td>Wii</td>\n",
       "      <td>2006</td>\n",
       "      <td>2016</td>\n",
       "    </tr>\n",
       "    <tr>\n",
       "      <th>27</th>\n",
       "      <td>WiiU</td>\n",
       "      <td>2012</td>\n",
       "      <td>2016</td>\n",
       "    </tr>\n",
       "    <tr>\n",
       "      <th>28</th>\n",
       "      <td>X360</td>\n",
       "      <td>2005</td>\n",
       "      <td>2016</td>\n",
       "    </tr>\n",
       "    <tr>\n",
       "      <th>29</th>\n",
       "      <td>XB</td>\n",
       "      <td>2000</td>\n",
       "      <td>2008</td>\n",
       "    </tr>\n",
       "    <tr>\n",
       "      <th>30</th>\n",
       "      <td>XOne</td>\n",
       "      <td>2013</td>\n",
       "      <td>2016</td>\n",
       "    </tr>\n",
       "  </tbody>\n",
       "</table>\n",
       "</div>"
      ],
      "text/plain": [
       "   platform  first_year  last_year\n",
       "0      2600        1980       1989\n",
       "1       3DO        1994       1995\n",
       "2       3DS        2011       2016\n",
       "3        DC        1998       2008\n",
       "4        DS        1985       2013\n",
       "5        GB        1988       2001\n",
       "6       GBA        2000       2007\n",
       "7        GC        2001       2007\n",
       "8       GEN        1990       1994\n",
       "9        GG        1992       1992\n",
       "10      N64        1996       2002\n",
       "11      NES        1983       1994\n",
       "12       NG        1993       1996\n",
       "13       PC        1985       2016\n",
       "14     PCFX        1996       1996\n",
       "15       PS        1994       2003\n",
       "16      PS2        2000       2011\n",
       "17      PS3        2006       2016\n",
       "18      PS4        2013       2016\n",
       "19      PSP        2004       2015\n",
       "20      PSV        2011       2016\n",
       "21      SAT        1994       1999\n",
       "22      SCD        1993       1994\n",
       "23     SNES        1990       1999\n",
       "24     TG16        1995       1995\n",
       "25       WS        1999       2001\n",
       "26      Wii        2006       2016\n",
       "27     WiiU        2012       2016\n",
       "28     X360        2005       2016\n",
       "29       XB        2000       2008\n",
       "30     XOne        2013       2016"
      ]
     },
     "execution_count": 29,
     "metadata": {},
     "output_type": "execute_result"
    }
   ],
   "source": [
    "platform_first_year = df.groupby('platform')['year_of_release'].min().reset_index()\n",
    "platform_last_year = df.groupby('platform')['year_of_release'].max().reset_index()\n",
    "platform_first_year.columns = ['platform', 'first_year']\n",
    "platform_last_year.columns = ['platform', 'last_year']\n",
    "platform_years = pd.merge(platform_first_year, platform_last_year, on='platform')\n",
    "platform_years#составил таблицу с данными о первом и последнем годах платформ"
   ]
  },
  {
   "cell_type": "code",
   "execution_count": 30,
   "metadata": {},
   "outputs": [
    {
     "data": {
      "image/png": "[encoded data removed]",
      "text/plain": [
       "<Figure size 432x288 with 1 Axes>"
      ]
     },
     "metadata": {
      "needs_background": "light"
     },
     "output_type": "display_data"
    }
   ],
   "source": [
    "x = platform_years.loc[platform_years['last_year'] == 2016, 'last_year'] = np.nan#данные заканчиваются на 2016 а это значит, что платформа могла не закрыться\n",
    "plt.hist([platform_years['first_year'], platform_years['last_year']], bins=20, label=['Первый год', 'Последний год'])\n",
    "plt.title('Выпуск за первый и последний год различных платформ')\n",
    "plt.xlabel('Год выпуска')\n",
    "plt.ylabel('Количество платформ')\n",
    "plt.legend()\n",
    "plt.show()"
   ]
  },
  {
   "cell_type": "markdown",
   "metadata": {},
   "source": [
    "графики показали что больше всего платформ появилось в период с 1990 по 2005 год, а больше всего ушло в период с 1995 по 2010\n"
   ]
  },
  {
   "cell_type": "markdown",
   "metadata": {},
   "source": [
    "### Предсказание для рынка платформ"
   ]
  },
  {
   "cell_type": "code",
   "execution_count": 31,
   "metadata": {},
   "outputs": [
    {
     "name": "stdout",
     "output_type": "stream",
     "text": [
      "    platform  year_of_release  sales_total\n",
      "12       3DS             2011        63.20\n",
      "13       3DS             2012        51.36\n",
      "14       3DS             2013        56.57\n",
      "15       3DS             2014        43.76\n",
      "16       3DS             2015        27.78\n",
      "17       3DS             2016        15.14\n",
      "32        DS             2010        85.02\n",
      "33        DS             2011        26.18\n",
      "34        DS             2012        11.01\n",
      "35        DS             2013         1.54\n",
      "112       PC             2010        24.28\n",
      "113       PC             2011        35.03\n",
      "114       PC             2012        23.22\n",
      "115       PC             2013        12.38\n",
      "116       PC             2014        13.28\n",
      "117       PC             2015         8.52\n",
      "118       PC             2016         5.25\n",
      "140      PS2             2010         5.64\n",
      "141      PS2             2011         0.45\n",
      "146      PS3             2010       142.17\n",
      "147      PS3             2011       156.78\n",
      "148      PS3             2012       107.35\n",
      "149      PS3             2013       113.25\n",
      "150      PS3             2014        47.76\n",
      "151      PS3             2015        16.82\n",
      "152      PS3             2016         3.60\n",
      "153      PS4             2013        25.99\n",
      "154      PS4             2014       100.00\n",
      "155      PS4             2015       118.90\n",
      "156      PS4             2016        69.25\n",
      "163      PSP             2010        35.04\n",
      "164      PSP             2011        17.82\n",
      "165      PSP             2012         7.69\n",
      "166      PSP             2013         3.14\n",
      "167      PSP             2014         0.24\n",
      "168      PSP             2015         0.12\n",
      "169      PSV             2011         4.63\n",
      "170      PSV             2012        16.19\n",
      "171      PSV             2013        10.59\n",
      "172      PSV             2014        11.90\n",
      "173      PSV             2015         6.25\n",
      "174      PSV             2016         4.25\n",
      "201      Wii             2010       127.95\n",
      "202      Wii             2011        59.65\n",
      "203      Wii             2012        21.71\n",
      "204      Wii             2013         8.59\n",
      "205      Wii             2014         3.75\n",
      "206      Wii             2015         1.14\n",
      "207      Wii             2016         0.18\n",
      "208     WiiU             2012        17.56\n",
      "209     WiiU             2013        21.65\n",
      "210     WiiU             2014        22.03\n",
      "211     WiiU             2015        16.35\n",
      "212     WiiU             2016         4.60\n",
      "218     X360             2010       170.03\n",
      "219     X360             2011       143.84\n",
      "220     X360             2012        99.74\n",
      "221     X360             2013        88.58\n",
      "222     X360             2014        34.74\n",
      "223     X360             2015        11.96\n",
      "224     X360             2016         1.52\n",
      "234     XOne             2013        18.96\n",
      "235     XOne             2014        54.07\n",
      "236     XOne             2015        60.14\n",
      "237     XOne             2016        26.15\n"
     ]
    }
   ],
   "source": [
    "#изучив данные я понял, что в среднем плаформы имеют выские продажи около 5-7 лет.Это и определяет актуальный период, но я округлил до 10 отталкиваясь от анных графика.\n",
    "with pd.option_context('display.max_rows', None, 'display.max_columns', None):\n",
    "    platforms_per_year = platforms_per_year.reset_index()\n",
    "    print(platforms_per_year.query(\"year_of_release >= 2010\").to_string())"
   ]
  },
  {
   "cell_type": "code",
   "execution_count": 32,
   "metadata": {},
   "outputs": [],
   "source": [
    "def analyze_platform_trend(data, years_to_check=3):\n",
    "    result_df = pd.DataFrame(columns=['Platform', 'Status'])\n",
    "    grouped_data = data.groupby('platform')\n",
    "    \n",
    "    for platform, platform_data in grouped_data:\n",
    "        if len(platform_data) < years_to_check or platform_data.year_of_release.max() != 2016:\n",
    "            status = 'Платформа закрылась'\n",
    "        else:\n",
    "            sales_change = platform_data.sales_total.pct_change().head(years_to_check).mean()\n",
    "            status = 'Продажи растут. Платформа выгодна для вложения' if sales_change > 0 else 'Продажи падают. Платформа может скоро закрыться'\n",
    "        result_df = result_df.append({'Platform': platform, 'Status': status}, ignore_index=True)\n",
    "    \n",
    "    return result_df"
   ]
  },
  {
   "cell_type": "code",
   "execution_count": 33,
   "metadata": {},
   "outputs": [
    {
     "data": {
      "text/html": [
       "<div>\n",
       "<style scoped>\n",
       "    .dataframe tbody tr th:only-of-type {\n",
       "        vertical-align: middle;\n",
       "    }\n",
       "\n",
       "    .dataframe tbody tr th {\n",
       "        vertical-align: top;\n",
       "    }\n",
       "\n",
       "    .dataframe thead th {\n",
       "        text-align: right;\n",
       "    }\n",
       "</style>\n",
       "<table border=\"1\" class=\"dataframe\">\n",
       "  <thead>\n",
       "    <tr style=\"text-align: right;\">\n",
       "      <th></th>\n",
       "      <th>Platform</th>\n",
       "      <th>Status</th>\n",
       "    </tr>\n",
       "  </thead>\n",
       "  <tbody>\n",
       "    <tr>\n",
       "      <th>0</th>\n",
       "      <td>3DS</td>\n",
       "      <td>Продажи падают. Платформа может скоро закрыться</td>\n",
       "    </tr>\n",
       "    <tr>\n",
       "      <th>1</th>\n",
       "      <td>DS</td>\n",
       "      <td>Платформа закрылась</td>\n",
       "    </tr>\n",
       "    <tr>\n",
       "      <th>2</th>\n",
       "      <td>PC</td>\n",
       "      <td>Продажи падают. Платформа может скоро закрыться</td>\n",
       "    </tr>\n",
       "    <tr>\n",
       "      <th>3</th>\n",
       "      <td>PS3</td>\n",
       "      <td>Продажи падают. Платформа может скоро закрыться</td>\n",
       "    </tr>\n",
       "    <tr>\n",
       "      <th>4</th>\n",
       "      <td>PS4</td>\n",
       "      <td>Продажи растут. Платформа выгодна для вложения</td>\n",
       "    </tr>\n",
       "    <tr>\n",
       "      <th>5</th>\n",
       "      <td>PSP</td>\n",
       "      <td>Платформа закрылась</td>\n",
       "    </tr>\n",
       "    <tr>\n",
       "      <th>6</th>\n",
       "      <td>PSV</td>\n",
       "      <td>Продажи падают. Платформа может скоро закрыться</td>\n",
       "    </tr>\n",
       "    <tr>\n",
       "      <th>7</th>\n",
       "      <td>Wii</td>\n",
       "      <td>Продажи падают. Платформа может скоро закрыться</td>\n",
       "    </tr>\n",
       "    <tr>\n",
       "      <th>8</th>\n",
       "      <td>WiiU</td>\n",
       "      <td>Продажи падают. Платформа может скоро закрыться</td>\n",
       "    </tr>\n",
       "    <tr>\n",
       "      <th>9</th>\n",
       "      <td>X360</td>\n",
       "      <td>Продажи падают. Платформа может скоро закрыться</td>\n",
       "    </tr>\n",
       "    <tr>\n",
       "      <th>10</th>\n",
       "      <td>XOne</td>\n",
       "      <td>Продажи растут. Платформа выгодна для вложения</td>\n",
       "    </tr>\n",
       "  </tbody>\n",
       "</table>\n",
       "</div>"
      ],
      "text/plain": [
       "   Platform                                           Status\n",
       "0       3DS  Продажи падают. Платформа может скоро закрыться\n",
       "1        DS                              Платформа закрылась\n",
       "2        PC  Продажи падают. Платформа может скоро закрыться\n",
       "3       PS3  Продажи падают. Платформа может скоро закрыться\n",
       "4       PS4   Продажи растут. Платформа выгодна для вложения\n",
       "5       PSP                              Платформа закрылась\n",
       "6       PSV  Продажи падают. Платформа может скоро закрыться\n",
       "7       Wii  Продажи падают. Платформа может скоро закрыться\n",
       "8      WiiU  Продажи падают. Платформа может скоро закрыться\n",
       "9      X360  Продажи падают. Платформа может скоро закрыться\n",
       "10     XOne   Продажи растут. Платформа выгодна для вложения"
      ]
     },
     "execution_count": 33,
     "metadata": {},
     "output_type": "execute_result"
    }
   ],
   "source": [
    "actual_data = df.query(\"year_of_release >= 2013\")\n",
    "actual_data_platforms = platforms_per_year.query(\"year_of_release >= 2013\")\n",
    "analyze_platform_trend(actual_data_platforms)"
   ]
  },
  {
   "cell_type": "markdown",
   "metadata": {},
   "source": [
    "Написал свою функцию для выбора актуальной для вложения платформы на актуальный период. Возможно эта функция могла бы лечь в основу обучения модели для предсказания для вложений.\n"
   ]
  },
  {
   "cell_type": "code",
   "execution_count": 34,
   "metadata": {},
   "outputs": [
    {
     "data": {
      "text/html": [
       "<div>\n",
       "<style scoped>\n",
       "    .dataframe tbody tr th:only-of-type {\n",
       "        vertical-align: middle;\n",
       "    }\n",
       "\n",
       "    .dataframe tbody tr th {\n",
       "        vertical-align: top;\n",
       "    }\n",
       "\n",
       "    .dataframe thead th {\n",
       "        text-align: right;\n",
       "    }\n",
       "</style>\n",
       "<table border=\"1\" class=\"dataframe\">\n",
       "  <thead>\n",
       "    <tr style=\"text-align: right;\">\n",
       "      <th></th>\n",
       "      <th>sales_total</th>\n",
       "    </tr>\n",
       "    <tr>\n",
       "      <th>platform</th>\n",
       "      <th></th>\n",
       "    </tr>\n",
       "  </thead>\n",
       "  <tbody>\n",
       "    <tr>\n",
       "      <th>PS4</th>\n",
       "      <td>314.14</td>\n",
       "    </tr>\n",
       "    <tr>\n",
       "      <th>PS3</th>\n",
       "      <td>181.43</td>\n",
       "    </tr>\n",
       "    <tr>\n",
       "      <th>XOne</th>\n",
       "      <td>159.32</td>\n",
       "    </tr>\n",
       "    <tr>\n",
       "      <th>3DS</th>\n",
       "      <td>143.25</td>\n",
       "    </tr>\n",
       "    <tr>\n",
       "      <th>X360</th>\n",
       "      <td>136.80</td>\n",
       "    </tr>\n",
       "  </tbody>\n",
       "</table>\n",
       "</div>"
      ],
      "text/plain": [
       "          sales_total\n",
       "platform             \n",
       "PS4            314.14\n",
       "PS3            181.43\n",
       "XOne           159.32\n",
       "3DS            143.25\n",
       "X360           136.80"
      ]
     },
     "execution_count": 34,
     "metadata": {},
     "output_type": "execute_result"
    }
   ],
   "source": [
    "platforms_top_actual = pd.pivot_table(actual_data, index='platform', values='sales_total', aggfunc='sum').sort_values(by='sales_total',\n",
    "                                                                                                      ascending=False)\n",
    "platforms_top_actual.head(5)"
   ]
  },
  {
   "cell_type": "markdown",
   "metadata": {},
   "source": [
    "Уже ранее написанная функция для нахождения самых больших по продажам платформ и функция описывающая рост или падения продаж показали, что самое крупные платформы либо закрылись, либо их продажи падают.\n"
   ]
  },
  {
   "cell_type": "markdown",
   "metadata": {},
   "source": [
    "### Распределние продаж по платформам"
   ]
  },
  {
   "cell_type": "code",
   "execution_count": 35,
   "metadata": {},
   "outputs": [
    {
     "data": {
      "text/html": [
       "<div>\n",
       "<style scoped>\n",
       "    .dataframe tbody tr th:only-of-type {\n",
       "        vertical-align: middle;\n",
       "    }\n",
       "\n",
       "    .dataframe tbody tr th {\n",
       "        vertical-align: top;\n",
       "    }\n",
       "\n",
       "    .dataframe thead th {\n",
       "        text-align: right;\n",
       "    }\n",
       "</style>\n",
       "<table border=\"1\" class=\"dataframe\">\n",
       "  <thead>\n",
       "    <tr style=\"text-align: right;\">\n",
       "      <th></th>\n",
       "      <th>name</th>\n",
       "      <th>platform</th>\n",
       "      <th>year_of_release</th>\n",
       "      <th>genre</th>\n",
       "      <th>na_sales</th>\n",
       "      <th>eu_sales</th>\n",
       "      <th>jp_sales</th>\n",
       "      <th>other_sales</th>\n",
       "      <th>critic_score</th>\n",
       "      <th>user_score</th>\n",
       "      <th>rating</th>\n",
       "      <th>sales_total</th>\n",
       "    </tr>\n",
       "  </thead>\n",
       "  <tbody>\n",
       "    <tr>\n",
       "      <th>16</th>\n",
       "      <td>Grand Theft Auto V</td>\n",
       "      <td>PS3</td>\n",
       "      <td>2013</td>\n",
       "      <td>Action</td>\n",
       "      <td>7.02</td>\n",
       "      <td>9.09</td>\n",
       "      <td>0.98</td>\n",
       "      <td>3.96</td>\n",
       "      <td>97.0</td>\n",
       "      <td>8.2</td>\n",
       "      <td>M</td>\n",
       "      <td>21.05</td>\n",
       "    </tr>\n",
       "    <tr>\n",
       "      <th>23</th>\n",
       "      <td>Grand Theft Auto V</td>\n",
       "      <td>X360</td>\n",
       "      <td>2013</td>\n",
       "      <td>Action</td>\n",
       "      <td>9.66</td>\n",
       "      <td>5.14</td>\n",
       "      <td>0.06</td>\n",
       "      <td>1.41</td>\n",
       "      <td>97.0</td>\n",
       "      <td>8.1</td>\n",
       "      <td>M</td>\n",
       "      <td>16.27</td>\n",
       "    </tr>\n",
       "    <tr>\n",
       "      <th>31</th>\n",
       "      <td>Call of Duty: Black Ops 3</td>\n",
       "      <td>PS4</td>\n",
       "      <td>2015</td>\n",
       "      <td>Shooter</td>\n",
       "      <td>6.03</td>\n",
       "      <td>5.86</td>\n",
       "      <td>0.36</td>\n",
       "      <td>2.38</td>\n",
       "      <td>NaN</td>\n",
       "      <td>NaN</td>\n",
       "      <td>NaN</td>\n",
       "      <td>14.63</td>\n",
       "    </tr>\n",
       "    <tr>\n",
       "      <th>33</th>\n",
       "      <td>Pokemon X/Pokemon Y</td>\n",
       "      <td>3DS</td>\n",
       "      <td>2013</td>\n",
       "      <td>Role-Playing</td>\n",
       "      <td>5.28</td>\n",
       "      <td>4.19</td>\n",
       "      <td>4.35</td>\n",
       "      <td>0.78</td>\n",
       "      <td>NaN</td>\n",
       "      <td>NaN</td>\n",
       "      <td>NaN</td>\n",
       "      <td>14.60</td>\n",
       "    </tr>\n",
       "    <tr>\n",
       "      <th>42</th>\n",
       "      <td>Grand Theft Auto V</td>\n",
       "      <td>PS4</td>\n",
       "      <td>2014</td>\n",
       "      <td>Action</td>\n",
       "      <td>3.96</td>\n",
       "      <td>6.31</td>\n",
       "      <td>0.38</td>\n",
       "      <td>1.97</td>\n",
       "      <td>97.0</td>\n",
       "      <td>8.3</td>\n",
       "      <td>M</td>\n",
       "      <td>12.62</td>\n",
       "    </tr>\n",
       "  </tbody>\n",
       "</table>\n",
       "</div>"
      ],
      "text/plain": [
       "                         name platform  year_of_release         genre  \\\n",
       "16         Grand Theft Auto V      PS3             2013        Action   \n",
       "23         Grand Theft Auto V     X360             2013        Action   \n",
       "31  Call of Duty: Black Ops 3      PS4             2015       Shooter   \n",
       "33        Pokemon X/Pokemon Y      3DS             2013  Role-Playing   \n",
       "42         Grand Theft Auto V      PS4             2014        Action   \n",
       "\n",
       "    na_sales  eu_sales  jp_sales  other_sales  critic_score  user_score  \\\n",
       "16      7.02      9.09      0.98         3.96          97.0         8.2   \n",
       "23      9.66      5.14      0.06         1.41          97.0         8.1   \n",
       "31      6.03      5.86      0.36         2.38           NaN         NaN   \n",
       "33      5.28      4.19      4.35         0.78           NaN         NaN   \n",
       "42      3.96      6.31      0.38         1.97          97.0         8.3   \n",
       "\n",
       "   rating  sales_total  \n",
       "16      M        21.05  \n",
       "23      M        16.27  \n",
       "31    NaN        14.63  \n",
       "33    NaN        14.60  \n",
       "42      M        12.62  "
      ]
     },
     "execution_count": 35,
     "metadata": {},
     "output_type": "execute_result"
    }
   ],
   "source": [
    "actual_data.head()"
   ]
  },
  {
   "cell_type": "code",
   "execution_count": 36,
   "metadata": {},
   "outputs": [
    {
     "data": {
      "image/png": "[encoded data removed]",
      "text/plain": [
       "<Figure size 1008x432 with 2 Axes>"
      ]
     },
     "metadata": {
      "needs_background": "light"
     },
     "output_type": "display_data"
    }
   ],
   "source": [
    "plt.figure(figsize=(14, 6))\n",
    "\n",
    "plt.subplot(1, 2, 1)\n",
    "sns.boxplot(x='platform', y='sales_total', data=actual_data)\n",
    "plt.title(\"Диаграммы размаха по продажам (без ограничения)\")\n",
    "plt.xlabel(\"Платформа\")\n",
    "plt.ylabel(\"Общие продажи (млн)\")\n",
    "\n",
    "plt.subplot(1, 2, 2)\n",
    "sns.boxplot(x='platform', y='sales_total', data=actual_data)\n",
    "plt.ylim(0, 5)\n",
    "plt.title(\"Диаграммы размаха по продажам (с ограничением)\")\n",
    "plt.xlabel(\"Платформа\")\n",
    "plt.ylabel(\"Общие продажи (млн)\")\n",
    "\n",
    "plt.tight_layout()\n",
    "\n",
    "plt.show()"
   ]
  },
  {
   "cell_type": "markdown",
   "metadata": {},
   "source": [
    "Построил графики размаха,для визуализации разброса значений по платформам.\n"
   ]
  },
  {
   "cell_type": "code",
   "execution_count": 37,
   "metadata": {},
   "outputs": [],
   "source": [
    "class Platforms_analyse():\n",
    "    @staticmethod\n",
    "    def plat_data(platform):\n",
    "        return actual_data.query(\"platform == @platform\")\n",
    "\n",
    "    @staticmethod\n",
    "    def scatter_user(plat_df):\n",
    "        plt.figure(figsize=(14, 10))\n",
    "        data = plat_df.copy()\n",
    "        data['user_score'] = pd.to_numeric(data['user_score'], errors='coerce')\n",
    "        plt.scatter(data['user_score'], data['sales_total'], label='Отзывы пользователей',\n",
    "                color='blue')\n",
    "        plt.title('Диаграмма рассеяния зависимости продаж от отзывов пользователей')\n",
    "        plt.xlabel('Отзывы')\n",
    "        plt.ylabel('Продажи')\n",
    "\n",
    "        plt.show()\n",
    "\n",
    "\n",
    "    @staticmethod\n",
    "    def scatter_critic(plat_df):\n",
    "        plt.figure(figsize=(14, 10))\n",
    "        data = plat_df.copy()\n",
    "\n",
    "        data['critic_score'] = pd.to_numeric(data['critic_score'], errors='coerce')\n",
    "\n",
    "        plt.scatter(data['critic_score'], data['sales_total'], label='Отзывы критиков',\n",
    "                color='red')\n",
    "        plt.title('Диаграмма рассеяния зависимости продаж от отзывов критиков')\n",
    "        plt.xlabel('Отзывы')\n",
    "        plt.ylabel('Продажи')\n",
    "\n",
    "\n",
    "        plt.show()\n",
    "\n",
    "    @staticmethod\n",
    "    def plat_corr(plat_df):\n",
    "        plat_df['user_score'] = pd.to_numeric(plat_df['user_score'], errors='coerce')\n",
    "        plat_df['critic_score'] = pd.to_numeric(plat_df['critic_score'], errors='coerce')\n",
    "        correlation_user = plat_df['sales_total'].corr(plat_df['user_score'])\n",
    "        correlation_critic = plat_df['sales_total'].corr(plat_df['critic_score'])\n",
    "        print(\"Кореляция между продажами и оценкой пользователей:\", correlation_user)\n",
    "        print(\"Кореляция между продажами и оценкой критиков:\", correlation_critic)\n"
   ]
  },
  {
   "cell_type": "markdown",
   "metadata": {},
   "source": [
    "Для сокращения кода лучше написать класс(изначально я его не писал тк не знал, что придется проделывать эти действия для еще 3 платформ\n"
   ]
  },
  {
   "cell_type": "markdown",
   "metadata": {},
   "source": [
    "### Данные для PS4"
   ]
  },
  {
   "cell_type": "code",
   "execution_count": 38,
   "metadata": {
    "scrolled": true
   },
   "outputs": [
    {
     "data": {
      "text/html": [
       "<div>\n",
       "<style scoped>\n",
       "    .dataframe tbody tr th:only-of-type {\n",
       "        vertical-align: middle;\n",
       "    }\n",
       "\n",
       "    .dataframe tbody tr th {\n",
       "        vertical-align: top;\n",
       "    }\n",
       "\n",
       "    .dataframe thead th {\n",
       "        text-align: right;\n",
       "    }\n",
       "</style>\n",
       "<table border=\"1\" class=\"dataframe\">\n",
       "  <thead>\n",
       "    <tr style=\"text-align: right;\">\n",
       "      <th></th>\n",
       "      <th>name</th>\n",
       "      <th>platform</th>\n",
       "      <th>year_of_release</th>\n",
       "      <th>genre</th>\n",
       "      <th>na_sales</th>\n",
       "      <th>eu_sales</th>\n",
       "      <th>jp_sales</th>\n",
       "      <th>other_sales</th>\n",
       "      <th>critic_score</th>\n",
       "      <th>user_score</th>\n",
       "      <th>rating</th>\n",
       "      <th>sales_total</th>\n",
       "    </tr>\n",
       "  </thead>\n",
       "  <tbody>\n",
       "    <tr>\n",
       "      <th>31</th>\n",
       "      <td>Call of Duty: Black Ops 3</td>\n",
       "      <td>PS4</td>\n",
       "      <td>2015</td>\n",
       "      <td>Shooter</td>\n",
       "      <td>6.03</td>\n",
       "      <td>5.86</td>\n",
       "      <td>0.36</td>\n",
       "      <td>2.38</td>\n",
       "      <td>NaN</td>\n",
       "      <td>NaN</td>\n",
       "      <td>NaN</td>\n",
       "      <td>14.63</td>\n",
       "    </tr>\n",
       "    <tr>\n",
       "      <th>42</th>\n",
       "      <td>Grand Theft Auto V</td>\n",
       "      <td>PS4</td>\n",
       "      <td>2014</td>\n",
       "      <td>Action</td>\n",
       "      <td>3.96</td>\n",
       "      <td>6.31</td>\n",
       "      <td>0.38</td>\n",
       "      <td>1.97</td>\n",
       "      <td>97.0</td>\n",
       "      <td>8.3</td>\n",
       "      <td>M</td>\n",
       "      <td>12.62</td>\n",
       "    </tr>\n",
       "    <tr>\n",
       "      <th>77</th>\n",
       "      <td>FIFA 16</td>\n",
       "      <td>PS4</td>\n",
       "      <td>2015</td>\n",
       "      <td>Sports</td>\n",
       "      <td>1.12</td>\n",
       "      <td>6.12</td>\n",
       "      <td>0.06</td>\n",
       "      <td>1.28</td>\n",
       "      <td>82.0</td>\n",
       "      <td>4.3</td>\n",
       "      <td>E</td>\n",
       "      <td>8.58</td>\n",
       "    </tr>\n",
       "    <tr>\n",
       "      <th>87</th>\n",
       "      <td>Star Wars Battlefront (2015)</td>\n",
       "      <td>PS4</td>\n",
       "      <td>2015</td>\n",
       "      <td>Shooter</td>\n",
       "      <td>2.99</td>\n",
       "      <td>3.49</td>\n",
       "      <td>0.22</td>\n",
       "      <td>1.28</td>\n",
       "      <td>NaN</td>\n",
       "      <td>NaN</td>\n",
       "      <td>NaN</td>\n",
       "      <td>7.98</td>\n",
       "    </tr>\n",
       "    <tr>\n",
       "      <th>92</th>\n",
       "      <td>Call of Duty: Advanced Warfare</td>\n",
       "      <td>PS4</td>\n",
       "      <td>2014</td>\n",
       "      <td>Shooter</td>\n",
       "      <td>2.81</td>\n",
       "      <td>3.48</td>\n",
       "      <td>0.14</td>\n",
       "      <td>1.23</td>\n",
       "      <td>83.0</td>\n",
       "      <td>5.7</td>\n",
       "      <td>M</td>\n",
       "      <td>7.66</td>\n",
       "    </tr>\n",
       "    <tr>\n",
       "      <th>...</th>\n",
       "      <td>...</td>\n",
       "      <td>...</td>\n",
       "      <td>...</td>\n",
       "      <td>...</td>\n",
       "      <td>...</td>\n",
       "      <td>...</td>\n",
       "      <td>...</td>\n",
       "      <td>...</td>\n",
       "      <td>...</td>\n",
       "      <td>...</td>\n",
       "      <td>...</td>\n",
       "      <td>...</td>\n",
       "    </tr>\n",
       "    <tr>\n",
       "      <th>16500</th>\n",
       "      <td>Root Letter</td>\n",
       "      <td>PS4</td>\n",
       "      <td>2016</td>\n",
       "      <td>Adventure</td>\n",
       "      <td>0.00</td>\n",
       "      <td>0.00</td>\n",
       "      <td>0.01</td>\n",
       "      <td>0.00</td>\n",
       "      <td>69.0</td>\n",
       "      <td>7.5</td>\n",
       "      <td>NaN</td>\n",
       "      <td>0.01</td>\n",
       "    </tr>\n",
       "    <tr>\n",
       "      <th>16503</th>\n",
       "      <td>Shin Hayarigami 2</td>\n",
       "      <td>PS4</td>\n",
       "      <td>2016</td>\n",
       "      <td>Adventure</td>\n",
       "      <td>0.00</td>\n",
       "      <td>0.00</td>\n",
       "      <td>0.01</td>\n",
       "      <td>0.00</td>\n",
       "      <td>NaN</td>\n",
       "      <td>NaN</td>\n",
       "      <td>NaN</td>\n",
       "      <td>0.01</td>\n",
       "    </tr>\n",
       "    <tr>\n",
       "      <th>16526</th>\n",
       "      <td>Dungeons 2</td>\n",
       "      <td>PS4</td>\n",
       "      <td>2016</td>\n",
       "      <td>Role-Playing</td>\n",
       "      <td>0.01</td>\n",
       "      <td>0.00</td>\n",
       "      <td>0.00</td>\n",
       "      <td>0.00</td>\n",
       "      <td>61.0</td>\n",
       "      <td>7.9</td>\n",
       "      <td>T</td>\n",
       "      <td>0.01</td>\n",
       "    </tr>\n",
       "    <tr>\n",
       "      <th>16530</th>\n",
       "      <td>Carmageddon: Max Damage</td>\n",
       "      <td>PS4</td>\n",
       "      <td>2016</td>\n",
       "      <td>Action</td>\n",
       "      <td>0.01</td>\n",
       "      <td>0.00</td>\n",
       "      <td>0.00</td>\n",
       "      <td>0.00</td>\n",
       "      <td>51.0</td>\n",
       "      <td>5.5</td>\n",
       "      <td>M</td>\n",
       "      <td>0.01</td>\n",
       "    </tr>\n",
       "    <tr>\n",
       "      <th>16585</th>\n",
       "      <td>Farming 2017 - The Simulation</td>\n",
       "      <td>PS4</td>\n",
       "      <td>2016</td>\n",
       "      <td>Simulation</td>\n",
       "      <td>0.00</td>\n",
       "      <td>0.01</td>\n",
       "      <td>0.00</td>\n",
       "      <td>0.00</td>\n",
       "      <td>NaN</td>\n",
       "      <td>NaN</td>\n",
       "      <td>NaN</td>\n",
       "      <td>0.01</td>\n",
       "    </tr>\n",
       "  </tbody>\n",
       "</table>\n",
       "<p>392 rows × 12 columns</p>\n",
       "</div>"
      ],
      "text/plain": [
       "                                 name platform  year_of_release         genre  \\\n",
       "31          Call of Duty: Black Ops 3      PS4             2015       Shooter   \n",
       "42                 Grand Theft Auto V      PS4             2014        Action   \n",
       "77                            FIFA 16      PS4             2015        Sports   \n",
       "87       Star Wars Battlefront (2015)      PS4             2015       Shooter   \n",
       "92     Call of Duty: Advanced Warfare      PS4             2014       Shooter   \n",
       "...                               ...      ...              ...           ...   \n",
       "16500                     Root Letter      PS4             2016     Adventure   \n",
       "16503               Shin Hayarigami 2      PS4             2016     Adventure   \n",
       "16526                      Dungeons 2      PS4             2016  Role-Playing   \n",
       "16530         Carmageddon: Max Damage      PS4             2016        Action   \n",
       "16585   Farming 2017 - The Simulation      PS4             2016    Simulation   \n",
       "\n",
       "       na_sales  eu_sales  jp_sales  other_sales  critic_score  user_score  \\\n",
       "31         6.03      5.86      0.36         2.38           NaN         NaN   \n",
       "42         3.96      6.31      0.38         1.97          97.0         8.3   \n",
       "77         1.12      6.12      0.06         1.28          82.0         4.3   \n",
       "87         2.99      3.49      0.22         1.28           NaN         NaN   \n",
       "92         2.81      3.48      0.14         1.23          83.0         5.7   \n",
       "...         ...       ...       ...          ...           ...         ...   \n",
       "16500      0.00      0.00      0.01         0.00          69.0         7.5   \n",
       "16503      0.00      0.00      0.01         0.00           NaN         NaN   \n",
       "16526      0.01      0.00      0.00         0.00          61.0         7.9   \n",
       "16530      0.01      0.00      0.00         0.00          51.0         5.5   \n",
       "16585      0.00      0.01      0.00         0.00           NaN         NaN   \n",
       "\n",
       "      rating  sales_total  \n",
       "31       NaN        14.63  \n",
       "42         M        12.62  \n",
       "77         E         8.58  \n",
       "87       NaN         7.98  \n",
       "92         M         7.66  \n",
       "...      ...          ...  \n",
       "16500    NaN         0.01  \n",
       "16503    NaN         0.01  \n",
       "16526      T         0.01  \n",
       "16530      M         0.01  \n",
       "16585    NaN         0.01  \n",
       "\n",
       "[392 rows x 12 columns]"
      ]
     },
     "execution_count": 38,
     "metadata": {},
     "output_type": "execute_result"
    }
   ],
   "source": [
    "platform_analyzer = Platforms_analyse()\n",
    "ps4_data = platform_analyzer.plat_data(\"PS4\")\n",
    "ps4_data"
   ]
  },
  {
   "cell_type": "code",
   "execution_count": 39,
   "metadata": {
    "scrolled": false
   },
   "outputs": [
    {
     "data": {
      "image/png": "[encoded data removed]",
      "text/plain": [
       "<Figure size 1008x720 with 1 Axes>"
      ]
     },
     "metadata": {
      "needs_background": "light"
     },
     "output_type": "display_data"
    },
    {
     "data": {
      "image/png": "[encoded data removed]",
      "text/plain": [
       "<Figure size 1008x720 with 1 Axes>"
      ]
     },
     "metadata": {
      "needs_background": "light"
     },
     "output_type": "display_data"
    }
   ],
   "source": [
    "platform_analyzer.scatter_user(ps4_data)\n",
    "platform_analyzer.scatter_critic(ps4_data)"
   ]
  },
  {
   "cell_type": "code",
   "execution_count": 40,
   "metadata": {
    "scrolled": true
   },
   "outputs": [
    {
     "name": "stdout",
     "output_type": "stream",
     "text": [
      "Кореляция между продажами и оценкой пользователей: -0.031957110204556376\n",
      "Кореляция между продажами и оценкой критиков: 0.406567902061781\n"
     ]
    },
    {
     "name": "stderr",
     "output_type": "stream",
     "text": [
      "/tmp/ipykernel_164/117147021.py:38: SettingWithCopyWarning: \n",
      "A value is trying to be set on a copy of a slice from a DataFrame.\n",
      "Try using .loc[row_indexer,col_indexer] = value instead\n",
      "\n",
      "See the caveats in the documentation: https://pandas.pydata.org/pandas-docs/stable/user_guide/indexing.html#returning-a-view-versus-a-copy\n",
      "  plat_df['user_score'] = pd.to_numeric(plat_df['user_score'], errors='coerce')\n",
      "/tmp/ipykernel_164/117147021.py:39: SettingWithCopyWarning: \n",
      "A value is trying to be set on a copy of a slice from a DataFrame.\n",
      "Try using .loc[row_indexer,col_indexer] = value instead\n",
      "\n",
      "See the caveats in the documentation: https://pandas.pydata.org/pandas-docs/stable/user_guide/indexing.html#returning-a-view-versus-a-copy\n",
      "  plat_df['critic_score'] = pd.to_numeric(plat_df['critic_score'], errors='coerce')\n"
     ]
    }
   ],
   "source": [
    "platform_analyzer.plat_corr(ps4_data)"
   ]
  },
  {
   "cell_type": "markdown",
   "metadata": {},
   "source": [
    "### Данные для PS3"
   ]
  },
  {
   "cell_type": "code",
   "execution_count": 41,
   "metadata": {
    "scrolled": true
   },
   "outputs": [
    {
     "data": {
      "text/html": [
       "<div>\n",
       "<style scoped>\n",
       "    .dataframe tbody tr th:only-of-type {\n",
       "        vertical-align: middle;\n",
       "    }\n",
       "\n",
       "    .dataframe tbody tr th {\n",
       "        vertical-align: top;\n",
       "    }\n",
       "\n",
       "    .dataframe thead th {\n",
       "        text-align: right;\n",
       "    }\n",
       "</style>\n",
       "<table border=\"1\" class=\"dataframe\">\n",
       "  <thead>\n",
       "    <tr style=\"text-align: right;\">\n",
       "      <th></th>\n",
       "      <th>name</th>\n",
       "      <th>platform</th>\n",
       "      <th>year_of_release</th>\n",
       "      <th>genre</th>\n",
       "      <th>na_sales</th>\n",
       "      <th>eu_sales</th>\n",
       "      <th>jp_sales</th>\n",
       "      <th>other_sales</th>\n",
       "      <th>critic_score</th>\n",
       "      <th>user_score</th>\n",
       "      <th>rating</th>\n",
       "      <th>sales_total</th>\n",
       "    </tr>\n",
       "  </thead>\n",
       "  <tbody>\n",
       "    <tr>\n",
       "      <th>16</th>\n",
       "      <td>Grand Theft Auto V</td>\n",
       "      <td>PS3</td>\n",
       "      <td>2013</td>\n",
       "      <td>Action</td>\n",
       "      <td>7.02</td>\n",
       "      <td>9.09</td>\n",
       "      <td>0.98</td>\n",
       "      <td>3.96</td>\n",
       "      <td>97.0</td>\n",
       "      <td>8.2</td>\n",
       "      <td>M</td>\n",
       "      <td>21.05</td>\n",
       "    </tr>\n",
       "    <tr>\n",
       "      <th>69</th>\n",
       "      <td>Call of Duty: Ghosts</td>\n",
       "      <td>PS3</td>\n",
       "      <td>2013</td>\n",
       "      <td>Shooter</td>\n",
       "      <td>4.10</td>\n",
       "      <td>3.63</td>\n",
       "      <td>0.38</td>\n",
       "      <td>1.25</td>\n",
       "      <td>71.0</td>\n",
       "      <td>2.6</td>\n",
       "      <td>M</td>\n",
       "      <td>9.36</td>\n",
       "    </tr>\n",
       "    <tr>\n",
       "      <th>126</th>\n",
       "      <td>FIFA 14</td>\n",
       "      <td>PS3</td>\n",
       "      <td>2013</td>\n",
       "      <td>Sports</td>\n",
       "      <td>0.78</td>\n",
       "      <td>4.24</td>\n",
       "      <td>0.07</td>\n",
       "      <td>1.37</td>\n",
       "      <td>86.0</td>\n",
       "      <td>4.3</td>\n",
       "      <td>E</td>\n",
       "      <td>6.46</td>\n",
       "    </tr>\n",
       "    <tr>\n",
       "      <th>149</th>\n",
       "      <td>The Last of Us</td>\n",
       "      <td>PS3</td>\n",
       "      <td>2013</td>\n",
       "      <td>Action</td>\n",
       "      <td>2.41</td>\n",
       "      <td>2.18</td>\n",
       "      <td>0.28</td>\n",
       "      <td>0.99</td>\n",
       "      <td>95.0</td>\n",
       "      <td>9.1</td>\n",
       "      <td>M</td>\n",
       "      <td>5.86</td>\n",
       "    </tr>\n",
       "    <tr>\n",
       "      <th>180</th>\n",
       "      <td>Minecraft</td>\n",
       "      <td>PS3</td>\n",
       "      <td>2014</td>\n",
       "      <td>Misc</td>\n",
       "      <td>2.03</td>\n",
       "      <td>2.37</td>\n",
       "      <td>0.00</td>\n",
       "      <td>0.87</td>\n",
       "      <td>NaN</td>\n",
       "      <td>NaN</td>\n",
       "      <td>NaN</td>\n",
       "      <td>5.27</td>\n",
       "    </tr>\n",
       "    <tr>\n",
       "      <th>...</th>\n",
       "      <td>...</td>\n",
       "      <td>...</td>\n",
       "      <td>...</td>\n",
       "      <td>...</td>\n",
       "      <td>...</td>\n",
       "      <td>...</td>\n",
       "      <td>...</td>\n",
       "      <td>...</td>\n",
       "      <td>...</td>\n",
       "      <td>...</td>\n",
       "      <td>...</td>\n",
       "      <td>...</td>\n",
       "    </tr>\n",
       "    <tr>\n",
       "      <th>16558</th>\n",
       "      <td>Naruto Shippuden: Ultimate Ninja Storm Collection</td>\n",
       "      <td>PS3</td>\n",
       "      <td>2016</td>\n",
       "      <td>Action</td>\n",
       "      <td>0.00</td>\n",
       "      <td>0.01</td>\n",
       "      <td>0.00</td>\n",
       "      <td>0.00</td>\n",
       "      <td>NaN</td>\n",
       "      <td>NaN</td>\n",
       "      <td>NaN</td>\n",
       "      <td>0.01</td>\n",
       "    </tr>\n",
       "    <tr>\n",
       "      <th>16638</th>\n",
       "      <td>Tour de France 2014</td>\n",
       "      <td>PS3</td>\n",
       "      <td>2014</td>\n",
       "      <td>Sports</td>\n",
       "      <td>0.00</td>\n",
       "      <td>0.01</td>\n",
       "      <td>0.00</td>\n",
       "      <td>0.00</td>\n",
       "      <td>NaN</td>\n",
       "      <td>NaN</td>\n",
       "      <td>E</td>\n",
       "      <td>0.01</td>\n",
       "    </tr>\n",
       "    <tr>\n",
       "      <th>16674</th>\n",
       "      <td>Tsukigime Ranko's Longest Day</td>\n",
       "      <td>PS3</td>\n",
       "      <td>2014</td>\n",
       "      <td>Action</td>\n",
       "      <td>0.00</td>\n",
       "      <td>0.01</td>\n",
       "      <td>0.00</td>\n",
       "      <td>0.00</td>\n",
       "      <td>NaN</td>\n",
       "      <td>NaN</td>\n",
       "      <td>NaN</td>\n",
       "      <td>0.01</td>\n",
       "    </tr>\n",
       "    <tr>\n",
       "      <th>16691</th>\n",
       "      <td>Dynasty Warriors: Eiketsuden</td>\n",
       "      <td>PS3</td>\n",
       "      <td>2016</td>\n",
       "      <td>Action</td>\n",
       "      <td>0.00</td>\n",
       "      <td>0.00</td>\n",
       "      <td>0.01</td>\n",
       "      <td>0.00</td>\n",
       "      <td>NaN</td>\n",
       "      <td>NaN</td>\n",
       "      <td>NaN</td>\n",
       "      <td>0.01</td>\n",
       "    </tr>\n",
       "    <tr>\n",
       "      <th>16710</th>\n",
       "      <td>Samurai Warriors: Sanada Maru</td>\n",
       "      <td>PS3</td>\n",
       "      <td>2016</td>\n",
       "      <td>Action</td>\n",
       "      <td>0.00</td>\n",
       "      <td>0.00</td>\n",
       "      <td>0.01</td>\n",
       "      <td>0.00</td>\n",
       "      <td>NaN</td>\n",
       "      <td>NaN</td>\n",
       "      <td>NaN</td>\n",
       "      <td>0.01</td>\n",
       "    </tr>\n",
       "  </tbody>\n",
       "</table>\n",
       "<p>345 rows × 12 columns</p>\n",
       "</div>"
      ],
      "text/plain": [
       "                                                    name platform  \\\n",
       "16                                    Grand Theft Auto V      PS3   \n",
       "69                                  Call of Duty: Ghosts      PS3   \n",
       "126                                              FIFA 14      PS3   \n",
       "149                                       The Last of Us      PS3   \n",
       "180                                            Minecraft      PS3   \n",
       "...                                                  ...      ...   \n",
       "16558  Naruto Shippuden: Ultimate Ninja Storm Collection      PS3   \n",
       "16638                                Tour de France 2014      PS3   \n",
       "16674                      Tsukigime Ranko's Longest Day      PS3   \n",
       "16691                       Dynasty Warriors: Eiketsuden      PS3   \n",
       "16710                      Samurai Warriors: Sanada Maru      PS3   \n",
       "\n",
       "       year_of_release    genre  na_sales  eu_sales  jp_sales  other_sales  \\\n",
       "16                2013   Action      7.02      9.09      0.98         3.96   \n",
       "69                2013  Shooter      4.10      3.63      0.38         1.25   \n",
       "126               2013   Sports      0.78      4.24      0.07         1.37   \n",
       "149               2013   Action      2.41      2.18      0.28         0.99   \n",
       "180               2014     Misc      2.03      2.37      0.00         0.87   \n",
       "...                ...      ...       ...       ...       ...          ...   \n",
       "16558             2016   Action      0.00      0.01      0.00         0.00   \n",
       "16638             2014   Sports      0.00      0.01      0.00         0.00   \n",
       "16674             2014   Action      0.00      0.01      0.00         0.00   \n",
       "16691             2016   Action      0.00      0.00      0.01         0.00   \n",
       "16710             2016   Action      0.00      0.00      0.01         0.00   \n",
       "\n",
       "       critic_score  user_score rating  sales_total  \n",
       "16             97.0         8.2      M        21.05  \n",
       "69             71.0         2.6      M         9.36  \n",
       "126            86.0         4.3      E         6.46  \n",
       "149            95.0         9.1      M         5.86  \n",
       "180             NaN         NaN    NaN         5.27  \n",
       "...             ...         ...    ...          ...  \n",
       "16558           NaN         NaN    NaN         0.01  \n",
       "16638           NaN         NaN      E         0.01  \n",
       "16674           NaN         NaN    NaN         0.01  \n",
       "16691           NaN         NaN    NaN         0.01  \n",
       "16710           NaN         NaN    NaN         0.01  \n",
       "\n",
       "[345 rows x 12 columns]"
      ]
     },
     "execution_count": 41,
     "metadata": {},
     "output_type": "execute_result"
    }
   ],
   "source": [
    "platform_analyzer = Platforms_analyse()\n",
    "ps3_data = platform_analyzer.plat_data(\"PS3\")\n",
    "ps3_data"
   ]
  },
  {
   "cell_type": "code",
   "execution_count": 42,
   "metadata": {
    "scrolled": false
   },
   "outputs": [
    {
     "data": {
      "image/png": "[encoded data removed]",
      "text/plain": [
       "<Figure size 1008x720 with 1 Axes>"
      ]
     },
     "metadata": {
      "needs_background": "light"
     },
     "output_type": "display_data"
    },
    {
     "data": {
      "image/png": "[encoded data removed]",
      "text/plain": [
       "<Figure size 1008x720 with 1 Axes>"
      ]
     },
     "metadata": {
      "needs_background": "light"
     },
     "output_type": "display_data"
    }
   ],
   "source": [
    "platform_analyzer.scatter_user(ps3_data)\n",
    "platform_analyzer.scatter_critic(ps3_data)"
   ]
  },
  {
   "cell_type": "code",
   "execution_count": 43,
   "metadata": {
    "scrolled": false
   },
   "outputs": [
    {
     "name": "stdout",
     "output_type": "stream",
     "text": [
      "Кореляция между продажами и оценкой пользователей: 0.0023944027357566925\n",
      "Кореляция между продажами и оценкой критиков: 0.3342853393371919\n"
     ]
    },
    {
     "name": "stderr",
     "output_type": "stream",
     "text": [
      "/tmp/ipykernel_164/117147021.py:38: SettingWithCopyWarning: \n",
      "A value is trying to be set on a copy of a slice from a DataFrame.\n",
      "Try using .loc[row_indexer,col_indexer] = value instead\n",
      "\n",
      "See the caveats in the documentation: https://pandas.pydata.org/pandas-docs/stable/user_guide/indexing.html#returning-a-view-versus-a-copy\n",
      "  plat_df['user_score'] = pd.to_numeric(plat_df['user_score'], errors='coerce')\n",
      "/tmp/ipykernel_164/117147021.py:39: SettingWithCopyWarning: \n",
      "A value is trying to be set on a copy of a slice from a DataFrame.\n",
      "Try using .loc[row_indexer,col_indexer] = value instead\n",
      "\n",
      "See the caveats in the documentation: https://pandas.pydata.org/pandas-docs/stable/user_guide/indexing.html#returning-a-view-versus-a-copy\n",
      "  plat_df['critic_score'] = pd.to_numeric(plat_df['critic_score'], errors='coerce')\n"
     ]
    }
   ],
   "source": [
    "platform_analyzer.plat_corr(ps3_data)"
   ]
  },
  {
   "cell_type": "markdown",
   "metadata": {},
   "source": [
    "### Данные для XOne"
   ]
  },
  {
   "cell_type": "code",
   "execution_count": 44,
   "metadata": {
    "scrolled": true
   },
   "outputs": [
    {
     "data": {
      "text/html": [
       "<div>\n",
       "<style scoped>\n",
       "    .dataframe tbody tr th:only-of-type {\n",
       "        vertical-align: middle;\n",
       "    }\n",
       "\n",
       "    .dataframe tbody tr th {\n",
       "        vertical-align: top;\n",
       "    }\n",
       "\n",
       "    .dataframe thead th {\n",
       "        text-align: right;\n",
       "    }\n",
       "</style>\n",
       "<table border=\"1\" class=\"dataframe\">\n",
       "  <thead>\n",
       "    <tr style=\"text-align: right;\">\n",
       "      <th></th>\n",
       "      <th>name</th>\n",
       "      <th>platform</th>\n",
       "      <th>year_of_release</th>\n",
       "      <th>genre</th>\n",
       "      <th>na_sales</th>\n",
       "      <th>eu_sales</th>\n",
       "      <th>jp_sales</th>\n",
       "      <th>other_sales</th>\n",
       "      <th>critic_score</th>\n",
       "      <th>user_score</th>\n",
       "      <th>rating</th>\n",
       "      <th>sales_total</th>\n",
       "    </tr>\n",
       "  </thead>\n",
       "  <tbody>\n",
       "    <tr>\n",
       "      <th>99</th>\n",
       "      <td>Call of Duty: Black Ops 3</td>\n",
       "      <td>XOne</td>\n",
       "      <td>2015</td>\n",
       "      <td>Shooter</td>\n",
       "      <td>4.59</td>\n",
       "      <td>2.11</td>\n",
       "      <td>0.01</td>\n",
       "      <td>0.68</td>\n",
       "      <td>NaN</td>\n",
       "      <td>NaN</td>\n",
       "      <td>NaN</td>\n",
       "      <td>7.39</td>\n",
       "    </tr>\n",
       "    <tr>\n",
       "      <th>165</th>\n",
       "      <td>Grand Theft Auto V</td>\n",
       "      <td>XOne</td>\n",
       "      <td>2014</td>\n",
       "      <td>Action</td>\n",
       "      <td>2.81</td>\n",
       "      <td>2.19</td>\n",
       "      <td>0.00</td>\n",
       "      <td>0.47</td>\n",
       "      <td>97.0</td>\n",
       "      <td>7.9</td>\n",
       "      <td>M</td>\n",
       "      <td>5.47</td>\n",
       "    </tr>\n",
       "    <tr>\n",
       "      <th>179</th>\n",
       "      <td>Call of Duty: Advanced Warfare</td>\n",
       "      <td>XOne</td>\n",
       "      <td>2014</td>\n",
       "      <td>Shooter</td>\n",
       "      <td>3.22</td>\n",
       "      <td>1.55</td>\n",
       "      <td>0.01</td>\n",
       "      <td>0.48</td>\n",
       "      <td>81.0</td>\n",
       "      <td>5.4</td>\n",
       "      <td>M</td>\n",
       "      <td>5.26</td>\n",
       "    </tr>\n",
       "    <tr>\n",
       "      <th>242</th>\n",
       "      <td>Halo 5: Guardians</td>\n",
       "      <td>XOne</td>\n",
       "      <td>2015</td>\n",
       "      <td>Shooter</td>\n",
       "      <td>2.78</td>\n",
       "      <td>1.27</td>\n",
       "      <td>0.03</td>\n",
       "      <td>0.41</td>\n",
       "      <td>84.0</td>\n",
       "      <td>6.4</td>\n",
       "      <td>T</td>\n",
       "      <td>4.49</td>\n",
       "    </tr>\n",
       "    <tr>\n",
       "      <th>270</th>\n",
       "      <td>Fallout 4</td>\n",
       "      <td>XOne</td>\n",
       "      <td>2015</td>\n",
       "      <td>Role-Playing</td>\n",
       "      <td>2.51</td>\n",
       "      <td>1.32</td>\n",
       "      <td>0.01</td>\n",
       "      <td>0.38</td>\n",
       "      <td>88.0</td>\n",
       "      <td>6.2</td>\n",
       "      <td>M</td>\n",
       "      <td>4.22</td>\n",
       "    </tr>\n",
       "    <tr>\n",
       "      <th>...</th>\n",
       "      <td>...</td>\n",
       "      <td>...</td>\n",
       "      <td>...</td>\n",
       "      <td>...</td>\n",
       "      <td>...</td>\n",
       "      <td>...</td>\n",
       "      <td>...</td>\n",
       "      <td>...</td>\n",
       "      <td>...</td>\n",
       "      <td>...</td>\n",
       "      <td>...</td>\n",
       "      <td>...</td>\n",
       "    </tr>\n",
       "    <tr>\n",
       "      <th>16630</th>\n",
       "      <td>Sébastien Loeb Rally Evo</td>\n",
       "      <td>XOne</td>\n",
       "      <td>2016</td>\n",
       "      <td>Racing</td>\n",
       "      <td>0.00</td>\n",
       "      <td>0.01</td>\n",
       "      <td>0.00</td>\n",
       "      <td>0.00</td>\n",
       "      <td>63.0</td>\n",
       "      <td>8.2</td>\n",
       "      <td>E</td>\n",
       "      <td>0.01</td>\n",
       "    </tr>\n",
       "    <tr>\n",
       "      <th>16643</th>\n",
       "      <td>Rugby Challenge 3</td>\n",
       "      <td>XOne</td>\n",
       "      <td>2016</td>\n",
       "      <td>Sports</td>\n",
       "      <td>0.00</td>\n",
       "      <td>0.01</td>\n",
       "      <td>0.00</td>\n",
       "      <td>0.00</td>\n",
       "      <td>NaN</td>\n",
       "      <td>6.6</td>\n",
       "      <td>E</td>\n",
       "      <td>0.01</td>\n",
       "    </tr>\n",
       "    <tr>\n",
       "      <th>16645</th>\n",
       "      <td>ZombiU</td>\n",
       "      <td>XOne</td>\n",
       "      <td>2016</td>\n",
       "      <td>Action</td>\n",
       "      <td>0.00</td>\n",
       "      <td>0.01</td>\n",
       "      <td>0.00</td>\n",
       "      <td>0.00</td>\n",
       "      <td>NaN</td>\n",
       "      <td>NaN</td>\n",
       "      <td>NaN</td>\n",
       "      <td>0.01</td>\n",
       "    </tr>\n",
       "    <tr>\n",
       "      <th>16660</th>\n",
       "      <td>Prison Architect</td>\n",
       "      <td>XOne</td>\n",
       "      <td>2016</td>\n",
       "      <td>Action</td>\n",
       "      <td>0.01</td>\n",
       "      <td>0.00</td>\n",
       "      <td>0.00</td>\n",
       "      <td>0.00</td>\n",
       "      <td>74.0</td>\n",
       "      <td>6.7</td>\n",
       "      <td>NaN</td>\n",
       "      <td>0.01</td>\n",
       "    </tr>\n",
       "    <tr>\n",
       "      <th>16672</th>\n",
       "      <td>Metal Gear Solid V: The Definitive Experience</td>\n",
       "      <td>XOne</td>\n",
       "      <td>2016</td>\n",
       "      <td>Action</td>\n",
       "      <td>0.01</td>\n",
       "      <td>0.00</td>\n",
       "      <td>0.00</td>\n",
       "      <td>0.00</td>\n",
       "      <td>NaN</td>\n",
       "      <td>NaN</td>\n",
       "      <td>M</td>\n",
       "      <td>0.01</td>\n",
       "    </tr>\n",
       "  </tbody>\n",
       "</table>\n",
       "<p>247 rows × 12 columns</p>\n",
       "</div>"
      ],
      "text/plain": [
       "                                                name platform  \\\n",
       "99                         Call of Duty: Black Ops 3     XOne   \n",
       "165                               Grand Theft Auto V     XOne   \n",
       "179                   Call of Duty: Advanced Warfare     XOne   \n",
       "242                                Halo 5: Guardians     XOne   \n",
       "270                                        Fallout 4     XOne   \n",
       "...                                              ...      ...   \n",
       "16630                       Sébastien Loeb Rally Evo     XOne   \n",
       "16643                              Rugby Challenge 3     XOne   \n",
       "16645                                         ZombiU     XOne   \n",
       "16660                               Prison Architect     XOne   \n",
       "16672  Metal Gear Solid V: The Definitive Experience     XOne   \n",
       "\n",
       "       year_of_release         genre  na_sales  eu_sales  jp_sales  \\\n",
       "99                2015       Shooter      4.59      2.11      0.01   \n",
       "165               2014        Action      2.81      2.19      0.00   \n",
       "179               2014       Shooter      3.22      1.55      0.01   \n",
       "242               2015       Shooter      2.78      1.27      0.03   \n",
       "270               2015  Role-Playing      2.51      1.32      0.01   \n",
       "...                ...           ...       ...       ...       ...   \n",
       "16630             2016        Racing      0.00      0.01      0.00   \n",
       "16643             2016        Sports      0.00      0.01      0.00   \n",
       "16645             2016        Action      0.00      0.01      0.00   \n",
       "16660             2016        Action      0.01      0.00      0.00   \n",
       "16672             2016        Action      0.01      0.00      0.00   \n",
       "\n",
       "       other_sales  critic_score  user_score rating  sales_total  \n",
       "99            0.68           NaN         NaN    NaN         7.39  \n",
       "165           0.47          97.0         7.9      M         5.47  \n",
       "179           0.48          81.0         5.4      M         5.26  \n",
       "242           0.41          84.0         6.4      T         4.49  \n",
       "270           0.38          88.0         6.2      M         4.22  \n",
       "...            ...           ...         ...    ...          ...  \n",
       "16630         0.00          63.0         8.2      E         0.01  \n",
       "16643         0.00           NaN         6.6      E         0.01  \n",
       "16645         0.00           NaN         NaN    NaN         0.01  \n",
       "16660         0.00          74.0         6.7    NaN         0.01  \n",
       "16672         0.00           NaN         NaN      M         0.01  \n",
       "\n",
       "[247 rows x 12 columns]"
      ]
     },
     "execution_count": 44,
     "metadata": {},
     "output_type": "execute_result"
    }
   ],
   "source": [
    "platform_analyzer = Platforms_analyse()\n",
    "xone_data = platform_analyzer.plat_data(\"XOne\")\n",
    "xone_data"
   ]
  },
  {
   "cell_type": "code",
   "execution_count": 45,
   "metadata": {
    "scrolled": false
   },
   "outputs": [
    {
     "data": {
      "image/png": "[encoded data removed]",
      "text/plain": [
       "<Figure size 1008x720 with 1 Axes>"
      ]
     },
     "metadata": {
      "needs_background": "light"
     },
     "output_type": "display_data"
    },
    {
     "data": {
      "image/png": "[encoded data removed]",
      "text/plain": [
       "<Figure size 1008x720 with 1 Axes>"
      ]
     },
     "metadata": {
      "needs_background": "light"
     },
     "output_type": "display_data"
    }
   ],
   "source": [
    "platform_analyzer.scatter_user(xone_data)\n",
    "platform_analyzer.scatter_critic(xone_data)"
   ]
  },
  {
   "cell_type": "code",
   "execution_count": 46,
   "metadata": {
    "scrolled": false
   },
   "outputs": [
    {
     "name": "stdout",
     "output_type": "stream",
     "text": [
      "Кореляция между продажами и оценкой пользователей: -0.06892505328279412\n",
      "Кореляция между продажами и оценкой критиков: 0.41699832800840175\n"
     ]
    },
    {
     "name": "stderr",
     "output_type": "stream",
     "text": [
      "/tmp/ipykernel_164/117147021.py:38: SettingWithCopyWarning: \n",
      "A value is trying to be set on a copy of a slice from a DataFrame.\n",
      "Try using .loc[row_indexer,col_indexer] = value instead\n",
      "\n",
      "See the caveats in the documentation: https://pandas.pydata.org/pandas-docs/stable/user_guide/indexing.html#returning-a-view-versus-a-copy\n",
      "  plat_df['user_score'] = pd.to_numeric(plat_df['user_score'], errors='coerce')\n",
      "/tmp/ipykernel_164/117147021.py:39: SettingWithCopyWarning: \n",
      "A value is trying to be set on a copy of a slice from a DataFrame.\n",
      "Try using .loc[row_indexer,col_indexer] = value instead\n",
      "\n",
      "See the caveats in the documentation: https://pandas.pydata.org/pandas-docs/stable/user_guide/indexing.html#returning-a-view-versus-a-copy\n",
      "  plat_df['critic_score'] = pd.to_numeric(plat_df['critic_score'], errors='coerce')\n"
     ]
    }
   ],
   "source": [
    "platform_analyzer.plat_corr(xone_data)"
   ]
  },
  {
   "cell_type": "markdown",
   "metadata": {},
   "source": [
    "### Данные для 3DS"
   ]
  },
  {
   "cell_type": "code",
   "execution_count": 47,
   "metadata": {
    "scrolled": true
   },
   "outputs": [
    {
     "data": {
      "text/html": [
       "<div>\n",
       "<style scoped>\n",
       "    .dataframe tbody tr th:only-of-type {\n",
       "        vertical-align: middle;\n",
       "    }\n",
       "\n",
       "    .dataframe tbody tr th {\n",
       "        vertical-align: top;\n",
       "    }\n",
       "\n",
       "    .dataframe thead th {\n",
       "        text-align: right;\n",
       "    }\n",
       "</style>\n",
       "<table border=\"1\" class=\"dataframe\">\n",
       "  <thead>\n",
       "    <tr style=\"text-align: right;\">\n",
       "      <th></th>\n",
       "      <th>name</th>\n",
       "      <th>platform</th>\n",
       "      <th>year_of_release</th>\n",
       "      <th>genre</th>\n",
       "      <th>na_sales</th>\n",
       "      <th>eu_sales</th>\n",
       "      <th>jp_sales</th>\n",
       "      <th>other_sales</th>\n",
       "      <th>critic_score</th>\n",
       "      <th>user_score</th>\n",
       "      <th>rating</th>\n",
       "      <th>sales_total</th>\n",
       "    </tr>\n",
       "  </thead>\n",
       "  <tbody>\n",
       "    <tr>\n",
       "      <th>33</th>\n",
       "      <td>Pokemon X/Pokemon Y</td>\n",
       "      <td>3DS</td>\n",
       "      <td>2013</td>\n",
       "      <td>Role-Playing</td>\n",
       "      <td>5.28</td>\n",
       "      <td>4.19</td>\n",
       "      <td>4.35</td>\n",
       "      <td>0.78</td>\n",
       "      <td>NaN</td>\n",
       "      <td>NaN</td>\n",
       "      <td>NaN</td>\n",
       "      <td>14.60</td>\n",
       "    </tr>\n",
       "    <tr>\n",
       "      <th>47</th>\n",
       "      <td>Pokemon Omega Ruby/Pokemon Alpha Sapphire</td>\n",
       "      <td>3DS</td>\n",
       "      <td>2014</td>\n",
       "      <td>Role-Playing</td>\n",
       "      <td>4.35</td>\n",
       "      <td>3.49</td>\n",
       "      <td>3.10</td>\n",
       "      <td>0.74</td>\n",
       "      <td>NaN</td>\n",
       "      <td>NaN</td>\n",
       "      <td>NaN</td>\n",
       "      <td>11.68</td>\n",
       "    </tr>\n",
       "    <tr>\n",
       "      <th>96</th>\n",
       "      <td>Super Smash Bros. for Wii U and 3DS</td>\n",
       "      <td>3DS</td>\n",
       "      <td>2014</td>\n",
       "      <td>Fighting</td>\n",
       "      <td>3.27</td>\n",
       "      <td>1.37</td>\n",
       "      <td>2.43</td>\n",
       "      <td>0.48</td>\n",
       "      <td>NaN</td>\n",
       "      <td>NaN</td>\n",
       "      <td>NaN</td>\n",
       "      <td>7.55</td>\n",
       "    </tr>\n",
       "    <tr>\n",
       "      <th>108</th>\n",
       "      <td>Pokemon Sun/Moon</td>\n",
       "      <td>3DS</td>\n",
       "      <td>2016</td>\n",
       "      <td>Role-Playing</td>\n",
       "      <td>2.98</td>\n",
       "      <td>1.45</td>\n",
       "      <td>2.26</td>\n",
       "      <td>0.45</td>\n",
       "      <td>NaN</td>\n",
       "      <td>NaN</td>\n",
       "      <td>NaN</td>\n",
       "      <td>7.14</td>\n",
       "    </tr>\n",
       "    <tr>\n",
       "      <th>184</th>\n",
       "      <td>Tomodachi Life</td>\n",
       "      <td>3DS</td>\n",
       "      <td>2013</td>\n",
       "      <td>Simulation</td>\n",
       "      <td>0.97</td>\n",
       "      <td>2.11</td>\n",
       "      <td>1.90</td>\n",
       "      <td>0.24</td>\n",
       "      <td>NaN</td>\n",
       "      <td>NaN</td>\n",
       "      <td>NaN</td>\n",
       "      <td>5.22</td>\n",
       "    </tr>\n",
       "    <tr>\n",
       "      <th>...</th>\n",
       "      <td>...</td>\n",
       "      <td>...</td>\n",
       "      <td>...</td>\n",
       "      <td>...</td>\n",
       "      <td>...</td>\n",
       "      <td>...</td>\n",
       "      <td>...</td>\n",
       "      <td>...</td>\n",
       "      <td>...</td>\n",
       "      <td>...</td>\n",
       "      <td>...</td>\n",
       "      <td>...</td>\n",
       "    </tr>\n",
       "    <tr>\n",
       "      <th>16608</th>\n",
       "      <td>Mario &amp; Luigi: Paper Jam &amp; Mario Kart 7 Double...</td>\n",
       "      <td>3DS</td>\n",
       "      <td>2015</td>\n",
       "      <td>Misc</td>\n",
       "      <td>0.00</td>\n",
       "      <td>0.00</td>\n",
       "      <td>0.01</td>\n",
       "      <td>0.00</td>\n",
       "      <td>NaN</td>\n",
       "      <td>NaN</td>\n",
       "      <td>NaN</td>\n",
       "      <td>0.01</td>\n",
       "    </tr>\n",
       "    <tr>\n",
       "      <th>16610</th>\n",
       "      <td>Kiniro no Corda 3</td>\n",
       "      <td>3DS</td>\n",
       "      <td>2015</td>\n",
       "      <td>Adventure</td>\n",
       "      <td>0.00</td>\n",
       "      <td>0.00</td>\n",
       "      <td>0.01</td>\n",
       "      <td>0.00</td>\n",
       "      <td>NaN</td>\n",
       "      <td>NaN</td>\n",
       "      <td>NaN</td>\n",
       "      <td>0.01</td>\n",
       "    </tr>\n",
       "    <tr>\n",
       "      <th>16648</th>\n",
       "      <td>Mushi Bugyou</td>\n",
       "      <td>3DS</td>\n",
       "      <td>2013</td>\n",
       "      <td>Action</td>\n",
       "      <td>0.00</td>\n",
       "      <td>0.00</td>\n",
       "      <td>0.01</td>\n",
       "      <td>0.00</td>\n",
       "      <td>NaN</td>\n",
       "      <td>NaN</td>\n",
       "      <td>NaN</td>\n",
       "      <td>0.01</td>\n",
       "    </tr>\n",
       "    <tr>\n",
       "      <th>16668</th>\n",
       "      <td>Fujiko F. Fujio Characters: Great Assembly! Sl...</td>\n",
       "      <td>3DS</td>\n",
       "      <td>2014</td>\n",
       "      <td>Action</td>\n",
       "      <td>0.00</td>\n",
       "      <td>0.00</td>\n",
       "      <td>0.01</td>\n",
       "      <td>0.00</td>\n",
       "      <td>NaN</td>\n",
       "      <td>NaN</td>\n",
       "      <td>NaN</td>\n",
       "      <td>0.01</td>\n",
       "    </tr>\n",
       "    <tr>\n",
       "      <th>16677</th>\n",
       "      <td>Aikatsu Stars! My Special Appeal</td>\n",
       "      <td>3DS</td>\n",
       "      <td>2016</td>\n",
       "      <td>Action</td>\n",
       "      <td>0.00</td>\n",
       "      <td>0.00</td>\n",
       "      <td>0.01</td>\n",
       "      <td>0.00</td>\n",
       "      <td>NaN</td>\n",
       "      <td>NaN</td>\n",
       "      <td>NaN</td>\n",
       "      <td>0.01</td>\n",
       "    </tr>\n",
       "  </tbody>\n",
       "</table>\n",
       "<p>303 rows × 12 columns</p>\n",
       "</div>"
      ],
      "text/plain": [
       "                                                    name platform  \\\n",
       "33                                   Pokemon X/Pokemon Y      3DS   \n",
       "47             Pokemon Omega Ruby/Pokemon Alpha Sapphire      3DS   \n",
       "96                   Super Smash Bros. for Wii U and 3DS      3DS   \n",
       "108                                     Pokemon Sun/Moon      3DS   \n",
       "184                                       Tomodachi Life      3DS   \n",
       "...                                                  ...      ...   \n",
       "16608  Mario & Luigi: Paper Jam & Mario Kart 7 Double...      3DS   \n",
       "16610                                  Kiniro no Corda 3      3DS   \n",
       "16648                                       Mushi Bugyou      3DS   \n",
       "16668  Fujiko F. Fujio Characters: Great Assembly! Sl...      3DS   \n",
       "16677                   Aikatsu Stars! My Special Appeal      3DS   \n",
       "\n",
       "       year_of_release         genre  na_sales  eu_sales  jp_sales  \\\n",
       "33                2013  Role-Playing      5.28      4.19      4.35   \n",
       "47                2014  Role-Playing      4.35      3.49      3.10   \n",
       "96                2014      Fighting      3.27      1.37      2.43   \n",
       "108               2016  Role-Playing      2.98      1.45      2.26   \n",
       "184               2013    Simulation      0.97      2.11      1.90   \n",
       "...                ...           ...       ...       ...       ...   \n",
       "16608             2015          Misc      0.00      0.00      0.01   \n",
       "16610             2015     Adventure      0.00      0.00      0.01   \n",
       "16648             2013        Action      0.00      0.00      0.01   \n",
       "16668             2014        Action      0.00      0.00      0.01   \n",
       "16677             2016        Action      0.00      0.00      0.01   \n",
       "\n",
       "       other_sales  critic_score  user_score rating  sales_total  \n",
       "33            0.78           NaN         NaN    NaN        14.60  \n",
       "47            0.74           NaN         NaN    NaN        11.68  \n",
       "96            0.48           NaN         NaN    NaN         7.55  \n",
       "108           0.45           NaN         NaN    NaN         7.14  \n",
       "184           0.24           NaN         NaN    NaN         5.22  \n",
       "...            ...           ...         ...    ...          ...  \n",
       "16608         0.00           NaN         NaN    NaN         0.01  \n",
       "16610         0.00           NaN         NaN    NaN         0.01  \n",
       "16648         0.00           NaN         NaN    NaN         0.01  \n",
       "16668         0.00           NaN         NaN    NaN         0.01  \n",
       "16677         0.00           NaN         NaN    NaN         0.01  \n",
       "\n",
       "[303 rows x 12 columns]"
      ]
     },
     "execution_count": 47,
     "metadata": {},
     "output_type": "execute_result"
    }
   ],
   "source": [
    "platform_analyzer = Platforms_analyse()\n",
    "ds_data = platform_analyzer.plat_data(\"3DS\")\n",
    "ds_data"
   ]
  },
  {
   "cell_type": "code",
   "execution_count": 48,
   "metadata": {
    "scrolled": false
   },
   "outputs": [
    {
     "data": {
      "image/png": "[encoded data removed]",
      "text/plain": [
       "<Figure size 1008x720 with 1 Axes>"
      ]
     },
     "metadata": {
      "needs_background": "light"
     },
     "output_type": "display_data"
    },
    {
     "data": {
      "image/png": "[encoded data removed]",
      "text/plain": [
       "<Figure size 1008x720 with 1 Axes>"
      ]
     },
     "metadata": {
      "needs_background": "light"
     },
     "output_type": "display_data"
    }
   ],
   "source": [
    "platform_analyzer.scatter_user(ds_data)\n",
    "platform_analyzer.scatter_critic(ds_data)"
   ]
  },
  {
   "cell_type": "code",
   "execution_count": 49,
   "metadata": {
    "scrolled": false
   },
   "outputs": [
    {
     "name": "stdout",
     "output_type": "stream",
     "text": [
      "Кореляция между продажами и оценкой пользователей: 0.24150411773563016\n",
      "Кореляция между продажами и оценкой критиков: 0.35705661422881035\n"
     ]
    },
    {
     "name": "stderr",
     "output_type": "stream",
     "text": [
      "/tmp/ipykernel_164/117147021.py:38: SettingWithCopyWarning: \n",
      "A value is trying to be set on a copy of a slice from a DataFrame.\n",
      "Try using .loc[row_indexer,col_indexer] = value instead\n",
      "\n",
      "See the caveats in the documentation: https://pandas.pydata.org/pandas-docs/stable/user_guide/indexing.html#returning-a-view-versus-a-copy\n",
      "  plat_df['user_score'] = pd.to_numeric(plat_df['user_score'], errors='coerce')\n",
      "/tmp/ipykernel_164/117147021.py:39: SettingWithCopyWarning: \n",
      "A value is trying to be set on a copy of a slice from a DataFrame.\n",
      "Try using .loc[row_indexer,col_indexer] = value instead\n",
      "\n",
      "See the caveats in the documentation: https://pandas.pydata.org/pandas-docs/stable/user_guide/indexing.html#returning-a-view-versus-a-copy\n",
      "  plat_df['critic_score'] = pd.to_numeric(plat_df['critic_score'], errors='coerce')\n"
     ]
    }
   ],
   "source": [
    "platform_analyzer.plat_corr(ds_data)"
   ]
  },
  {
   "cell_type": "markdown",
   "metadata": {},
   "source": [
    "Проведя анализ для 4 самых популярных платформ было выведен, что продажи больше зависят от оценок критиков нежели от оценки пользователей.\n"
   ]
  },
  {
   "cell_type": "code",
   "execution_count": 50,
   "metadata": {},
   "outputs": [
    {
     "ename": "NameError",
     "evalue": "name 'data' is not defined",
     "output_type": "error",
     "traceback": [
      "\u001b[0;31m---------------------------------------------------------------------------\u001b[0m",
      "\u001b[0;31mNameError\u001b[0m                                 Traceback (most recent call last)",
      "\u001b[0;32m/tmp/ipykernel_164/3750377022.py\u001b[0m in \u001b[0;36m<module>\u001b[0;34m\u001b[0m\n\u001b[0;32m----> 1\u001b[0;31m \u001b[0mplatform_analyzer\u001b[0m\u001b[0;34m.\u001b[0m\u001b[0mplat_corr\u001b[0m\u001b[0;34m(\u001b[0m\u001b[0mdata\u001b[0m\u001b[0;34m)\u001b[0m\u001b[0;34m\u001b[0m\u001b[0;34m\u001b[0m\u001b[0m\n\u001b[0m",
      "\u001b[0;31mNameError\u001b[0m: name 'data' is not defined"
     ]
    }
   ],
   "source": [
    "platform_analyzer.plat_corr(data)"
   ]
  },
  {
   "cell_type": "markdown",
   "metadata": {},
   "source": [
    "Однако если взять все данные вместе, то они покажут, что зависимость от оценок критиков все еще больше чем от оценок пользователей, но вот сама зависисмость(продаж от оценок критиков) стала меньше.\n"
   ]
  },
  {
   "cell_type": "code",
   "execution_count": null,
   "metadata": {},
   "outputs": [],
   "source": [
    "plotbar_filtered(actual_data, 'genre', 'sales_total', 'median', 'Продажи по жанрам', 'Жанры', 'Продажи')"
   ]
  },
  {
   "cell_type": "markdown",
   "metadata": {},
   "source": [
    "Исходя из полученных графиков самыми популярными являются игры в жанре Platform, а самым не популярными в жанре Adventure.\n"
   ]
  },
  {
   "cell_type": "markdown",
   "metadata": {},
   "source": [
    "# Портреты пользователей по регионам"
   ]
  },
  {
   "cell_type": "code",
   "execution_count": null,
   "metadata": {},
   "outputs": [],
   "source": [
    "esrb_rating_mapping = {'E': 4, 'T': 3, 'M': 2, 'A': 1,'tbd':0}\n",
    "actual_data['numeric_esrb_rating'] = actual_data['rating'].map(esrb_rating_mapping)  # понадобится в будующем для кореляции Пирсона\n",
    "def region(x):\n",
    "    return actual_data[['name', 'platform', 'year_of_release', 'genre', x, 'rating', 'numeric_esrb_rating']]"
   ]
  },
  {
   "cell_type": "code",
   "execution_count": null,
   "metadata": {},
   "outputs": [],
   "source": [
    "df_na = region('na_sales')  # Данные по na\n",
    "df_na"
   ]
  },
  {
   "cell_type": "code",
   "execution_count": null,
   "metadata": {},
   "outputs": [],
   "source": [
    "df_eu = region('eu_sales')  # Данные по eu\n",
    "df_eu"
   ]
  },
  {
   "cell_type": "code",
   "execution_count": null,
   "metadata": {},
   "outputs": [],
   "source": [
    "df_jp = region('jp_sales')  # Данные по jp\n",
    "df_jp"
   ]
  },
  {
   "cell_type": "code",
   "execution_count": null,
   "metadata": {},
   "outputs": [],
   "source": [
    "def top(DataFrame, ind, val, func):\n",
    "    return pd.pivot_table(DataFrame, index=ind, values=val, aggfunc=func) \\\n",
    "        .sort_values(by=val, ascending=False).head(5)"
   ]
  },
  {
   "cell_type": "code",
   "execution_count": null,
   "metadata": {},
   "outputs": [],
   "source": [
    "def pie(df,sales,po,name,title):\n",
    "    plt.figure(figsize=(10, 10))\n",
    "    plt.pie(df[sales], labels=df.index, autopct='%1.1f%%', startangle=140)\n",
    "    plt.title(f'Доля продаж по {po} в {name}',y=1.05)\n",
    "    plt.axis('equal')\n",
    "    plt.show() "
   ]
  },
  {
   "cell_type": "code",
   "execution_count": null,
   "metadata": {},
   "outputs": [],
   "source": [
    "platforms_top_na = top(df_na, 'platform', 'na_sales', 'sum')\n",
    "\n",
    "platforms_top_na['market_share'] = platforms_top_na.na_sales/df_na.na_sales.sum()\n",
    "\n",
    "pie(platforms_top_na,'na_sales','платформам','Северной Америке','Доля продаж платформ по Северной Америке')\n",
    "\n",
    "print(platforms_top_na)"
   ]
  },
  {
   "cell_type": "code",
   "execution_count": null,
   "metadata": {},
   "outputs": [],
   "source": [
    "platforms_top_eu = top(df_eu, 'platform', 'eu_sales', 'sum')\n",
    "\n",
    "platforms_top_eu['market_share'] = platforms_top_eu.eu_sales/df_eu.eu_sales.sum()\n",
    "\n",
    "pie(platforms_top_eu,'eu_sales','платформам','Европе','Доля продаж платформ по Европе')\n",
    "\n",
    "print(platforms_top_eu)"
   ]
  },
  {
   "cell_type": "code",
   "execution_count": null,
   "metadata": {},
   "outputs": [],
   "source": [
    "platforms_top_jp = top(df_jp, 'platform', 'jp_sales', 'sum')\n",
    "\n",
    "platforms_top_jp['market_share'] = platforms_top_jp.jp_sales/df_jp.jp_sales.sum()\n",
    "\n",
    "pie(platforms_top_jp,'jp_sales','платформам','Японии','Доля продаж платформ по Японии')\n",
    "\n",
    "print(platforms_top_jp)"
   ]
  },
  {
   "cell_type": "code",
   "execution_count": null,
   "metadata": {},
   "outputs": [],
   "source": [
    "genres_top_na = top(df_na, 'genre', 'na_sales', 'sum')\n",
    "\n",
    "\n",
    "print(genres_top_na)\n",
    "\n",
    "pie(genres_top_na,'na_sales','жанрам','Северной Америке','Доля продаж платформ по Северной Америке')"
   ]
  },
  {
   "cell_type": "code",
   "execution_count": null,
   "metadata": {},
   "outputs": [],
   "source": [
    "genres_top_eu = top(df_eu, 'genre', 'eu_sales', 'sum')\n",
    "\n",
    "print(genres_top_eu)\n",
    "\n",
    "pie(genres_top_eu,'eu_sales','жанрам','Европе','Доля продаж платформ по Европе')"
   ]
  },
  {
   "cell_type": "code",
   "execution_count": null,
   "metadata": {},
   "outputs": [],
   "source": [
    "genres_top_jp = top(df_jp, 'genre', 'jp_sales', 'sum')\n",
    "\n",
    "print(genres_top_jp)\n",
    "\n",
    "pie(genres_top_jp,'jp_sales','жанрам','Японии','Доля продаж платформ по Японии')"
   ]
  },
  {
   "cell_type": "code",
   "execution_count": null,
   "metadata": {},
   "outputs": [],
   "source": [
    "df_eu_filled = df_eu.fillna('Unknown')\n",
    "eu_rating = top(df_eu_filled, 'rating', 'eu_sales', 'sum')\n",
    "print(eu_rating)\n",
    "pie(eu_rating,'eu_sales','ESRB рейтингу','Европе','Доля продаж рейтингов по Европе')"
   ]
  },
  {
   "cell_type": "code",
   "execution_count": null,
   "metadata": {},
   "outputs": [],
   "source": [
    "na_rating_filled = df_na.fillna('Unknown')\n",
    "na_rating = top(na_rating_filled, 'rating', 'na_sales', 'sum')\n",
    "print(na_rating)\n",
    "pie(na_rating,'na_sales','ESRB рейтингу','Северной Америке','Доля продаж рейтингов по Северной Америке')"
   ]
  },
  {
   "cell_type": "code",
   "execution_count": null,
   "metadata": {},
   "outputs": [],
   "source": [
    "jp_rating_filled = df_jp.fillna('Unknown')\n",
    "jp_rating = top(jp_rating_filled, 'rating', 'jp_sales', 'sum')\n",
    "print(jp_rating)\n",
    "pie(jp_rating,'jp_sales','ESRB рейтингу','Японии','Доля продаж рейтингов по Японии')"
   ]
  },
  {
   "cell_type": "markdown",
   "metadata": {},
   "source": [
    "Очень большую часть рынка занимают игры с неизвестным жанром(значение котором я заполнил пропуски).У Европы и Америки очень похожие рынки у М самый большой спрос, а у Т самый маленький,у Японии с огромным отрывом лидирует Unknown за ним идет Т и самый не популярный рейтинг Е10+\n"
   ]
  },
  {
   "cell_type": "code",
   "execution_count": null,
   "metadata": {},
   "outputs": [],
   "source": [
    "# Подсчет корреляции между продажами и рейтингом\n",
    "correlation_na = df_na['na_sales'].corr(df_na['numeric_esrb_rating'])\n",
    "correlation_eu = df_eu['eu_sales'].corr(df_eu['numeric_esrb_rating'])\n",
    "correlation_jp = df_jp['jp_sales'].corr(df_jp['numeric_esrb_rating'])\n",
    "print(f\"Коэффициент корреляции между продажами и рейтингом по регионам:\"\n",
    "       f\"\\nСеверная Америка: {correlation_na}\"\n",
    "       f\"\\nЕвропа:{correlation_eu}\"\n",
    "       f\"\\nЯпония:{correlation_jp}\")"
   ]
  },
  {
   "cell_type": "markdown",
   "metadata": {},
   "source": [
    "рейтинг игр слабо влияет на продажи в регионах\n"
   ]
  },
  {
   "cell_type": "markdown",
   "metadata": {},
   "source": [
    "# Проверка гипотез"
   ]
  },
  {
   "cell_type": "code",
   "execution_count": null,
   "metadata": {},
   "outputs": [],
   "source": [
    "#Нулевая гипотеза: Средние пользовательские рейтинги Xbox One равны средним пользовательским рейтингам PC.\n",
    "#Альтернативная гипотеза: Средние пользовательские рейтинги Xbox One не равны средним пользовательским рейтингам PC.\n",
    "actual_per = df.query(\"year_of_release >= 2013 & user_score!='tbd'\")\n",
    "\n",
    "actual_per['user_score'] = pd.to_numeric(actual_per['user_score'], errors='coerce')\n",
    "actual_per = actual_per.dropna(subset=['user_score'])\n",
    "\n",
    "xbox_one_scores = actual_per[actual_per['platform'] == 'XOne']['user_score']\n",
    "pc_scores = actual_per[actual_per['platform'] == 'PC']['user_score']\n",
    "\n",
    "t_statistic, p_value = st.ttest_ind(xbox_one_scores, pc_scores, nan_policy='omit')\n",
    "\n",
    "print(f\"T-статистика: {t_statistic}\")\n",
    "print(f\"P-значение: {p_value}\")\n",
    "\n",
    "alpha = 0.05\n",
    "\n",
    "if p_value < alpha:\n",
    "    print(\"Отвергаем нулевую гипотезу: Средние пользовательские рейтинги различаются.\")\n",
    "else:\n",
    "    print(\"С большой долей вероятности средние пользовательские рейтинги платформ XOne и PC не имеют статистически значимых отличий\")\n"
   ]
  },
  {
   "cell_type": "code",
   "execution_count": null,
   "metadata": {},
   "outputs": [],
   "source": [
    "#Нулевая гипотеза: Средние пользовательские рейтинги Action не равны средним пользовательским рейтингам Sports.\n",
    "#Альтернативная гипотеза: Средние пользовательские рейтинги Action равны средним пользовательским рейтингам Sports.\n",
    "action = actual_per[actual_per['genre'] == 'Action']['user_score']\n",
    "sports = actual_per[actual_per['genre'] == 'Sports']['user_score']\n",
    "\n",
    "t_statistic, p_value = st.ttest_ind(action, sports)\n",
    "alpha = 0.05\n",
    "\n",
    "if p_value < alpha:\n",
    "    print('Средние пользовательские рейтинги отличаются')\n",
    "else:\n",
    "    print('Средние пользовательские рейтинги равны')\n"
   ]
  },
  {
   "cell_type": "markdown",
   "metadata": {},
   "source": [
    "Выбрал такие гипотезы исходя из задания, а alpha задал 0.05 тк это стан\n"
   ]
  },
  {
   "cell_type": "markdown",
   "metadata": {},
   "source": [
    "# Вывод"
   ]
  },
  {
   "cell_type": "markdown",
   "metadata": {},
   "source": [
    "В ходе иследования данных интернет магазина Стримчик, мною были выявлины ключевые закономерности и тренды в индустрии. Работа с данными включала в себя несколько этапов, начиная от предобработки и заканчивая статистическим анализом.\n",
    "\n",
    "Вот основыне результаты:\n",
    "\n",
    "    1.Я выявил, что на момент времени предоставленных в данных рынок видеоигр идет на спад.\n",
    "    \n",
    "    2.Лидирующими по продажам платформами являются: PS2,X360,Wii,PS3,DS\n",
    "    \n",
    "    3.Так же я определил данные на актуальный период, которые помогут обучить модель предсказывать поведение платформы на рынке.\n",
    "    \n",
    "    4.На основе актуальных данных выполнил свою реализацию предсказания поведения платформы, которая так же может лечь в основу обучения модели.\n",
    "    \n",
    "    5.Выявил, что продажи по платформам не зависят от рейтингов игр выпускаемых на этих платформах.\n",
    "    \n",
    "    6.Выявил, что самымии популярными являются игры в жанре action и sports/\n",
    "    \n",
    "    7.Постороил портреты пользователей по регионам.\n",
    "    \n",
    "    8.Проверил 2 гипотезы(Средние пользовательские рейтинги Xbox One равны средним пользовательским рейтингам PC;Средние  пользовательские рейтинги Xbox One не равны средним пользовательским рейтингам PC.) обе оказались не верны."
   ]
  }
 ],
 "metadata": {
  "ExecuteTimeLog": [
   {
    "duration": 1127,
    "start_time": "2023-12-24T11:34:52.732Z"
   },
   {
    "duration": 3242,
    "start_time": "2023-12-24T11:35:45.519Z"
   },
   {
    "duration": 287,
    "start_time": "2023-12-24T11:35:50.339Z"
   },
   {
    "duration": 93,
    "start_time": "2023-12-24T11:36:16.947Z"
   },
   {
    "duration": 3,
    "start_time": "2023-12-24T11:37:28.626Z"
   },
   {
    "duration": 16,
    "start_time": "2023-12-24T11:39:23.888Z"
   },
   {
    "duration": 862,
    "start_time": "2023-12-24T11:40:38.079Z"
   },
   {
    "duration": 7,
    "start_time": "2023-12-24T11:41:21.351Z"
   },
   {
    "duration": 8,
    "start_time": "2023-12-24T11:43:53.270Z"
   },
   {
    "duration": 10,
    "start_time": "2023-12-24T11:44:01.216Z"
   },
   {
    "duration": 38,
    "start_time": "2023-12-24T11:45:56.559Z"
   },
   {
    "duration": 6,
    "start_time": "2023-12-24T11:50:43.154Z"
   },
   {
    "duration": 5,
    "start_time": "2023-12-24T11:55:25.585Z"
   },
   {
    "duration": 3,
    "start_time": "2023-12-24T11:57:28.928Z"
   },
   {
    "duration": 10,
    "start_time": "2023-12-24T11:57:45.337Z"
   },
   {
    "duration": 18,
    "start_time": "2023-12-24T11:57:54.444Z"
   },
   {
    "duration": 341,
    "start_time": "2023-12-24T11:58:12.086Z"
   },
   {
    "duration": 21,
    "start_time": "2023-12-24T11:58:56.134Z"
   },
   {
    "duration": 16,
    "start_time": "2023-12-24T11:59:30.625Z"
   },
   {
    "duration": 14,
    "start_time": "2023-12-24T12:00:52.866Z"
   },
   {
    "duration": 4,
    "start_time": "2023-12-24T12:01:13.353Z"
   },
   {
    "duration": 182,
    "start_time": "2023-12-24T12:01:21.237Z"
   },
   {
    "duration": 203,
    "start_time": "2023-12-24T12:01:32.515Z"
   },
   {
    "duration": 74,
    "start_time": "2023-12-24T12:01:39.383Z"
   },
   {
    "duration": 189,
    "start_time": "2023-12-24T12:01:51.611Z"
   },
   {
    "duration": 190,
    "start_time": "2023-12-24T12:01:59.994Z"
   },
   {
    "duration": 275,
    "start_time": "2023-12-24T12:02:08.533Z"
   },
   {
    "duration": 17,
    "start_time": "2023-12-24T12:03:40.487Z"
   },
   {
    "duration": 20,
    "start_time": "2023-12-24T12:03:52.262Z"
   },
   {
    "duration": 210,
    "start_time": "2023-12-24T12:04:44.453Z"
   },
   {
    "duration": 22,
    "start_time": "2023-12-24T12:06:59.767Z"
   },
   {
    "duration": 215,
    "start_time": "2023-12-24T12:07:02.422Z"
   },
   {
    "duration": 24,
    "start_time": "2023-12-24T12:07:18.697Z"
   },
   {
    "duration": 223,
    "start_time": "2023-12-24T12:07:21.473Z"
   },
   {
    "duration": 41,
    "start_time": "2023-12-24T12:18:37.946Z"
   },
   {
    "duration": 31,
    "start_time": "2023-12-24T12:18:58.723Z"
   },
   {
    "duration": 495,
    "start_time": "2023-12-24T12:19:03.498Z"
   },
   {
    "duration": 23,
    "start_time": "2023-12-24T12:19:40.178Z"
   },
   {
    "duration": 223,
    "start_time": "2023-12-24T12:19:43.850Z"
   },
   {
    "duration": 20,
    "start_time": "2023-12-24T12:22:02.188Z"
   },
   {
    "duration": 205,
    "start_time": "2023-12-24T12:22:05.372Z"
   },
   {
    "duration": 17,
    "start_time": "2023-12-24T12:24:01.322Z"
   },
   {
    "duration": 13,
    "start_time": "2023-12-24T12:36:06.823Z"
   },
   {
    "duration": 7,
    "start_time": "2023-12-24T12:46:27.722Z"
   },
   {
    "duration": 116,
    "start_time": "2023-12-24T12:46:37.175Z"
   },
   {
    "duration": 5,
    "start_time": "2023-12-24T12:48:19.929Z"
   },
   {
    "duration": 114,
    "start_time": "2023-12-24T12:48:23.038Z"
   },
   {
    "duration": 4,
    "start_time": "2023-12-24T12:48:40.134Z"
   },
   {
    "duration": 53,
    "start_time": "2023-12-24T12:48:42.383Z"
   },
   {
    "duration": 4,
    "start_time": "2023-12-24T12:50:44.594Z"
   },
   {
    "duration": 54,
    "start_time": "2023-12-24T12:50:46.643Z"
   },
   {
    "duration": 4,
    "start_time": "2023-12-24T12:51:18.826Z"
   },
   {
    "duration": 55,
    "start_time": "2023-12-24T12:51:20.462Z"
   },
   {
    "duration": 13,
    "start_time": "2023-12-24T12:56:56.811Z"
   },
   {
    "duration": 15,
    "start_time": "2023-12-24T12:57:32.752Z"
   },
   {
    "duration": 5,
    "start_time": "2023-12-24T12:58:02.640Z"
   },
   {
    "duration": 52,
    "start_time": "2023-12-24T12:58:04.543Z"
   },
   {
    "duration": 5,
    "start_time": "2023-12-24T13:00:33.185Z"
   },
   {
    "duration": 56,
    "start_time": "2023-12-24T13:00:34.734Z"
   },
   {
    "duration": 5,
    "start_time": "2023-12-24T13:04:20.426Z"
   },
   {
    "duration": 18,
    "start_time": "2023-12-24T13:04:22.490Z"
   },
   {
    "duration": 5,
    "start_time": "2023-12-24T13:05:43.822Z"
   },
   {
    "duration": 45,
    "start_time": "2023-12-24T13:05:45.471Z"
   },
   {
    "duration": 5,
    "start_time": "2023-12-24T13:06:08.524Z"
   },
   {
    "duration": 49,
    "start_time": "2023-12-24T13:06:10.354Z"
   },
   {
    "duration": 5,
    "start_time": "2023-12-24T13:06:43.003Z"
   },
   {
    "duration": 47,
    "start_time": "2023-12-24T13:06:44.704Z"
   },
   {
    "duration": 5,
    "start_time": "2023-12-24T13:08:34.813Z"
   },
   {
    "duration": 52,
    "start_time": "2023-12-24T13:08:36.499Z"
   },
   {
    "duration": 5,
    "start_time": "2023-12-24T13:10:37.639Z"
   },
   {
    "duration": 57,
    "start_time": "2023-12-24T13:10:39.088Z"
   },
   {
    "duration": 5,
    "start_time": "2023-12-24T13:15:42.820Z"
   },
   {
    "duration": 45,
    "start_time": "2023-12-24T13:15:44.583Z"
   },
   {
    "duration": 5,
    "start_time": "2023-12-24T13:15:57.536Z"
   },
   {
    "duration": 44,
    "start_time": "2023-12-24T13:15:59.196Z"
   },
   {
    "duration": 45,
    "start_time": "2023-12-25T11:00:50.172Z"
   },
   {
    "duration": 2984,
    "start_time": "2023-12-25T11:00:52.859Z"
   },
   {
    "duration": 2353,
    "start_time": "2023-12-25T11:01:01.718Z"
   },
   {
    "duration": 1241,
    "start_time": "2023-12-25T11:01:04.073Z"
   },
   {
    "duration": 106,
    "start_time": "2023-12-25T11:01:05.316Z"
   },
   {
    "duration": 3,
    "start_time": "2023-12-25T11:01:05.424Z"
   },
   {
    "duration": 21,
    "start_time": "2023-12-25T11:01:05.429Z"
   },
   {
    "duration": 65,
    "start_time": "2023-12-25T11:01:05.451Z"
   },
   {
    "duration": 0,
    "start_time": "2023-12-25T11:01:05.518Z"
   },
   {
    "duration": 0,
    "start_time": "2023-12-25T11:01:05.519Z"
   },
   {
    "duration": 0,
    "start_time": "2023-12-25T11:01:05.520Z"
   },
   {
    "duration": 0,
    "start_time": "2023-12-25T11:01:05.521Z"
   },
   {
    "duration": 0,
    "start_time": "2023-12-25T11:01:05.522Z"
   },
   {
    "duration": 0,
    "start_time": "2023-12-25T11:01:05.523Z"
   },
   {
    "duration": 0,
    "start_time": "2023-12-25T11:01:05.524Z"
   },
   {
    "duration": 0,
    "start_time": "2023-12-25T11:01:05.525Z"
   },
   {
    "duration": 0,
    "start_time": "2023-12-25T11:01:05.526Z"
   },
   {
    "duration": 0,
    "start_time": "2023-12-25T11:01:05.527Z"
   },
   {
    "duration": 0,
    "start_time": "2023-12-25T11:01:05.528Z"
   },
   {
    "duration": 0,
    "start_time": "2023-12-25T11:01:05.529Z"
   },
   {
    "duration": 0,
    "start_time": "2023-12-25T11:01:05.530Z"
   },
   {
    "duration": 0,
    "start_time": "2023-12-25T11:01:05.531Z"
   },
   {
    "duration": 0,
    "start_time": "2023-12-25T11:01:05.532Z"
   },
   {
    "duration": 0,
    "start_time": "2023-12-25T11:01:05.534Z"
   },
   {
    "duration": 0,
    "start_time": "2023-12-25T11:01:05.535Z"
   },
   {
    "duration": 0,
    "start_time": "2023-12-25T11:01:05.536Z"
   },
   {
    "duration": 0,
    "start_time": "2023-12-25T11:01:05.537Z"
   },
   {
    "duration": 0,
    "start_time": "2023-12-25T11:01:05.538Z"
   },
   {
    "duration": 0,
    "start_time": "2023-12-25T11:01:05.539Z"
   },
   {
    "duration": 12,
    "start_time": "2023-12-25T11:01:17.961Z"
   },
   {
    "duration": 8,
    "start_time": "2023-12-25T11:02:07.574Z"
   },
   {
    "duration": 871,
    "start_time": "2023-12-25T11:02:10.473Z"
   },
   {
    "duration": 9,
    "start_time": "2023-12-25T11:02:20.384Z"
   },
   {
    "duration": 20,
    "start_time": "2023-12-25T11:02:21.419Z"
   },
   {
    "duration": 6,
    "start_time": "2023-12-25T11:02:24.343Z"
   },
   {
    "duration": 5,
    "start_time": "2023-12-25T11:02:26.789Z"
   },
   {
    "duration": 3,
    "start_time": "2023-12-25T11:02:30.461Z"
   },
   {
    "duration": 17,
    "start_time": "2023-12-25T11:02:30.976Z"
   },
   {
    "duration": 326,
    "start_time": "2023-12-25T11:02:31.467Z"
   },
   {
    "duration": 20,
    "start_time": "2023-12-25T11:02:34.027Z"
   },
   {
    "duration": 13,
    "start_time": "2023-12-25T11:02:34.474Z"
   },
   {
    "duration": 3,
    "start_time": "2023-12-25T11:02:35.395Z"
   },
   {
    "duration": 171,
    "start_time": "2023-12-25T11:02:35.941Z"
   },
   {
    "duration": 171,
    "start_time": "2023-12-25T11:02:36.351Z"
   },
   {
    "duration": 161,
    "start_time": "2023-12-25T11:02:36.553Z"
   },
   {
    "duration": 160,
    "start_time": "2023-12-25T11:02:36.733Z"
   },
   {
    "duration": 169,
    "start_time": "2023-12-25T11:02:36.899Z"
   },
   {
    "duration": 21,
    "start_time": "2023-12-25T11:02:37.268Z"
   },
   {
    "duration": 267,
    "start_time": "2023-12-25T11:02:37.423Z"
   },
   {
    "duration": 12,
    "start_time": "2023-12-25T11:02:37.769Z"
   },
   {
    "duration": 4,
    "start_time": "2023-12-25T11:02:37.946Z"
   },
   {
    "duration": 43,
    "start_time": "2023-12-25T11:02:38.111Z"
   },
   {
    "duration": 5,
    "start_time": "2023-12-25T11:03:24.142Z"
   },
   {
    "duration": 50,
    "start_time": "2023-12-25T11:03:25.839Z"
   },
   {
    "duration": 11,
    "start_time": "2023-12-25T11:03:57.653Z"
   },
   {
    "duration": 4,
    "start_time": "2023-12-25T11:04:44.403Z"
   },
   {
    "duration": 42,
    "start_time": "2023-12-25T11:04:46.054Z"
   },
   {
    "duration": 4,
    "start_time": "2023-12-25T11:17:13.830Z"
   },
   {
    "duration": 43,
    "start_time": "2023-12-25T11:17:15.317Z"
   },
   {
    "duration": 7,
    "start_time": "2023-12-25T11:20:40.347Z"
   },
   {
    "duration": 11,
    "start_time": "2023-12-25T11:23:41.648Z"
   },
   {
    "duration": 86,
    "start_time": "2023-12-25T11:23:47.145Z"
   },
   {
    "duration": 8,
    "start_time": "2023-12-25T11:24:27.188Z"
   },
   {
    "duration": 88,
    "start_time": "2023-12-25T11:24:37.710Z"
   },
   {
    "duration": 100,
    "start_time": "2023-12-25T11:26:13.782Z"
   },
   {
    "duration": 3,
    "start_time": "2023-12-25T11:27:13.048Z"
   },
   {
    "duration": 13,
    "start_time": "2023-12-25T11:27:19.938Z"
   },
   {
    "duration": 19,
    "start_time": "2023-12-25T11:27:57.944Z"
   },
   {
    "duration": 77,
    "start_time": "2023-12-25T11:29:07.296Z"
   },
   {
    "duration": 87,
    "start_time": "2023-12-25T11:29:53.214Z"
   },
   {
    "duration": 6,
    "start_time": "2023-12-25T11:31:30.585Z"
   },
   {
    "duration": 25,
    "start_time": "2023-12-25T11:34:18.425Z"
   },
   {
    "duration": 2361,
    "start_time": "2023-12-25T11:53:30.793Z"
   },
   {
    "duration": 3,
    "start_time": "2023-12-25T11:54:07.292Z"
   },
   {
    "duration": 64,
    "start_time": "2023-12-25T11:54:08.823Z"
   },
   {
    "duration": 5,
    "start_time": "2023-12-25T11:54:10.116Z"
   },
   {
    "duration": 2515,
    "start_time": "2023-12-25T11:54:15.754Z"
   },
   {
    "duration": 3,
    "start_time": "2023-12-25T11:54:18.272Z"
   },
   {
    "duration": 65,
    "start_time": "2023-12-25T11:54:18.276Z"
   },
   {
    "duration": 3,
    "start_time": "2023-12-25T11:54:18.342Z"
   },
   {
    "duration": 17,
    "start_time": "2023-12-25T11:54:18.347Z"
   },
   {
    "duration": 6,
    "start_time": "2023-12-25T11:54:18.366Z"
   },
   {
    "duration": 882,
    "start_time": "2023-12-25T11:54:18.373Z"
   },
   {
    "duration": 10,
    "start_time": "2023-12-25T11:54:19.257Z"
   },
   {
    "duration": 19,
    "start_time": "2023-12-25T11:54:19.269Z"
   },
   {
    "duration": 25,
    "start_time": "2023-12-25T11:54:19.289Z"
   },
   {
    "duration": 11,
    "start_time": "2023-12-25T11:54:19.316Z"
   },
   {
    "duration": 11,
    "start_time": "2023-12-25T11:54:19.329Z"
   },
   {
    "duration": 18,
    "start_time": "2023-12-25T11:54:19.341Z"
   },
   {
    "duration": 340,
    "start_time": "2023-12-25T11:54:19.361Z"
   },
   {
    "duration": 36,
    "start_time": "2023-12-25T11:54:19.703Z"
   },
   {
    "duration": 14,
    "start_time": "2023-12-25T11:54:19.741Z"
   },
   {
    "duration": 4,
    "start_time": "2023-12-25T11:54:19.756Z"
   },
   {
    "duration": 217,
    "start_time": "2023-12-25T11:54:19.762Z"
   },
   {
    "duration": 193,
    "start_time": "2023-12-25T11:54:19.980Z"
   },
   {
    "duration": 285,
    "start_time": "2023-12-25T11:54:20.175Z"
   },
   {
    "duration": 194,
    "start_time": "2023-12-25T11:54:20.461Z"
   },
   {
    "duration": 194,
    "start_time": "2023-12-25T11:54:20.656Z"
   },
   {
    "duration": 21,
    "start_time": "2023-12-25T11:54:20.851Z"
   },
   {
    "duration": 241,
    "start_time": "2023-12-25T11:54:20.873Z"
   },
   {
    "duration": 16,
    "start_time": "2023-12-25T11:54:21.116Z"
   },
   {
    "duration": 13,
    "start_time": "2023-12-25T11:54:21.134Z"
   },
   {
    "duration": 69,
    "start_time": "2023-12-25T11:54:21.148Z"
   },
   {
    "duration": 18,
    "start_time": "2023-12-25T11:54:21.219Z"
   },
   {
    "duration": 113,
    "start_time": "2023-12-25T11:54:21.238Z"
   },
   {
    "duration": 0,
    "start_time": "2023-12-25T11:54:21.352Z"
   },
   {
    "duration": 104,
    "start_time": "2023-12-25T11:54:40.450Z"
   },
   {
    "duration": 25,
    "start_time": "2023-12-25T11:54:44.055Z"
   },
   {
    "duration": 146,
    "start_time": "2023-12-25T11:57:24.333Z"
   },
   {
    "duration": 212,
    "start_time": "2023-12-25T11:57:33.975Z"
   },
   {
    "duration": 25,
    "start_time": "2023-12-25T12:05:01.615Z"
   },
   {
    "duration": 24,
    "start_time": "2023-12-25T12:06:26.040Z"
   },
   {
    "duration": 7,
    "start_time": "2023-12-25T12:06:29.749Z"
   },
   {
    "duration": 5,
    "start_time": "2023-12-25T12:06:31.953Z"
   },
   {
    "duration": 369,
    "start_time": "2023-12-25T12:06:40.512Z"
   },
   {
    "duration": 20,
    "start_time": "2023-12-25T12:06:45.753Z"
   },
   {
    "duration": 15,
    "start_time": "2023-12-25T12:06:48.963Z"
   },
   {
    "duration": 3,
    "start_time": "2023-12-25T12:06:52.445Z"
   },
   {
    "duration": 181,
    "start_time": "2023-12-25T12:06:54.396Z"
   },
   {
    "duration": 290,
    "start_time": "2023-12-25T12:07:00.068Z"
   },
   {
    "duration": 97,
    "start_time": "2023-12-25T12:07:07.975Z"
   },
   {
    "duration": 23,
    "start_time": "2023-12-25T12:07:20.083Z"
   },
   {
    "duration": 121,
    "start_time": "2023-12-25T12:07:23.951Z"
   },
   {
    "duration": 21,
    "start_time": "2023-12-25T12:08:01.416Z"
   },
   {
    "duration": 12,
    "start_time": "2023-12-25T12:08:34.384Z"
   },
   {
    "duration": 7,
    "start_time": "2023-12-25T12:09:14.604Z"
   },
   {
    "duration": 24,
    "start_time": "2023-12-25T12:09:18.707Z"
   },
   {
    "duration": 14,
    "start_time": "2023-12-25T12:09:36.793Z"
   },
   {
    "duration": 7,
    "start_time": "2023-12-25T12:09:50.796Z"
   },
   {
    "duration": 17,
    "start_time": "2023-12-25T12:09:54.919Z"
   },
   {
    "duration": 4,
    "start_time": "2023-12-25T12:10:14.857Z"
   },
   {
    "duration": 14,
    "start_time": "2023-12-25T12:10:16.632Z"
   },
   {
    "duration": 4,
    "start_time": "2023-12-25T12:10:38.326Z"
   },
   {
    "duration": 14,
    "start_time": "2023-12-25T12:10:52.147Z"
   },
   {
    "duration": 136,
    "start_time": "2023-12-25T12:12:18.637Z"
   },
   {
    "duration": 752,
    "start_time": "2023-12-25T12:14:27.904Z"
   },
   {
    "duration": 802,
    "start_time": "2023-12-25T12:14:57.918Z"
   },
   {
    "duration": 1596,
    "start_time": "2023-12-25T12:15:12.602Z"
   },
   {
    "duration": 10,
    "start_time": "2023-12-25T12:18:07.327Z"
   },
   {
    "duration": 255,
    "start_time": "2023-12-25T12:18:22.026Z"
   },
   {
    "duration": 229,
    "start_time": "2023-12-25T12:18:41.544Z"
   },
   {
    "duration": 15,
    "start_time": "2023-12-25T12:19:35.363Z"
   },
   {
    "duration": 3,
    "start_time": "2023-12-25T12:19:37.752Z"
   },
   {
    "duration": 3,
    "start_time": "2023-12-25T12:19:39.811Z"
   },
   {
    "duration": 5,
    "start_time": "2023-12-25T12:19:42.152Z"
   },
   {
    "duration": 284,
    "start_time": "2023-12-25T12:19:48.528Z"
   },
   {
    "duration": 6,
    "start_time": "2023-12-25T12:20:17.178Z"
   },
   {
    "duration": 14,
    "start_time": "2023-12-25T12:21:50.966Z"
   },
   {
    "duration": 85,
    "start_time": "2023-12-25T12:24:18.108Z"
   },
   {
    "duration": 7,
    "start_time": "2023-12-25T12:25:44.090Z"
   },
   {
    "duration": 6,
    "start_time": "2023-12-25T12:25:59.314Z"
   },
   {
    "duration": 8,
    "start_time": "2023-12-25T12:29:07.487Z"
   },
   {
    "duration": 184,
    "start_time": "2023-12-25T12:30:05.915Z"
   },
   {
    "duration": 6,
    "start_time": "2023-12-25T12:36:15.772Z"
   },
   {
    "duration": 1562,
    "start_time": "2023-12-25T12:37:06.044Z"
   },
   {
    "duration": 1591,
    "start_time": "2023-12-25T12:37:27.712Z"
   },
   {
    "duration": 2712,
    "start_time": "2023-12-25T12:38:25.502Z"
   },
   {
    "duration": 3,
    "start_time": "2023-12-25T12:43:04.646Z"
   },
   {
    "duration": 16,
    "start_time": "2023-12-25T12:43:05.770Z"
   },
   {
    "duration": 7,
    "start_time": "2023-12-25T12:44:38.535Z"
   },
   {
    "duration": 5,
    "start_time": "2023-12-25T12:44:41.460Z"
   },
   {
    "duration": 18,
    "start_time": "2023-12-25T12:44:51.032Z"
   },
   {
    "duration": 6,
    "start_time": "2023-12-25T12:45:22.668Z"
   },
   {
    "duration": 18,
    "start_time": "2023-12-25T12:45:24.253Z"
   },
   {
    "duration": 17,
    "start_time": "2023-12-25T12:45:39.858Z"
   },
   {
    "duration": 17,
    "start_time": "2023-12-25T12:45:45.953Z"
   },
   {
    "duration": 3,
    "start_time": "2023-12-25T12:46:12.541Z"
   },
   {
    "duration": 23,
    "start_time": "2023-12-25T12:46:41.015Z"
   },
   {
    "duration": 25,
    "start_time": "2023-12-25T12:47:13.900Z"
   },
   {
    "duration": 78,
    "start_time": "2023-12-25T12:48:23.512Z"
   },
   {
    "duration": 10,
    "start_time": "2023-12-25T12:48:35.408Z"
   },
   {
    "duration": 8,
    "start_time": "2023-12-25T12:48:40.909Z"
   },
   {
    "duration": 7,
    "start_time": "2023-12-25T12:49:13.577Z"
   },
   {
    "duration": 10,
    "start_time": "2023-12-25T12:50:46.050Z"
   },
   {
    "duration": 20,
    "start_time": "2023-12-25T12:51:19.806Z"
   },
   {
    "duration": 8,
    "start_time": "2023-12-25T12:52:13.658Z"
   },
   {
    "duration": 9,
    "start_time": "2023-12-25T12:52:24.754Z"
   },
   {
    "duration": 2337,
    "start_time": "2023-12-25T13:09:12.620Z"
   },
   {
    "duration": 4,
    "start_time": "2023-12-25T13:09:14.959Z"
   },
   {
    "duration": 66,
    "start_time": "2023-12-25T13:09:14.964Z"
   },
   {
    "duration": 3,
    "start_time": "2023-12-25T13:09:15.032Z"
   },
   {
    "duration": 34,
    "start_time": "2023-12-25T13:09:15.036Z"
   },
   {
    "duration": 28,
    "start_time": "2023-12-25T13:09:15.072Z"
   },
   {
    "duration": 844,
    "start_time": "2023-12-25T13:09:15.101Z"
   },
   {
    "duration": 9,
    "start_time": "2023-12-25T13:09:15.947Z"
   },
   {
    "duration": 16,
    "start_time": "2023-12-25T13:09:15.957Z"
   },
   {
    "duration": 5,
    "start_time": "2023-12-25T13:09:15.974Z"
   },
   {
    "duration": 24,
    "start_time": "2023-12-25T13:09:15.981Z"
   },
   {
    "duration": 5,
    "start_time": "2023-12-25T13:09:16.006Z"
   },
   {
    "duration": 13,
    "start_time": "2023-12-25T13:09:16.012Z"
   },
   {
    "duration": 113,
    "start_time": "2023-12-25T13:09:16.028Z"
   },
   {
    "duration": 21,
    "start_time": "2023-12-25T13:09:16.142Z"
   },
   {
    "duration": 321,
    "start_time": "2023-12-25T13:09:16.164Z"
   },
   {
    "duration": 18,
    "start_time": "2023-12-25T13:09:16.487Z"
   },
   {
    "duration": 12,
    "start_time": "2023-12-25T13:09:16.511Z"
   },
   {
    "duration": 4,
    "start_time": "2023-12-25T13:09:16.524Z"
   },
   {
    "duration": 184,
    "start_time": "2023-12-25T13:09:16.529Z"
   },
   {
    "duration": 184,
    "start_time": "2023-12-25T13:09:16.715Z"
   },
   {
    "duration": 173,
    "start_time": "2023-12-25T13:09:16.900Z"
   },
   {
    "duration": 181,
    "start_time": "2023-12-25T13:09:17.075Z"
   },
   {
    "duration": 170,
    "start_time": "2023-12-25T13:09:17.257Z"
   },
   {
    "duration": 16,
    "start_time": "2023-12-25T13:09:17.428Z"
   },
   {
    "duration": 229,
    "start_time": "2023-12-25T13:09:17.445Z"
   },
   {
    "duration": 10,
    "start_time": "2023-12-25T13:09:17.675Z"
   },
   {
    "duration": 33,
    "start_time": "2023-12-25T13:09:17.687Z"
   },
   {
    "duration": 47,
    "start_time": "2023-12-25T13:09:17.722Z"
   },
   {
    "duration": 14,
    "start_time": "2023-12-25T13:09:17.771Z"
   },
   {
    "duration": 88,
    "start_time": "2023-12-25T13:09:17.810Z"
   },
   {
    "duration": 22,
    "start_time": "2023-12-25T13:09:17.911Z"
   },
   {
    "duration": 1641,
    "start_time": "2023-12-25T13:09:17.935Z"
   },
   {
    "duration": 8,
    "start_time": "2023-12-25T13:09:19.578Z"
   },
   {
    "duration": 2698,
    "start_time": "2023-12-25T13:09:19.588Z"
   },
   {
    "duration": 6,
    "start_time": "2023-12-25T13:09:22.288Z"
   },
   {
    "duration": 187,
    "start_time": "2023-12-25T13:09:22.296Z"
   },
   {
    "duration": 6,
    "start_time": "2023-12-25T13:09:22.485Z"
   },
   {
    "duration": 31,
    "start_time": "2023-12-25T13:09:22.492Z"
   },
   {
    "duration": 16,
    "start_time": "2023-12-25T13:09:22.525Z"
   },
   {
    "duration": 19,
    "start_time": "2023-12-25T13:09:22.545Z"
   },
   {
    "duration": 22,
    "start_time": "2023-12-25T13:09:22.565Z"
   },
   {
    "duration": 30,
    "start_time": "2023-12-25T13:09:22.588Z"
   },
   {
    "duration": 24,
    "start_time": "2023-12-25T13:09:22.619Z"
   },
   {
    "duration": 6,
    "start_time": "2023-12-25T13:09:22.645Z"
   },
   {
    "duration": 9,
    "start_time": "2023-12-25T13:09:22.652Z"
   },
   {
    "duration": 27,
    "start_time": "2023-12-25T13:09:22.662Z"
   },
   {
    "duration": 4002,
    "start_time": "2023-12-25T15:32:58.056Z"
   },
   {
    "duration": 1546,
    "start_time": "2023-12-25T15:33:02.061Z"
   },
   {
    "duration": 182,
    "start_time": "2023-12-25T15:33:03.609Z"
   },
   {
    "duration": 4,
    "start_time": "2023-12-25T15:33:03.792Z"
   },
   {
    "duration": 34,
    "start_time": "2023-12-25T15:33:03.799Z"
   },
   {
    "duration": 29,
    "start_time": "2023-12-25T15:33:03.835Z"
   },
   {
    "duration": 904,
    "start_time": "2023-12-25T15:33:03.866Z"
   },
   {
    "duration": 10,
    "start_time": "2023-12-25T15:33:04.771Z"
   },
   {
    "duration": 33,
    "start_time": "2023-12-25T15:33:04.783Z"
   },
   {
    "duration": 6,
    "start_time": "2023-12-25T15:33:04.817Z"
   },
   {
    "duration": 10,
    "start_time": "2023-12-25T15:33:04.825Z"
   },
   {
    "duration": 6,
    "start_time": "2023-12-25T15:33:04.837Z"
   },
   {
    "duration": 20,
    "start_time": "2023-12-25T15:33:04.845Z"
   },
   {
    "duration": 4,
    "start_time": "2023-12-25T15:33:04.868Z"
   },
   {
    "duration": 37,
    "start_time": "2023-12-25T15:33:04.874Z"
   },
   {
    "duration": 390,
    "start_time": "2023-12-25T15:33:04.912Z"
   },
   {
    "duration": 22,
    "start_time": "2023-12-25T15:33:05.303Z"
   },
   {
    "duration": 16,
    "start_time": "2023-12-25T15:33:05.326Z"
   },
   {
    "duration": 21,
    "start_time": "2023-12-25T15:33:05.343Z"
   },
   {
    "duration": 247,
    "start_time": "2023-12-25T15:33:05.366Z"
   },
   {
    "duration": 216,
    "start_time": "2023-12-25T15:33:05.615Z"
   },
   {
    "duration": 213,
    "start_time": "2023-12-25T15:33:05.833Z"
   },
   {
    "duration": 202,
    "start_time": "2023-12-25T15:33:06.048Z"
   },
   {
    "duration": 281,
    "start_time": "2023-12-25T15:33:06.253Z"
   },
   {
    "duration": 22,
    "start_time": "2023-12-25T15:33:06.536Z"
   },
   {
    "duration": 290,
    "start_time": "2023-12-25T15:33:06.560Z"
   },
   {
    "duration": 13,
    "start_time": "2023-12-25T15:33:06.852Z"
   },
   {
    "duration": 29,
    "start_time": "2023-12-25T15:33:06.866Z"
   },
   {
    "duration": 78,
    "start_time": "2023-12-25T15:33:06.897Z"
   },
   {
    "duration": 28,
    "start_time": "2023-12-25T15:33:06.977Z"
   },
   {
    "duration": 130,
    "start_time": "2023-12-25T15:33:07.007Z"
   },
   {
    "duration": 28,
    "start_time": "2023-12-25T15:33:07.138Z"
   },
   {
    "duration": 1918,
    "start_time": "2023-12-25T15:33:07.168Z"
   },
   {
    "duration": 15,
    "start_time": "2023-12-25T15:33:09.088Z"
   },
   {
    "duration": 3231,
    "start_time": "2023-12-25T15:33:09.104Z"
   },
   {
    "duration": 8,
    "start_time": "2023-12-25T15:33:12.337Z"
   },
   {
    "duration": 228,
    "start_time": "2023-12-25T15:33:12.347Z"
   },
   {
    "duration": 6,
    "start_time": "2023-12-25T15:33:12.577Z"
   },
   {
    "duration": 29,
    "start_time": "2023-12-25T15:33:12.585Z"
   },
   {
    "duration": 22,
    "start_time": "2023-12-25T15:33:12.615Z"
   },
   {
    "duration": 25,
    "start_time": "2023-12-25T15:33:12.641Z"
   },
   {
    "duration": 9,
    "start_time": "2023-12-25T15:33:12.668Z"
   },
   {
    "duration": 44,
    "start_time": "2023-12-25T15:33:12.679Z"
   },
   {
    "duration": 31,
    "start_time": "2023-12-25T15:33:12.724Z"
   },
   {
    "duration": 8,
    "start_time": "2023-12-25T15:33:12.757Z"
   },
   {
    "duration": 38,
    "start_time": "2023-12-25T15:33:12.767Z"
   },
   {
    "duration": 11,
    "start_time": "2023-12-25T15:33:12.808Z"
   },
   {
    "duration": 13,
    "start_time": "2023-12-25T15:55:49.531Z"
   },
   {
    "duration": 26,
    "start_time": "2023-12-25T15:56:13.133Z"
   },
   {
    "duration": 2766,
    "start_time": "2023-12-25T16:06:10.017Z"
   },
   {
    "duration": 1304,
    "start_time": "2023-12-25T16:06:12.785Z"
   },
   {
    "duration": 60,
    "start_time": "2023-12-25T16:06:14.091Z"
   },
   {
    "duration": 3,
    "start_time": "2023-12-25T16:06:14.153Z"
   },
   {
    "duration": 22,
    "start_time": "2023-12-25T16:06:14.159Z"
   },
   {
    "duration": 26,
    "start_time": "2023-12-25T16:06:14.183Z"
   },
   {
    "duration": 834,
    "start_time": "2023-12-25T16:06:14.211Z"
   },
   {
    "duration": 11,
    "start_time": "2023-12-25T16:06:15.046Z"
   },
   {
    "duration": 120,
    "start_time": "2023-12-25T16:06:15.059Z"
   },
   {
    "duration": 21,
    "start_time": "2023-12-25T16:06:15.181Z"
   },
   {
    "duration": 17,
    "start_time": "2023-12-25T16:06:15.203Z"
   },
   {
    "duration": 34,
    "start_time": "2023-12-25T16:06:15.221Z"
   },
   {
    "duration": 27,
    "start_time": "2023-12-25T16:06:15.257Z"
   },
   {
    "duration": 13,
    "start_time": "2023-12-25T16:06:15.287Z"
   },
   {
    "duration": 32,
    "start_time": "2023-12-25T16:06:15.302Z"
   },
   {
    "duration": 371,
    "start_time": "2023-12-25T16:06:15.336Z"
   },
   {
    "duration": 23,
    "start_time": "2023-12-25T16:06:15.709Z"
   },
   {
    "duration": 55,
    "start_time": "2023-12-25T16:06:15.734Z"
   },
   {
    "duration": 36,
    "start_time": "2023-12-25T16:06:15.791Z"
   },
   {
    "duration": 209,
    "start_time": "2023-12-25T16:06:15.829Z"
   },
   {
    "duration": 216,
    "start_time": "2023-12-25T16:06:16.040Z"
   },
   {
    "duration": 202,
    "start_time": "2023-12-25T16:06:16.258Z"
   },
   {
    "duration": 210,
    "start_time": "2023-12-25T16:06:16.462Z"
   },
   {
    "duration": 221,
    "start_time": "2023-12-25T16:06:16.673Z"
   },
   {
    "duration": 20,
    "start_time": "2023-12-25T16:06:16.900Z"
   },
   {
    "duration": 336,
    "start_time": "2023-12-25T16:06:16.922Z"
   },
   {
    "duration": 13,
    "start_time": "2023-12-25T16:06:17.260Z"
   },
   {
    "duration": 14,
    "start_time": "2023-12-25T16:06:17.275Z"
   },
   {
    "duration": 60,
    "start_time": "2023-12-25T16:06:17.292Z"
   },
   {
    "duration": 7,
    "start_time": "2023-12-25T16:06:17.354Z"
   },
   {
    "duration": 128,
    "start_time": "2023-12-25T16:06:17.363Z"
   },
   {
    "duration": 34,
    "start_time": "2023-12-25T16:06:17.500Z"
   },
   {
    "duration": 1865,
    "start_time": "2023-12-25T16:06:17.535Z"
   },
   {
    "duration": 9,
    "start_time": "2023-12-25T16:06:19.401Z"
   },
   {
    "duration": 3225,
    "start_time": "2023-12-25T16:06:19.412Z"
   },
   {
    "duration": 7,
    "start_time": "2023-12-25T16:06:22.639Z"
   },
   {
    "duration": 240,
    "start_time": "2023-12-25T16:06:22.648Z"
   },
   {
    "duration": 12,
    "start_time": "2023-12-25T16:06:22.890Z"
   },
   {
    "duration": 21,
    "start_time": "2023-12-25T16:06:22.904Z"
   },
   {
    "duration": 20,
    "start_time": "2023-12-25T16:06:22.927Z"
   },
   {
    "duration": 20,
    "start_time": "2023-12-25T16:06:22.951Z"
   },
   {
    "duration": 4,
    "start_time": "2023-12-25T16:06:22.999Z"
   },
   {
    "duration": 33,
    "start_time": "2023-12-25T16:06:23.004Z"
   },
   {
    "duration": 32,
    "start_time": "2023-12-25T16:06:23.039Z"
   },
   {
    "duration": 28,
    "start_time": "2023-12-25T16:06:23.073Z"
   },
   {
    "duration": 13,
    "start_time": "2023-12-25T16:06:23.104Z"
   },
   {
    "duration": 12,
    "start_time": "2023-12-25T16:06:23.119Z"
   },
   {
    "duration": 63,
    "start_time": "2023-12-25T21:00:45.961Z"
   },
   {
    "duration": 50,
    "start_time": "2023-12-25T21:03:57.338Z"
   },
   {
    "duration": 42,
    "start_time": "2023-12-25T21:11:17.232Z"
   },
   {
    "duration": 6,
    "start_time": "2023-12-25T21:11:19.395Z"
   },
   {
    "duration": 2886,
    "start_time": "2023-12-25T21:11:21.681Z"
   },
   {
    "duration": 1246,
    "start_time": "2023-12-25T21:11:25.507Z"
   },
   {
    "duration": 186,
    "start_time": "2023-12-25T21:11:28.723Z"
   },
   {
    "duration": 18,
    "start_time": "2023-12-25T21:11:30.482Z"
   },
   {
    "duration": 10,
    "start_time": "2023-12-25T21:51:18.896Z"
   },
   {
    "duration": 61,
    "start_time": "2023-12-25T21:55:47.237Z"
   },
   {
    "duration": 8,
    "start_time": "2023-12-25T21:55:53.351Z"
   },
   {
    "duration": 9,
    "start_time": "2023-12-25T21:56:00.233Z"
   },
   {
    "duration": 2207,
    "start_time": "2023-12-25T21:56:27.779Z"
   },
   {
    "duration": 3,
    "start_time": "2023-12-25T21:56:30.995Z"
   },
   {
    "duration": 55,
    "start_time": "2023-12-25T21:56:32.754Z"
   },
   {
    "duration": 17,
    "start_time": "2023-12-25T21:56:34.131Z"
   },
   {
    "duration": 4,
    "start_time": "2023-12-25T21:56:36.943Z"
   },
   {
    "duration": 17,
    "start_time": "2023-12-25T21:56:40.148Z"
   },
   {
    "duration": 7,
    "start_time": "2023-12-25T21:56:42.505Z"
   },
   {
    "duration": 4,
    "start_time": "2023-12-25T21:56:55.291Z"
   },
   {
    "duration": 16,
    "start_time": "2023-12-25T21:58:18.590Z"
   },
   {
    "duration": 18,
    "start_time": "2023-12-25T21:58:21.297Z"
   },
   {
    "duration": 4,
    "start_time": "2023-12-25T21:59:25.700Z"
   },
   {
    "duration": 12,
    "start_time": "2023-12-25T21:59:28.869Z"
   },
   {
    "duration": 9,
    "start_time": "2023-12-25T22:00:32.462Z"
   },
   {
    "duration": 6,
    "start_time": "2023-12-25T22:01:02.863Z"
   },
   {
    "duration": 3,
    "start_time": "2023-12-25T22:01:04.927Z"
   },
   {
    "duration": 30,
    "start_time": "2023-12-25T22:02:28.752Z"
   },
   {
    "duration": 37,
    "start_time": "2023-12-25T22:03:00.594Z"
   },
   {
    "duration": 51,
    "start_time": "2023-12-25T22:03:11.529Z"
   },
   {
    "duration": 12,
    "start_time": "2023-12-25T22:03:12.741Z"
   },
   {
    "duration": 3,
    "start_time": "2023-12-25T22:03:14.677Z"
   },
   {
    "duration": 6,
    "start_time": "2023-12-25T22:03:20.425Z"
   },
   {
    "duration": 4,
    "start_time": "2023-12-25T22:03:22.440Z"
   },
   {
    "duration": 38,
    "start_time": "2023-12-25T22:03:23.985Z"
   },
   {
    "duration": 17,
    "start_time": "2023-12-25T22:03:51.418Z"
   },
   {
    "duration": 51,
    "start_time": "2023-12-25T22:03:57.237Z"
   },
   {
    "duration": 3,
    "start_time": "2023-12-25T22:04:00.562Z"
   },
   {
    "duration": 6,
    "start_time": "2023-12-25T22:04:08.815Z"
   },
   {
    "duration": 5,
    "start_time": "2023-12-25T22:04:12.604Z"
   },
   {
    "duration": 19,
    "start_time": "2023-12-25T22:15:39.640Z"
   },
   {
    "duration": 3,
    "start_time": "2023-12-25T22:23:11.804Z"
   },
   {
    "duration": 14,
    "start_time": "2023-12-25T22:23:13.833Z"
   },
   {
    "duration": 282,
    "start_time": "2023-12-25T22:23:16.935Z"
   },
   {
    "duration": 3,
    "start_time": "2023-12-25T22:23:59.628Z"
   },
   {
    "duration": 272,
    "start_time": "2023-12-25T22:24:02.580Z"
   },
   {
    "duration": 15,
    "start_time": "2023-12-25T23:07:53.229Z"
   },
   {
    "duration": 5,
    "start_time": "2023-12-25T23:07:56.275Z"
   },
   {
    "duration": 8,
    "start_time": "2023-12-25T23:07:58.184Z"
   },
   {
    "duration": 18,
    "start_time": "2023-12-25T23:08:07.931Z"
   },
   {
    "duration": 9,
    "start_time": "2023-12-25T23:08:12.965Z"
   },
   {
    "duration": 9,
    "start_time": "2023-12-25T23:08:25.267Z"
   },
   {
    "duration": 2359,
    "start_time": "2023-12-25T23:08:33.335Z"
   },
   {
    "duration": 3,
    "start_time": "2023-12-25T23:08:35.697Z"
   },
   {
    "duration": 61,
    "start_time": "2023-12-25T23:08:35.702Z"
   },
   {
    "duration": 14,
    "start_time": "2023-12-25T23:08:35.764Z"
   },
   {
    "duration": 4,
    "start_time": "2023-12-25T23:08:35.780Z"
   },
   {
    "duration": 17,
    "start_time": "2023-12-25T23:08:35.785Z"
   },
   {
    "duration": 7,
    "start_time": "2023-12-25T23:08:35.803Z"
   },
   {
    "duration": 817,
    "start_time": "2023-12-25T23:08:35.811Z"
   },
   {
    "duration": 9,
    "start_time": "2023-12-25T23:08:36.629Z"
   },
   {
    "duration": 17,
    "start_time": "2023-12-25T23:08:36.639Z"
   },
   {
    "duration": 0,
    "start_time": "2023-12-25T23:08:36.658Z"
   },
   {
    "duration": 0,
    "start_time": "2023-12-25T23:08:36.660Z"
   },
   {
    "duration": 0,
    "start_time": "2023-12-25T23:08:36.661Z"
   },
   {
    "duration": 0,
    "start_time": "2023-12-25T23:08:36.662Z"
   },
   {
    "duration": 0,
    "start_time": "2023-12-25T23:08:36.663Z"
   },
   {
    "duration": 0,
    "start_time": "2023-12-25T23:08:36.664Z"
   },
   {
    "duration": 0,
    "start_time": "2023-12-25T23:08:36.665Z"
   },
   {
    "duration": 0,
    "start_time": "2023-12-25T23:08:36.666Z"
   },
   {
    "duration": 0,
    "start_time": "2023-12-25T23:08:36.667Z"
   },
   {
    "duration": 0,
    "start_time": "2023-12-25T23:08:36.668Z"
   },
   {
    "duration": 0,
    "start_time": "2023-12-25T23:08:36.669Z"
   },
   {
    "duration": 0,
    "start_time": "2023-12-25T23:08:36.699Z"
   },
   {
    "duration": 0,
    "start_time": "2023-12-25T23:08:36.700Z"
   },
   {
    "duration": 0,
    "start_time": "2023-12-25T23:08:36.701Z"
   },
   {
    "duration": 0,
    "start_time": "2023-12-25T23:08:36.702Z"
   },
   {
    "duration": 0,
    "start_time": "2023-12-25T23:08:36.703Z"
   },
   {
    "duration": 0,
    "start_time": "2023-12-25T23:08:36.704Z"
   },
   {
    "duration": 0,
    "start_time": "2023-12-25T23:08:36.704Z"
   },
   {
    "duration": 1,
    "start_time": "2023-12-25T23:08:36.705Z"
   },
   {
    "duration": 0,
    "start_time": "2023-12-25T23:08:36.706Z"
   },
   {
    "duration": 0,
    "start_time": "2023-12-25T23:08:36.707Z"
   },
   {
    "duration": 0,
    "start_time": "2023-12-25T23:08:36.708Z"
   },
   {
    "duration": 0,
    "start_time": "2023-12-25T23:08:36.709Z"
   },
   {
    "duration": 0,
    "start_time": "2023-12-25T23:08:36.710Z"
   },
   {
    "duration": 0,
    "start_time": "2023-12-25T23:08:36.711Z"
   },
   {
    "duration": 0,
    "start_time": "2023-12-25T23:08:36.712Z"
   },
   {
    "duration": 0,
    "start_time": "2023-12-25T23:08:36.713Z"
   },
   {
    "duration": 0,
    "start_time": "2023-12-25T23:08:36.714Z"
   },
   {
    "duration": 0,
    "start_time": "2023-12-25T23:08:36.715Z"
   },
   {
    "duration": 0,
    "start_time": "2023-12-25T23:08:36.716Z"
   },
   {
    "duration": 0,
    "start_time": "2023-12-25T23:08:36.717Z"
   },
   {
    "duration": 0,
    "start_time": "2023-12-25T23:08:36.718Z"
   },
   {
    "duration": 0,
    "start_time": "2023-12-25T23:08:36.719Z"
   },
   {
    "duration": 0,
    "start_time": "2023-12-25T23:08:36.720Z"
   },
   {
    "duration": 0,
    "start_time": "2023-12-25T23:08:36.720Z"
   },
   {
    "duration": 0,
    "start_time": "2023-12-25T23:08:36.721Z"
   },
   {
    "duration": 0,
    "start_time": "2023-12-25T23:08:36.722Z"
   },
   {
    "duration": 0,
    "start_time": "2023-12-25T23:08:36.723Z"
   },
   {
    "duration": 6,
    "start_time": "2023-12-25T23:09:56.116Z"
   },
   {
    "duration": 2289,
    "start_time": "2023-12-25T23:09:59.752Z"
   },
   {
    "duration": 4,
    "start_time": "2023-12-25T23:10:02.043Z"
   },
   {
    "duration": 85,
    "start_time": "2023-12-25T23:10:02.048Z"
   },
   {
    "duration": 14,
    "start_time": "2023-12-25T23:10:02.135Z"
   },
   {
    "duration": 45,
    "start_time": "2023-12-25T23:10:02.151Z"
   },
   {
    "duration": 36,
    "start_time": "2023-12-25T23:10:02.198Z"
   },
   {
    "duration": 16,
    "start_time": "2023-12-25T23:10:02.235Z"
   },
   {
    "duration": 875,
    "start_time": "2023-12-25T23:10:02.253Z"
   },
   {
    "duration": 8,
    "start_time": "2023-12-25T23:10:03.130Z"
   },
   {
    "duration": 52,
    "start_time": "2023-12-25T23:10:03.139Z"
   },
   {
    "duration": 43,
    "start_time": "2023-12-25T23:10:03.193Z"
   },
   {
    "duration": 48,
    "start_time": "2023-12-25T23:10:03.238Z"
   },
   {
    "duration": 4,
    "start_time": "2023-12-25T23:10:03.287Z"
   },
   {
    "duration": 27,
    "start_time": "2023-12-25T23:10:03.294Z"
   },
   {
    "duration": 32,
    "start_time": "2023-12-25T23:10:03.323Z"
   },
   {
    "duration": 39,
    "start_time": "2023-12-25T23:10:03.357Z"
   },
   {
    "duration": 443,
    "start_time": "2023-12-25T23:10:03.398Z"
   },
   {
    "duration": 21,
    "start_time": "2023-12-25T23:10:03.843Z"
   },
   {
    "duration": 36,
    "start_time": "2023-12-25T23:10:03.865Z"
   },
   {
    "duration": 3,
    "start_time": "2023-12-25T23:10:03.904Z"
   },
   {
    "duration": 190,
    "start_time": "2023-12-25T23:10:03.909Z"
   },
   {
    "duration": 189,
    "start_time": "2023-12-25T23:10:04.100Z"
   },
   {
    "duration": 175,
    "start_time": "2023-12-25T23:10:04.291Z"
   },
   {
    "duration": 175,
    "start_time": "2023-12-25T23:10:04.467Z"
   },
   {
    "duration": 173,
    "start_time": "2023-12-25T23:10:04.644Z"
   },
   {
    "duration": 17,
    "start_time": "2023-12-25T23:10:04.818Z"
   },
   {
    "duration": 224,
    "start_time": "2023-12-25T23:10:04.837Z"
   },
   {
    "duration": 11,
    "start_time": "2023-12-25T23:10:05.062Z"
   },
   {
    "duration": 20,
    "start_time": "2023-12-25T23:10:05.074Z"
   },
   {
    "duration": 45,
    "start_time": "2023-12-25T23:10:05.096Z"
   },
   {
    "duration": 15,
    "start_time": "2023-12-25T23:10:05.143Z"
   },
   {
    "duration": 108,
    "start_time": "2023-12-25T23:10:05.159Z"
   },
   {
    "duration": 33,
    "start_time": "2023-12-25T23:10:05.268Z"
   },
   {
    "duration": 1612,
    "start_time": "2023-12-25T23:10:05.302Z"
   },
   {
    "duration": 8,
    "start_time": "2023-12-25T23:10:06.915Z"
   },
   {
    "duration": 2875,
    "start_time": "2023-12-25T23:10:06.924Z"
   },
   {
    "duration": 194,
    "start_time": "2023-12-25T23:10:09.800Z"
   },
   {
    "duration": 0,
    "start_time": "2023-12-25T23:10:09.996Z"
   },
   {
    "duration": 0,
    "start_time": "2023-12-25T23:10:09.997Z"
   },
   {
    "duration": 0,
    "start_time": "2023-12-25T23:10:09.998Z"
   },
   {
    "duration": 0,
    "start_time": "2023-12-25T23:10:09.999Z"
   },
   {
    "duration": 0,
    "start_time": "2023-12-25T23:10:10.000Z"
   },
   {
    "duration": 0,
    "start_time": "2023-12-25T23:10:10.001Z"
   },
   {
    "duration": 0,
    "start_time": "2023-12-25T23:10:10.002Z"
   },
   {
    "duration": 0,
    "start_time": "2023-12-25T23:10:10.003Z"
   },
   {
    "duration": 0,
    "start_time": "2023-12-25T23:10:10.004Z"
   },
   {
    "duration": 0,
    "start_time": "2023-12-25T23:10:10.005Z"
   },
   {
    "duration": 0,
    "start_time": "2023-12-25T23:10:10.006Z"
   },
   {
    "duration": 38,
    "start_time": "2023-12-25T23:10:52.095Z"
   },
   {
    "duration": 11,
    "start_time": "2023-12-25T23:11:49.164Z"
   },
   {
    "duration": 42,
    "start_time": "2023-12-25T23:12:05.730Z"
   },
   {
    "duration": 16,
    "start_time": "2023-12-25T23:14:20.014Z"
   },
   {
    "duration": 14,
    "start_time": "2023-12-25T23:14:50.628Z"
   },
   {
    "duration": 153,
    "start_time": "2023-12-25T23:16:17.391Z"
   },
   {
    "duration": 20,
    "start_time": "2023-12-25T23:16:57.720Z"
   },
   {
    "duration": 13,
    "start_time": "2023-12-25T23:17:27.324Z"
   },
   {
    "duration": 150,
    "start_time": "2023-12-25T23:17:58.391Z"
   },
   {
    "duration": 573,
    "start_time": "2023-12-25T23:18:18.898Z"
   },
   {
    "duration": 493,
    "start_time": "2023-12-25T23:18:36.692Z"
   },
   {
    "duration": 10,
    "start_time": "2023-12-25T23:18:55.872Z"
   },
   {
    "duration": 11,
    "start_time": "2023-12-25T23:19:12.102Z"
   },
   {
    "duration": 120,
    "start_time": "2023-12-25T23:19:39.008Z"
   },
   {
    "duration": 24,
    "start_time": "2023-12-25T23:20:12.261Z"
   },
   {
    "duration": 1871,
    "start_time": "2023-12-25T23:21:38.351Z"
   },
   {
    "duration": 2036,
    "start_time": "2023-12-25T23:22:39.932Z"
   },
   {
    "duration": 2086,
    "start_time": "2023-12-25T23:23:03.591Z"
   },
   {
    "duration": 1889,
    "start_time": "2023-12-25T23:23:21.256Z"
   },
   {
    "duration": 1949,
    "start_time": "2023-12-25T23:24:21.573Z"
   },
   {
    "duration": 1952,
    "start_time": "2023-12-25T23:24:33.656Z"
   },
   {
    "duration": 1929,
    "start_time": "2023-12-25T23:24:46.839Z"
   },
   {
    "duration": 448,
    "start_time": "2023-12-25T23:25:26.217Z"
   },
   {
    "duration": 2026,
    "start_time": "2023-12-25T23:25:54.111Z"
   },
   {
    "duration": 1464,
    "start_time": "2023-12-25T23:26:09.063Z"
   },
   {
    "duration": 451,
    "start_time": "2023-12-25T23:26:29.689Z"
   },
   {
    "duration": 1450,
    "start_time": "2023-12-25T23:26:37.386Z"
   },
   {
    "duration": 1581,
    "start_time": "2023-12-25T23:28:34.428Z"
   },
   {
    "duration": 482,
    "start_time": "2023-12-25T23:28:52.524Z"
   },
   {
    "duration": 1661,
    "start_time": "2023-12-25T23:29:01.344Z"
   },
   {
    "duration": 9,
    "start_time": "2023-12-25T23:37:34.056Z"
   },
   {
    "duration": 7,
    "start_time": "2023-12-25T23:37:39.222Z"
   },
   {
    "duration": 24,
    "start_time": "2023-12-25T23:37:40.882Z"
   },
   {
    "duration": 7,
    "start_time": "2023-12-25T23:38:02.026Z"
   },
   {
    "duration": 1489,
    "start_time": "2023-12-25T23:38:15.321Z"
   },
   {
    "duration": 6,
    "start_time": "2023-12-25T23:38:51.774Z"
   },
   {
    "duration": 1455,
    "start_time": "2023-12-25T23:38:54.996Z"
   },
   {
    "duration": 1707,
    "start_time": "2023-12-25T23:39:24.460Z"
   },
   {
    "duration": 7,
    "start_time": "2023-12-25T23:41:07.367Z"
   },
   {
    "duration": 57,
    "start_time": "2023-12-25T23:41:34.325Z"
   },
   {
    "duration": 9,
    "start_time": "2023-12-25T23:41:38.403Z"
   },
   {
    "duration": 7,
    "start_time": "2023-12-25T23:41:45.743Z"
   },
   {
    "duration": 9,
    "start_time": "2023-12-25T23:41:49.867Z"
   },
   {
    "duration": 7,
    "start_time": "2023-12-25T23:42:06.812Z"
   },
   {
    "duration": 22,
    "start_time": "2023-12-25T23:42:11.900Z"
   },
   {
    "duration": 9,
    "start_time": "2023-12-25T23:42:17.297Z"
   },
   {
    "duration": 6,
    "start_time": "2023-12-25T23:42:29.736Z"
   },
   {
    "duration": 8,
    "start_time": "2023-12-25T23:47:49.425Z"
   },
   {
    "duration": 22,
    "start_time": "2023-12-25T23:47:53.620Z"
   },
   {
    "duration": 1972,
    "start_time": "2023-12-25T23:47:58.934Z"
   },
   {
    "duration": 2119,
    "start_time": "2023-12-25T23:48:23.535Z"
   },
   {
    "duration": 8,
    "start_time": "2023-12-25T23:49:24.645Z"
   },
   {
    "duration": 25,
    "start_time": "2023-12-25T23:56:57.844Z"
   },
   {
    "duration": 2077,
    "start_time": "2023-12-25T23:57:06.044Z"
   },
   {
    "duration": 2106,
    "start_time": "2023-12-25T23:57:11.081Z"
   },
   {
    "duration": 7,
    "start_time": "2023-12-25T23:57:16.602Z"
   },
   {
    "duration": 23,
    "start_time": "2023-12-25T23:58:44.404Z"
   },
   {
    "duration": 2169,
    "start_time": "2023-12-25T23:58:53.881Z"
   },
   {
    "duration": 2049,
    "start_time": "2023-12-25T23:58:58.486Z"
   },
   {
    "duration": 1977,
    "start_time": "2023-12-25T23:59:01.552Z"
   },
   {
    "duration": 6,
    "start_time": "2023-12-25T23:59:05.234Z"
   },
   {
    "duration": 2297,
    "start_time": "2023-12-26T00:01:58.315Z"
   },
   {
    "duration": 4893,
    "start_time": "2023-12-26T00:02:20.534Z"
   },
   {
    "duration": 11,
    "start_time": "2023-12-26T00:03:39.163Z"
   },
   {
    "duration": 5,
    "start_time": "2023-12-26T00:06:12.942Z"
   },
   {
    "duration": 4,
    "start_time": "2023-12-26T00:06:41.375Z"
   },
   {
    "duration": 18,
    "start_time": "2023-12-26T00:06:51.810Z"
   },
   {
    "duration": 5,
    "start_time": "2023-12-26T00:07:18.214Z"
   },
   {
    "duration": 221,
    "start_time": "2023-12-26T00:07:25.495Z"
   },
   {
    "duration": 196,
    "start_time": "2023-12-26T00:08:11.426Z"
   },
   {
    "duration": 9,
    "start_time": "2023-12-26T00:13:08.952Z"
   },
   {
    "duration": 3,
    "start_time": "2023-12-26T00:13:12.665Z"
   },
   {
    "duration": 8,
    "start_time": "2023-12-26T00:13:14.220Z"
   },
   {
    "duration": 7,
    "start_time": "2023-12-26T00:13:18.065Z"
   },
   {
    "duration": 17,
    "start_time": "2023-12-26T00:13:19.404Z"
   },
   {
    "duration": 15,
    "start_time": "2023-12-26T00:13:20.236Z"
   },
   {
    "duration": 18,
    "start_time": "2023-12-26T00:13:20.843Z"
   },
   {
    "duration": 3,
    "start_time": "2023-12-26T00:13:21.379Z"
   },
   {
    "duration": 17,
    "start_time": "2023-12-26T00:13:29.032Z"
   },
   {
    "duration": 17,
    "start_time": "2023-12-26T00:13:29.629Z"
   },
   {
    "duration": 18,
    "start_time": "2023-12-26T00:13:30.189Z"
   },
   {
    "duration": 3,
    "start_time": "2023-12-26T00:13:30.762Z"
   },
   {
    "duration": 24,
    "start_time": "2023-12-26T00:13:32.319Z"
   },
   {
    "duration": 25,
    "start_time": "2023-12-26T00:16:02.380Z"
   },
   {
    "duration": 29,
    "start_time": "2023-12-26T00:17:33.465Z"
   },
   {
    "duration": 30,
    "start_time": "2023-12-26T00:17:48.517Z"
   },
   {
    "duration": 27,
    "start_time": "2023-12-26T00:19:29.797Z"
   },
   {
    "duration": 31,
    "start_time": "2023-12-26T00:32:24.835Z"
   },
   {
    "duration": 27,
    "start_time": "2023-12-26T00:32:54.725Z"
   },
   {
    "duration": 183,
    "start_time": "2023-12-26T00:33:48.804Z"
   },
   {
    "duration": 974,
    "start_time": "2023-12-26T00:35:17.147Z"
   },
   {
    "duration": 168,
    "start_time": "2023-12-26T00:35:31.163Z"
   },
   {
    "duration": 166,
    "start_time": "2023-12-26T00:35:37.614Z"
   },
   {
    "duration": 13,
    "start_time": "2023-12-26T00:38:24.322Z"
   },
   {
    "duration": 13,
    "start_time": "2023-12-26T00:39:11.460Z"
   },
   {
    "duration": 14,
    "start_time": "2023-12-26T00:39:19.094Z"
   },
   {
    "duration": 13,
    "start_time": "2023-12-26T00:39:52.869Z"
   },
   {
    "duration": 3,
    "start_time": "2023-12-26T00:44:38.630Z"
   },
   {
    "duration": 166,
    "start_time": "2023-12-26T00:45:11.500Z"
   },
   {
    "duration": 728,
    "start_time": "2023-12-26T00:45:49.554Z"
   },
   {
    "duration": 759,
    "start_time": "2023-12-26T00:45:53.531Z"
   },
   {
    "duration": 159,
    "start_time": "2023-12-26T00:45:58.720Z"
   },
   {
    "duration": 4,
    "start_time": "2023-12-26T00:46:38.209Z"
   },
   {
    "duration": 153,
    "start_time": "2023-12-26T00:46:47.716Z"
   },
   {
    "duration": 154,
    "start_time": "2023-12-26T00:47:02.529Z"
   },
   {
    "duration": 149,
    "start_time": "2023-12-26T00:47:14.002Z"
   },
   {
    "duration": 143,
    "start_time": "2023-12-26T00:47:51.537Z"
   },
   {
    "duration": 232,
    "start_time": "2023-12-26T00:48:34.479Z"
   },
   {
    "duration": 138,
    "start_time": "2023-12-26T00:48:37.315Z"
   },
   {
    "duration": 148,
    "start_time": "2023-12-26T00:48:45.899Z"
   },
   {
    "duration": 7,
    "start_time": "2023-12-26T00:48:55.616Z"
   },
   {
    "duration": 728,
    "start_time": "2023-12-26T00:50:05.100Z"
   },
   {
    "duration": 10,
    "start_time": "2023-12-26T00:51:06.161Z"
   },
   {
    "duration": 698,
    "start_time": "2023-12-26T00:52:43.468Z"
   },
   {
    "duration": 19,
    "start_time": "2023-12-26T00:52:55.256Z"
   },
   {
    "duration": 18,
    "start_time": "2023-12-26T00:52:57.903Z"
   },
   {
    "duration": 15,
    "start_time": "2023-12-26T00:53:37.595Z"
   },
   {
    "duration": 16,
    "start_time": "2023-12-26T00:54:45.282Z"
   },
   {
    "duration": 29,
    "start_time": "2023-12-26T00:56:27.937Z"
   },
   {
    "duration": 18,
    "start_time": "2023-12-26T00:56:45.050Z"
   },
   {
    "duration": 17,
    "start_time": "2023-12-26T00:57:09.858Z"
   },
   {
    "duration": 14,
    "start_time": "2023-12-26T00:58:27.465Z"
   },
   {
    "duration": 7,
    "start_time": "2023-12-26T00:59:29.317Z"
   },
   {
    "duration": 2227,
    "start_time": "2023-12-26T01:04:36.852Z"
   },
   {
    "duration": 4,
    "start_time": "2023-12-26T01:04:39.081Z"
   },
   {
    "duration": 66,
    "start_time": "2023-12-26T01:04:39.087Z"
   },
   {
    "duration": 13,
    "start_time": "2023-12-26T01:04:39.155Z"
   },
   {
    "duration": 4,
    "start_time": "2023-12-26T01:04:39.170Z"
   },
   {
    "duration": 26,
    "start_time": "2023-12-26T01:04:39.175Z"
   },
   {
    "duration": 13,
    "start_time": "2023-12-26T01:04:39.202Z"
   },
   {
    "duration": 789,
    "start_time": "2023-12-26T01:04:39.217Z"
   },
   {
    "duration": 9,
    "start_time": "2023-12-26T01:04:40.007Z"
   },
   {
    "duration": 57,
    "start_time": "2023-12-26T01:04:40.017Z"
   },
   {
    "duration": 26,
    "start_time": "2023-12-26T01:04:40.076Z"
   },
   {
    "duration": 33,
    "start_time": "2023-12-26T01:04:40.103Z"
   },
   {
    "duration": 3,
    "start_time": "2023-12-26T01:04:40.138Z"
   },
   {
    "duration": 47,
    "start_time": "2023-12-26T01:04:40.144Z"
   },
   {
    "duration": 63,
    "start_time": "2023-12-26T01:04:40.192Z"
   },
   {
    "duration": 84,
    "start_time": "2023-12-26T01:04:40.256Z"
   },
   {
    "duration": 338,
    "start_time": "2023-12-26T01:04:40.342Z"
   },
   {
    "duration": 29,
    "start_time": "2023-12-26T01:04:40.682Z"
   },
   {
    "duration": 35,
    "start_time": "2023-12-26T01:04:40.713Z"
   },
   {
    "duration": 26,
    "start_time": "2023-12-26T01:04:40.749Z"
   },
   {
    "duration": 183,
    "start_time": "2023-12-26T01:04:40.776Z"
   },
   {
    "duration": 188,
    "start_time": "2023-12-26T01:04:40.961Z"
   },
   {
    "duration": 181,
    "start_time": "2023-12-26T01:04:41.151Z"
   },
   {
    "duration": 179,
    "start_time": "2023-12-26T01:04:41.333Z"
   },
   {
    "duration": 177,
    "start_time": "2023-12-26T01:04:41.514Z"
   },
   {
    "duration": 16,
    "start_time": "2023-12-26T01:04:41.699Z"
   },
   {
    "duration": 222,
    "start_time": "2023-12-26T01:04:41.716Z"
   },
   {
    "duration": 10,
    "start_time": "2023-12-26T01:04:41.939Z"
   },
   {
    "duration": 5,
    "start_time": "2023-12-26T01:04:41.950Z"
   },
   {
    "duration": 169,
    "start_time": "2023-12-26T01:04:41.956Z"
   },
   {
    "duration": 6,
    "start_time": "2023-12-26T01:04:42.126Z"
   },
   {
    "duration": 121,
    "start_time": "2023-12-26T01:04:42.133Z"
   },
   {
    "duration": 6,
    "start_time": "2023-12-26T01:04:42.255Z"
   },
   {
    "duration": 29,
    "start_time": "2023-12-26T01:04:42.262Z"
   },
   {
    "duration": 3622,
    "start_time": "2023-12-26T01:04:42.292Z"
   },
   {
    "duration": 7,
    "start_time": "2023-12-26T01:04:45.915Z"
   },
   {
    "duration": 21,
    "start_time": "2023-12-26T01:04:45.923Z"
   },
   {
    "duration": 3596,
    "start_time": "2023-12-26T01:04:45.945Z"
   },
   {
    "duration": 5,
    "start_time": "2023-12-26T01:04:49.543Z"
   },
   {
    "duration": 37,
    "start_time": "2023-12-26T01:04:49.549Z"
   },
   {
    "duration": 3763,
    "start_time": "2023-12-26T01:04:49.590Z"
   },
   {
    "duration": 7,
    "start_time": "2023-12-26T01:04:53.354Z"
   },
   {
    "duration": 24,
    "start_time": "2023-12-26T01:04:53.362Z"
   },
   {
    "duration": 3864,
    "start_time": "2023-12-26T01:04:53.398Z"
   },
   {
    "duration": 6,
    "start_time": "2023-12-26T01:04:57.263Z"
   },
   {
    "duration": 4506,
    "start_time": "2023-12-26T01:04:57.271Z"
   },
   {
    "duration": 10,
    "start_time": "2023-12-26T01:05:01.778Z"
   },
   {
    "duration": 223,
    "start_time": "2023-12-26T01:05:01.789Z"
   },
   {
    "duration": 6,
    "start_time": "2023-12-26T01:05:02.014Z"
   },
   {
    "duration": 41,
    "start_time": "2023-12-26T01:05:02.021Z"
   },
   {
    "duration": 22,
    "start_time": "2023-12-26T01:05:02.064Z"
   },
   {
    "duration": 27,
    "start_time": "2023-12-26T01:05:02.087Z"
   },
   {
    "duration": 18,
    "start_time": "2023-12-26T01:05:02.116Z"
   },
   {
    "duration": 50,
    "start_time": "2023-12-26T01:05:02.135Z"
   },
   {
    "duration": 4,
    "start_time": "2023-12-26T01:05:02.186Z"
   },
   {
    "duration": 172,
    "start_time": "2023-12-26T01:05:02.191Z"
   },
   {
    "duration": 159,
    "start_time": "2023-12-26T01:05:02.365Z"
   },
   {
    "duration": 163,
    "start_time": "2023-12-26T01:05:02.526Z"
   },
   {
    "duration": 147,
    "start_time": "2023-12-26T01:05:02.691Z"
   },
   {
    "duration": 146,
    "start_time": "2023-12-26T01:05:02.839Z"
   },
   {
    "duration": 149,
    "start_time": "2023-12-26T01:05:02.987Z"
   },
   {
    "duration": 6,
    "start_time": "2023-12-26T01:05:03.137Z"
   },
   {
    "duration": 148,
    "start_time": "2023-12-26T01:05:03.144Z"
   },
   {
    "duration": 25,
    "start_time": "2023-12-26T01:05:03.294Z"
   },
   {
    "duration": 3322,
    "start_time": "2023-12-26T07:40:52.409Z"
   },
   {
    "duration": 1157,
    "start_time": "2023-12-26T07:40:55.733Z"
   },
   {
    "duration": 97,
    "start_time": "2023-12-26T07:40:56.892Z"
   },
   {
    "duration": 18,
    "start_time": "2023-12-26T07:40:56.990Z"
   },
   {
    "duration": 3,
    "start_time": "2023-12-26T07:40:57.010Z"
   },
   {
    "duration": 17,
    "start_time": "2023-12-26T07:40:57.014Z"
   },
   {
    "duration": 18,
    "start_time": "2023-12-26T07:40:57.032Z"
   },
   {
    "duration": 732,
    "start_time": "2023-12-26T07:40:57.051Z"
   },
   {
    "duration": 10,
    "start_time": "2023-12-26T07:40:57.785Z"
   },
   {
    "duration": 11,
    "start_time": "2023-12-26T07:40:57.796Z"
   },
   {
    "duration": 14,
    "start_time": "2023-12-26T07:40:57.808Z"
   },
   {
    "duration": 24,
    "start_time": "2023-12-26T07:40:57.824Z"
   },
   {
    "duration": 5,
    "start_time": "2023-12-26T07:40:57.850Z"
   },
   {
    "duration": 15,
    "start_time": "2023-12-26T07:40:57.859Z"
   },
   {
    "duration": 5,
    "start_time": "2023-12-26T07:40:57.875Z"
   },
   {
    "duration": 50,
    "start_time": "2023-12-26T07:40:57.882Z"
   },
   {
    "duration": 335,
    "start_time": "2023-12-26T07:40:57.933Z"
   },
   {
    "duration": 21,
    "start_time": "2023-12-26T07:40:58.270Z"
   },
   {
    "duration": 34,
    "start_time": "2023-12-26T07:40:58.293Z"
   },
   {
    "duration": 4,
    "start_time": "2023-12-26T07:40:58.328Z"
   },
   {
    "duration": 196,
    "start_time": "2023-12-26T07:40:58.333Z"
   },
   {
    "duration": 194,
    "start_time": "2023-12-26T07:40:58.530Z"
   },
   {
    "duration": 188,
    "start_time": "2023-12-26T07:40:58.725Z"
   },
   {
    "duration": 201,
    "start_time": "2023-12-26T07:40:58.915Z"
   },
   {
    "duration": 188,
    "start_time": "2023-12-26T07:40:59.118Z"
   },
   {
    "duration": 24,
    "start_time": "2023-12-26T07:40:59.309Z"
   },
   {
    "duration": 294,
    "start_time": "2023-12-26T07:40:59.335Z"
   },
   {
    "duration": 11,
    "start_time": "2023-12-26T07:40:59.632Z"
   },
   {
    "duration": 4,
    "start_time": "2023-12-26T07:40:59.645Z"
   },
   {
    "duration": 40,
    "start_time": "2023-12-26T07:40:59.651Z"
   },
   {
    "duration": 34,
    "start_time": "2023-12-26T07:40:59.693Z"
   },
   {
    "duration": 131,
    "start_time": "2023-12-26T07:40:59.728Z"
   },
   {
    "duration": 7,
    "start_time": "2023-12-26T07:40:59.861Z"
   },
   {
    "duration": 27,
    "start_time": "2023-12-26T07:40:59.869Z"
   },
   {
    "duration": 1827,
    "start_time": "2023-12-26T07:40:59.897Z"
   },
   {
    "duration": 7,
    "start_time": "2023-12-26T07:41:01.726Z"
   },
   {
    "duration": 94,
    "start_time": "2023-12-26T07:41:01.735Z"
   },
   {
    "duration": 1875,
    "start_time": "2023-12-26T07:41:01.830Z"
   },
   {
    "duration": 15,
    "start_time": "2023-12-26T07:41:03.707Z"
   },
   {
    "duration": 24,
    "start_time": "2023-12-26T07:41:03.725Z"
   },
   {
    "duration": 1909,
    "start_time": "2023-12-26T07:41:03.753Z"
   },
   {
    "duration": 6,
    "start_time": "2023-12-26T07:41:05.663Z"
   },
   {
    "duration": 26,
    "start_time": "2023-12-26T07:41:05.670Z"
   },
   {
    "duration": 1976,
    "start_time": "2023-12-26T07:41:05.697Z"
   },
   {
    "duration": 6,
    "start_time": "2023-12-26T07:41:07.675Z"
   },
   {
    "duration": 2187,
    "start_time": "2023-12-26T07:41:07.683Z"
   },
   {
    "duration": 10,
    "start_time": "2023-12-26T07:41:09.872Z"
   },
   {
    "duration": 189,
    "start_time": "2023-12-26T07:41:09.883Z"
   },
   {
    "duration": 7,
    "start_time": "2023-12-26T07:41:10.073Z"
   },
   {
    "duration": 32,
    "start_time": "2023-12-26T07:41:10.081Z"
   },
   {
    "duration": 19,
    "start_time": "2023-12-26T07:41:10.114Z"
   },
   {
    "duration": 20,
    "start_time": "2023-12-26T07:41:10.134Z"
   },
   {
    "duration": 3,
    "start_time": "2023-12-26T07:41:10.155Z"
   },
   {
    "duration": 50,
    "start_time": "2023-12-26T07:41:10.160Z"
   },
   {
    "duration": 3,
    "start_time": "2023-12-26T07:41:10.212Z"
   },
   {
    "duration": 184,
    "start_time": "2023-12-26T07:41:10.216Z"
   },
   {
    "duration": 193,
    "start_time": "2023-12-26T07:41:10.402Z"
   },
   {
    "duration": 196,
    "start_time": "2023-12-26T07:41:10.596Z"
   },
   {
    "duration": 180,
    "start_time": "2023-12-26T07:41:10.794Z"
   },
   {
    "duration": 256,
    "start_time": "2023-12-26T07:41:10.976Z"
   },
   {
    "duration": 173,
    "start_time": "2023-12-26T07:41:11.234Z"
   },
   {
    "duration": 13,
    "start_time": "2023-12-26T07:41:11.409Z"
   },
   {
    "duration": 15,
    "start_time": "2023-12-26T07:41:11.424Z"
   },
   {
    "duration": 6,
    "start_time": "2023-12-26T07:41:11.440Z"
   },
   {
    "duration": 9,
    "start_time": "2023-12-26T07:46:51.098Z"
   },
   {
    "duration": 2532,
    "start_time": "2023-12-26T07:59:00.713Z"
   },
   {
    "duration": 1146,
    "start_time": "2023-12-26T07:59:03.248Z"
   },
   {
    "duration": 55,
    "start_time": "2023-12-26T07:59:04.396Z"
   },
   {
    "duration": 17,
    "start_time": "2023-12-26T07:59:04.453Z"
   },
   {
    "duration": 5,
    "start_time": "2023-12-26T07:59:04.471Z"
   },
   {
    "duration": 30,
    "start_time": "2023-12-26T07:59:04.478Z"
   },
   {
    "duration": 21,
    "start_time": "2023-12-26T07:59:04.510Z"
   },
   {
    "duration": 828,
    "start_time": "2023-12-26T07:59:04.532Z"
   },
   {
    "duration": 9,
    "start_time": "2023-12-26T07:59:05.362Z"
   },
   {
    "duration": 38,
    "start_time": "2023-12-26T07:59:05.373Z"
   },
   {
    "duration": 21,
    "start_time": "2023-12-26T07:59:05.413Z"
   },
   {
    "duration": 44,
    "start_time": "2023-12-26T07:59:05.436Z"
   },
   {
    "duration": 8,
    "start_time": "2023-12-26T07:59:05.482Z"
   },
   {
    "duration": 32,
    "start_time": "2023-12-26T07:59:05.492Z"
   },
   {
    "duration": 20,
    "start_time": "2023-12-26T07:59:05.526Z"
   },
   {
    "duration": 25,
    "start_time": "2023-12-26T07:59:05.548Z"
   },
   {
    "duration": 351,
    "start_time": "2023-12-26T07:59:05.574Z"
   },
   {
    "duration": 18,
    "start_time": "2023-12-26T07:59:05.926Z"
   },
   {
    "duration": 16,
    "start_time": "2023-12-26T07:59:05.946Z"
   },
   {
    "duration": 7,
    "start_time": "2023-12-26T07:59:05.964Z"
   },
   {
    "duration": 198,
    "start_time": "2023-12-26T07:59:05.972Z"
   },
   {
    "duration": 204,
    "start_time": "2023-12-26T07:59:06.172Z"
   },
   {
    "duration": 187,
    "start_time": "2023-12-26T07:59:06.377Z"
   },
   {
    "duration": 179,
    "start_time": "2023-12-26T07:59:06.566Z"
   },
   {
    "duration": 179,
    "start_time": "2023-12-26T07:59:06.747Z"
   },
   {
    "duration": 17,
    "start_time": "2023-12-26T07:59:06.927Z"
   },
   {
    "duration": 298,
    "start_time": "2023-12-26T07:59:06.945Z"
   },
   {
    "duration": 11,
    "start_time": "2023-12-26T07:59:07.247Z"
   },
   {
    "duration": 10,
    "start_time": "2023-12-26T07:59:07.259Z"
   },
   {
    "duration": 55,
    "start_time": "2023-12-26T07:59:07.271Z"
   },
   {
    "duration": 39,
    "start_time": "2023-12-26T07:59:07.328Z"
   },
   {
    "duration": 152,
    "start_time": "2023-12-26T07:59:07.369Z"
   },
   {
    "duration": 7,
    "start_time": "2023-12-26T07:59:07.523Z"
   },
   {
    "duration": 58,
    "start_time": "2023-12-26T07:59:07.532Z"
   },
   {
    "duration": 1802,
    "start_time": "2023-12-26T07:59:07.592Z"
   },
   {
    "duration": 6,
    "start_time": "2023-12-26T07:59:09.396Z"
   },
   {
    "duration": 34,
    "start_time": "2023-12-26T07:59:09.404Z"
   },
   {
    "duration": 1826,
    "start_time": "2023-12-26T07:59:09.439Z"
   },
   {
    "duration": 7,
    "start_time": "2023-12-26T07:59:11.266Z"
   },
   {
    "duration": 25,
    "start_time": "2023-12-26T07:59:11.274Z"
   },
   {
    "duration": 1894,
    "start_time": "2023-12-26T07:59:11.300Z"
   },
   {
    "duration": 7,
    "start_time": "2023-12-26T07:59:13.196Z"
   },
   {
    "duration": 41,
    "start_time": "2023-12-26T07:59:13.205Z"
   },
   {
    "duration": 1996,
    "start_time": "2023-12-26T07:59:13.248Z"
   },
   {
    "duration": 7,
    "start_time": "2023-12-26T07:59:15.245Z"
   },
   {
    "duration": 2327,
    "start_time": "2023-12-26T07:59:15.253Z"
   },
   {
    "duration": 11,
    "start_time": "2023-12-26T07:59:17.582Z"
   },
   {
    "duration": 197,
    "start_time": "2023-12-26T07:59:17.594Z"
   },
   {
    "duration": 6,
    "start_time": "2023-12-26T07:59:17.793Z"
   },
   {
    "duration": 28,
    "start_time": "2023-12-26T07:59:17.801Z"
   },
   {
    "duration": 18,
    "start_time": "2023-12-26T07:59:17.831Z"
   },
   {
    "duration": 35,
    "start_time": "2023-12-26T07:59:17.851Z"
   },
   {
    "duration": 24,
    "start_time": "2023-12-26T07:59:17.888Z"
   },
   {
    "duration": 57,
    "start_time": "2023-12-26T07:59:17.914Z"
   },
   {
    "duration": 5,
    "start_time": "2023-12-26T07:59:17.973Z"
   },
   {
    "duration": 185,
    "start_time": "2023-12-26T07:59:17.979Z"
   },
   {
    "duration": 188,
    "start_time": "2023-12-26T07:59:18.166Z"
   },
   {
    "duration": 194,
    "start_time": "2023-12-26T07:59:18.356Z"
   },
   {
    "duration": 181,
    "start_time": "2023-12-26T07:59:18.552Z"
   },
   {
    "duration": 268,
    "start_time": "2023-12-26T07:59:18.735Z"
   },
   {
    "duration": 187,
    "start_time": "2023-12-26T07:59:19.005Z"
   },
   {
    "duration": 8,
    "start_time": "2023-12-26T07:59:19.194Z"
   },
   {
    "duration": 49,
    "start_time": "2023-12-26T07:59:19.204Z"
   },
   {
    "duration": 14,
    "start_time": "2023-12-26T07:59:19.255Z"
   },
   {
    "duration": 2568,
    "start_time": "2023-12-26T08:00:58.053Z"
   },
   {
    "duration": 1185,
    "start_time": "2023-12-26T08:01:00.623Z"
   },
   {
    "duration": 55,
    "start_time": "2023-12-26T08:01:01.809Z"
   },
   {
    "duration": 24,
    "start_time": "2023-12-26T08:01:01.866Z"
   },
   {
    "duration": 28,
    "start_time": "2023-12-26T08:01:01.892Z"
   },
   {
    "duration": 108,
    "start_time": "2023-12-26T08:01:01.922Z"
   },
   {
    "duration": 91,
    "start_time": "2023-12-26T08:01:02.032Z"
   },
   {
    "duration": 1150,
    "start_time": "2023-12-26T08:01:02.124Z"
   },
   {
    "duration": 9,
    "start_time": "2023-12-26T08:01:03.276Z"
   },
   {
    "duration": 440,
    "start_time": "2023-12-26T08:01:03.286Z"
   },
   {
    "duration": 449,
    "start_time": "2023-12-26T08:01:03.727Z"
   },
   {
    "duration": 298,
    "start_time": "2023-12-26T08:01:04.178Z"
   },
   {
    "duration": 147,
    "start_time": "2023-12-26T08:01:04.477Z"
   },
   {
    "duration": 38,
    "start_time": "2023-12-26T08:01:04.629Z"
   },
   {
    "duration": 7,
    "start_time": "2023-12-26T08:01:04.669Z"
   },
   {
    "duration": 42,
    "start_time": "2023-12-26T08:01:04.678Z"
   },
   {
    "duration": 359,
    "start_time": "2023-12-26T08:01:04.721Z"
   },
   {
    "duration": 20,
    "start_time": "2023-12-26T08:01:05.081Z"
   },
   {
    "duration": 28,
    "start_time": "2023-12-26T08:01:05.102Z"
   },
   {
    "duration": 3,
    "start_time": "2023-12-26T08:01:05.132Z"
   },
   {
    "duration": 189,
    "start_time": "2023-12-26T08:01:05.136Z"
   },
   {
    "duration": 197,
    "start_time": "2023-12-26T08:01:05.327Z"
   },
   {
    "duration": 179,
    "start_time": "2023-12-26T08:01:05.526Z"
   },
   {
    "duration": 192,
    "start_time": "2023-12-26T08:01:05.707Z"
   },
   {
    "duration": 178,
    "start_time": "2023-12-26T08:01:05.900Z"
   },
   {
    "duration": 17,
    "start_time": "2023-12-26T08:01:06.080Z"
   },
   {
    "duration": 295,
    "start_time": "2023-12-26T08:01:06.098Z"
   },
   {
    "duration": 10,
    "start_time": "2023-12-26T08:01:06.395Z"
   },
   {
    "duration": 18,
    "start_time": "2023-12-26T08:01:06.407Z"
   },
   {
    "duration": 60,
    "start_time": "2023-12-26T08:01:06.426Z"
   },
   {
    "duration": 18,
    "start_time": "2023-12-26T08:01:06.488Z"
   },
   {
    "duration": 137,
    "start_time": "2023-12-26T08:01:06.508Z"
   },
   {
    "duration": 7,
    "start_time": "2023-12-26T08:01:06.647Z"
   },
   {
    "duration": 54,
    "start_time": "2023-12-26T08:01:06.655Z"
   },
   {
    "duration": 1813,
    "start_time": "2023-12-26T08:01:06.710Z"
   },
   {
    "duration": 9,
    "start_time": "2023-12-26T08:01:08.525Z"
   },
   {
    "duration": 36,
    "start_time": "2023-12-26T08:01:08.535Z"
   },
   {
    "duration": 1785,
    "start_time": "2023-12-26T08:01:08.573Z"
   },
   {
    "duration": 8,
    "start_time": "2023-12-26T08:01:10.360Z"
   },
   {
    "duration": 34,
    "start_time": "2023-12-26T08:01:10.369Z"
   },
   {
    "duration": 1922,
    "start_time": "2023-12-26T08:01:10.421Z"
   },
   {
    "duration": 6,
    "start_time": "2023-12-26T08:01:12.345Z"
   },
   {
    "duration": 24,
    "start_time": "2023-12-26T08:01:12.353Z"
   },
   {
    "duration": 1990,
    "start_time": "2023-12-26T08:01:12.379Z"
   },
   {
    "duration": 7,
    "start_time": "2023-12-26T08:01:14.370Z"
   },
   {
    "duration": 2274,
    "start_time": "2023-12-26T08:01:14.378Z"
   },
   {
    "duration": 11,
    "start_time": "2023-12-26T08:01:16.654Z"
   },
   {
    "duration": 195,
    "start_time": "2023-12-26T08:01:16.667Z"
   },
   {
    "duration": 7,
    "start_time": "2023-12-26T08:01:16.863Z"
   },
   {
    "duration": 24,
    "start_time": "2023-12-26T08:01:16.872Z"
   },
   {
    "duration": 26,
    "start_time": "2023-12-26T08:01:16.898Z"
   },
   {
    "duration": 40,
    "start_time": "2023-12-26T08:01:16.925Z"
   },
   {
    "duration": 7,
    "start_time": "2023-12-26T08:01:16.966Z"
   },
   {
    "duration": 31,
    "start_time": "2023-12-26T08:01:16.975Z"
   },
   {
    "duration": 4,
    "start_time": "2023-12-26T08:01:17.007Z"
   },
   {
    "duration": 178,
    "start_time": "2023-12-26T08:01:17.012Z"
   },
   {
    "duration": 189,
    "start_time": "2023-12-26T08:01:17.192Z"
   },
   {
    "duration": 210,
    "start_time": "2023-12-26T08:01:17.382Z"
   },
   {
    "duration": 178,
    "start_time": "2023-12-26T08:01:17.593Z"
   },
   {
    "duration": 252,
    "start_time": "2023-12-26T08:01:17.772Z"
   },
   {
    "duration": 176,
    "start_time": "2023-12-26T08:01:18.025Z"
   },
   {
    "duration": 9,
    "start_time": "2023-12-26T08:01:18.202Z"
   },
   {
    "duration": 17,
    "start_time": "2023-12-26T08:01:18.221Z"
   },
   {
    "duration": 7,
    "start_time": "2023-12-26T08:01:18.240Z"
   },
   {
    "duration": 63,
    "start_time": "2023-12-26T10:04:58.620Z"
   },
   {
    "duration": 3498,
    "start_time": "2023-12-26T10:05:01.908Z"
   },
   {
    "duration": 1401,
    "start_time": "2023-12-26T10:05:05.409Z"
   },
   {
    "duration": 98,
    "start_time": "2023-12-26T10:05:08.141Z"
   },
   {
    "duration": 27,
    "start_time": "2023-12-26T10:05:09.191Z"
   },
   {
    "duration": 19,
    "start_time": "2023-12-26T10:05:10.766Z"
   },
   {
    "duration": 4,
    "start_time": "2023-12-26T10:05:14.986Z"
   },
   {
    "duration": 8,
    "start_time": "2023-12-26T10:10:57.442Z"
   },
   {
    "duration": 5,
    "start_time": "2023-12-26T10:10:58.641Z"
   },
   {
    "duration": 22,
    "start_time": "2023-12-26T10:11:07.398Z"
   },
   {
    "duration": 63,
    "start_time": "2023-12-26T10:11:54.907Z"
   },
   {
    "duration": 3,
    "start_time": "2023-12-26T10:11:57.673Z"
   },
   {
    "duration": 5,
    "start_time": "2023-12-26T10:12:06.085Z"
   },
   {
    "duration": 4,
    "start_time": "2023-12-26T10:12:08.497Z"
   },
   {
    "duration": 32,
    "start_time": "2023-12-26T10:12:11.163Z"
   },
   {
    "duration": 4,
    "start_time": "2023-12-26T10:14:23.755Z"
   },
   {
    "duration": 7,
    "start_time": "2023-12-26T10:14:50.939Z"
   },
   {
    "duration": 362,
    "start_time": "2023-12-26T10:14:55.661Z"
   },
   {
    "duration": 8,
    "start_time": "2023-12-26T10:15:30.438Z"
   },
   {
    "duration": 328,
    "start_time": "2023-12-26T10:15:33.874Z"
   },
   {
    "duration": 73,
    "start_time": "2023-12-26T10:16:58.573Z"
   },
   {
    "duration": 5,
    "start_time": "2023-12-26T10:17:10.669Z"
   },
   {
    "duration": 8,
    "start_time": "2023-12-26T10:17:12.609Z"
   },
   {
    "duration": 2504,
    "start_time": "2023-12-26T10:17:23.053Z"
   },
   {
    "duration": 4,
    "start_time": "2023-12-26T10:17:25.559Z"
   },
   {
    "duration": 98,
    "start_time": "2023-12-26T10:17:25.564Z"
   },
   {
    "duration": 15,
    "start_time": "2023-12-26T10:17:25.663Z"
   },
   {
    "duration": 38,
    "start_time": "2023-12-26T10:17:25.681Z"
   },
   {
    "duration": 41,
    "start_time": "2023-12-26T10:17:25.721Z"
   },
   {
    "duration": 47,
    "start_time": "2023-12-26T10:17:25.763Z"
   },
   {
    "duration": 22,
    "start_time": "2023-12-26T10:17:25.812Z"
   },
   {
    "duration": 982,
    "start_time": "2023-12-26T10:17:25.836Z"
   },
   {
    "duration": 10,
    "start_time": "2023-12-26T10:17:26.822Z"
   },
   {
    "duration": 13,
    "start_time": "2023-12-26T10:17:26.834Z"
   },
   {
    "duration": 14,
    "start_time": "2023-12-26T10:17:26.849Z"
   },
   {
    "duration": 31,
    "start_time": "2023-12-26T10:17:26.865Z"
   },
   {
    "duration": 15,
    "start_time": "2023-12-26T10:17:26.900Z"
   },
   {
    "duration": 30,
    "start_time": "2023-12-26T10:17:26.917Z"
   },
   {
    "duration": 7,
    "start_time": "2023-12-26T10:17:26.950Z"
   },
   {
    "duration": 28,
    "start_time": "2023-12-26T10:17:26.959Z"
   },
   {
    "duration": 331,
    "start_time": "2023-12-26T10:17:26.988Z"
   },
   {
    "duration": 20,
    "start_time": "2023-12-26T10:17:27.322Z"
   },
   {
    "duration": 23,
    "start_time": "2023-12-26T10:17:27.343Z"
   },
   {
    "duration": 10,
    "start_time": "2023-12-26T10:17:27.368Z"
   },
   {
    "duration": 210,
    "start_time": "2023-12-26T10:17:27.380Z"
   },
   {
    "duration": 302,
    "start_time": "2023-12-26T10:17:27.592Z"
   },
   {
    "duration": 190,
    "start_time": "2023-12-26T10:17:27.896Z"
   },
   {
    "duration": 234,
    "start_time": "2023-12-26T10:17:28.088Z"
   },
   {
    "duration": 184,
    "start_time": "2023-12-26T10:17:28.323Z"
   },
   {
    "duration": 28,
    "start_time": "2023-12-26T10:17:28.508Z"
   },
   {
    "duration": 233,
    "start_time": "2023-12-26T10:17:28.538Z"
   },
   {
    "duration": 16,
    "start_time": "2023-12-26T10:17:28.777Z"
   },
   {
    "duration": 22,
    "start_time": "2023-12-26T10:17:28.795Z"
   },
   {
    "duration": 45,
    "start_time": "2023-12-26T10:17:33.845Z"
   },
   {
    "duration": 14,
    "start_time": "2023-12-26T10:17:41.289Z"
   },
   {
    "duration": 133,
    "start_time": "2023-12-26T10:18:00.365Z"
   },
   {
    "duration": 11,
    "start_time": "2023-12-26T10:18:35.330Z"
   },
   {
    "duration": 8,
    "start_time": "2023-12-26T10:19:15.506Z"
   },
   {
    "duration": 8,
    "start_time": "2023-12-26T10:19:20.338Z"
   },
   {
    "duration": 10,
    "start_time": "2023-12-26T10:19:53.224Z"
   },
   {
    "duration": 1740,
    "start_time": "2023-12-26T10:20:03.064Z"
   },
   {
    "duration": 10,
    "start_time": "2023-12-26T10:20:45.415Z"
   },
   {
    "duration": 43,
    "start_time": "2023-12-26T10:21:59.248Z"
   },
   {
    "duration": 15,
    "start_time": "2023-12-26T10:22:23.950Z"
   },
   {
    "duration": 125,
    "start_time": "2023-12-26T10:22:53.193Z"
   },
   {
    "duration": 7,
    "start_time": "2023-12-26T10:23:22.313Z"
   },
   {
    "duration": 11,
    "start_time": "2023-12-26T10:23:25.915Z"
   },
   {
    "duration": 25,
    "start_time": "2023-12-26T10:23:37.945Z"
   },
   {
    "duration": 1639,
    "start_time": "2023-12-26T10:23:47.563Z"
   },
   {
    "duration": 96,
    "start_time": "2023-12-26T10:24:59.254Z"
   },
   {
    "duration": 1655,
    "start_time": "2023-12-26T10:25:04.287Z"
   },
   {
    "duration": 8,
    "start_time": "2023-12-26T10:26:47.406Z"
   },
   {
    "duration": 7,
    "start_time": "2023-12-26T10:27:18.364Z"
   },
   {
    "duration": 1576,
    "start_time": "2023-12-26T10:27:22.720Z"
   },
   {
    "duration": 8,
    "start_time": "2023-12-26T10:28:09.273Z"
   },
   {
    "duration": 1531,
    "start_time": "2023-12-26T10:28:12.168Z"
   },
   {
    "duration": 90,
    "start_time": "2023-12-26T10:29:38.749Z"
   },
   {
    "duration": 9,
    "start_time": "2023-12-26T10:29:50.020Z"
   },
   {
    "duration": 1572,
    "start_time": "2023-12-26T10:29:53.240Z"
   },
   {
    "duration": 92,
    "start_time": "2023-12-26T10:30:52.917Z"
   },
   {
    "duration": 24,
    "start_time": "2023-12-26T10:30:56.902Z"
   },
   {
    "duration": 161,
    "start_time": "2023-12-26T10:30:59.382Z"
   },
   {
    "duration": 175,
    "start_time": "2023-12-26T12:08:43.223Z"
   },
   {
    "duration": 9,
    "start_time": "2023-12-26T12:10:37.954Z"
   },
   {
    "duration": 155,
    "start_time": "2023-12-26T12:10:42.143Z"
   },
   {
    "duration": 8,
    "start_time": "2023-12-26T12:12:01.411Z"
   },
   {
    "duration": 151,
    "start_time": "2023-12-26T12:12:05.552Z"
   },
   {
    "duration": 8,
    "start_time": "2023-12-26T12:12:29.862Z"
   },
   {
    "duration": 145,
    "start_time": "2023-12-26T12:12:32.550Z"
   },
   {
    "duration": 7,
    "start_time": "2023-12-26T12:12:42.062Z"
   },
   {
    "duration": 156,
    "start_time": "2023-12-26T12:12:44.468Z"
   },
   {
    "duration": 9,
    "start_time": "2023-12-26T12:13:38.100Z"
   },
   {
    "duration": 5,
    "start_time": "2023-12-26T12:13:53.239Z"
   },
   {
    "duration": 8,
    "start_time": "2023-12-26T12:14:57.286Z"
   },
   {
    "duration": 146,
    "start_time": "2023-12-26T12:14:59.751Z"
   },
   {
    "duration": 7,
    "start_time": "2023-12-26T12:15:56.190Z"
   },
   {
    "duration": 158,
    "start_time": "2023-12-26T12:40:30.743Z"
   },
   {
    "duration": 8,
    "start_time": "2023-12-26T12:43:08.173Z"
   },
   {
    "duration": 11,
    "start_time": "2023-12-26T12:43:16.293Z"
   },
   {
    "duration": 7,
    "start_time": "2023-12-26T12:43:31.768Z"
   },
   {
    "duration": 25,
    "start_time": "2023-12-26T12:43:35.197Z"
   },
   {
    "duration": 200,
    "start_time": "2023-12-26T12:43:38.080Z"
   },
   {
    "duration": 8,
    "start_time": "2023-12-26T12:47:08.289Z"
   },
   {
    "duration": 24,
    "start_time": "2023-12-26T12:47:12.454Z"
   },
   {
    "duration": 2692,
    "start_time": "2023-12-26T12:47:14.632Z"
   },
   {
    "duration": 5,
    "start_time": "2023-12-26T12:47:48.477Z"
   },
   {
    "duration": 2502,
    "start_time": "2023-12-26T12:48:21.083Z"
   },
   {
    "duration": 4,
    "start_time": "2023-12-26T12:48:23.587Z"
   },
   {
    "duration": 63,
    "start_time": "2023-12-26T12:48:23.593Z"
   },
   {
    "duration": 16,
    "start_time": "2023-12-26T12:48:23.659Z"
   },
   {
    "duration": 29,
    "start_time": "2023-12-26T12:48:23.676Z"
   },
   {
    "duration": 26,
    "start_time": "2023-12-26T12:48:23.707Z"
   },
   {
    "duration": 32,
    "start_time": "2023-12-26T12:48:23.735Z"
   },
   {
    "duration": 10,
    "start_time": "2023-12-26T12:48:23.770Z"
   },
   {
    "duration": 881,
    "start_time": "2023-12-26T12:48:23.782Z"
   },
   {
    "duration": 10,
    "start_time": "2023-12-26T12:48:24.666Z"
   },
   {
    "duration": 7,
    "start_time": "2023-12-26T12:48:24.677Z"
   },
   {
    "duration": 9,
    "start_time": "2023-12-26T12:48:24.685Z"
   },
   {
    "duration": 34,
    "start_time": "2023-12-26T12:48:24.696Z"
   },
   {
    "duration": 5,
    "start_time": "2023-12-26T12:48:24.732Z"
   },
   {
    "duration": 17,
    "start_time": "2023-12-26T12:48:24.739Z"
   },
   {
    "duration": 9,
    "start_time": "2023-12-26T12:48:24.758Z"
   },
   {
    "duration": 24,
    "start_time": "2023-12-26T12:48:24.769Z"
   },
   {
    "duration": 380,
    "start_time": "2023-12-26T12:48:24.795Z"
   },
   {
    "duration": 32,
    "start_time": "2023-12-26T12:48:25.178Z"
   },
   {
    "duration": 21,
    "start_time": "2023-12-26T12:48:25.223Z"
   },
   {
    "duration": 5,
    "start_time": "2023-12-26T12:48:25.247Z"
   },
   {
    "duration": 234,
    "start_time": "2023-12-26T12:48:25.254Z"
   },
   {
    "duration": 201,
    "start_time": "2023-12-26T12:48:25.490Z"
   },
   {
    "duration": 201,
    "start_time": "2023-12-26T12:48:25.692Z"
   },
   {
    "duration": 211,
    "start_time": "2023-12-26T12:48:25.895Z"
   },
   {
    "duration": 217,
    "start_time": "2023-12-26T12:48:26.109Z"
   },
   {
    "duration": 27,
    "start_time": "2023-12-26T12:48:26.328Z"
   },
   {
    "duration": 255,
    "start_time": "2023-12-26T12:48:26.359Z"
   },
   {
    "duration": 11,
    "start_time": "2023-12-26T12:48:26.621Z"
   },
   {
    "duration": 11,
    "start_time": "2023-12-26T12:48:26.633Z"
   },
   {
    "duration": 46,
    "start_time": "2023-12-26T12:48:26.646Z"
   },
   {
    "duration": 30,
    "start_time": "2023-12-26T12:48:26.693Z"
   },
   {
    "duration": 136,
    "start_time": "2023-12-26T12:48:26.725Z"
   },
   {
    "duration": 7,
    "start_time": "2023-12-26T12:48:26.862Z"
   },
   {
    "duration": 9,
    "start_time": "2023-12-26T12:48:26.871Z"
   },
   {
    "duration": 42,
    "start_time": "2023-12-26T12:48:26.881Z"
   },
   {
    "duration": 6,
    "start_time": "2023-12-26T12:48:42.021Z"
   },
   {
    "duration": 13,
    "start_time": "2023-12-26T12:49:36.587Z"
   },
   {
    "duration": 8,
    "start_time": "2023-12-26T12:49:48.964Z"
   },
   {
    "duration": 6,
    "start_time": "2023-12-26T12:49:53.485Z"
   },
   {
    "duration": 7,
    "start_time": "2023-12-26T12:50:10.851Z"
   },
   {
    "duration": 23,
    "start_time": "2023-12-26T12:51:34.013Z"
   },
   {
    "duration": 1920,
    "start_time": "2023-12-26T12:51:39.809Z"
   },
   {
    "duration": 9,
    "start_time": "2023-12-26T12:51:46.602Z"
   },
   {
    "duration": 8,
    "start_time": "2023-12-26T12:52:11.599Z"
   },
   {
    "duration": 8,
    "start_time": "2023-12-26T12:52:18.908Z"
   },
   {
    "duration": 8,
    "start_time": "2023-12-26T12:52:28.174Z"
   },
   {
    "duration": 22,
    "start_time": "2023-12-26T12:52:30.282Z"
   },
   {
    "duration": 2745,
    "start_time": "2023-12-26T12:52:32.629Z"
   },
   {
    "duration": 7,
    "start_time": "2023-12-26T12:52:36.393Z"
   },
   {
    "duration": 34,
    "start_time": "2023-12-26T12:52:43.925Z"
   },
   {
    "duration": 1776,
    "start_time": "2023-12-26T12:52:45.792Z"
   },
   {
    "duration": 7,
    "start_time": "2023-12-26T12:52:47.570Z"
   },
   {
    "duration": 11,
    "start_time": "2023-12-26T12:53:20.260Z"
   },
   {
    "duration": 23,
    "start_time": "2023-12-26T12:54:29.591Z"
   },
   {
    "duration": 1819,
    "start_time": "2023-12-26T12:54:38.358Z"
   },
   {
    "duration": 7,
    "start_time": "2023-12-26T12:54:43.478Z"
   },
   {
    "duration": 80,
    "start_time": "2023-12-26T12:55:06.203Z"
   },
   {
    "duration": 31,
    "start_time": "2023-12-26T12:55:42.542Z"
   },
   {
    "duration": 896,
    "start_time": "2023-12-26T12:55:50.517Z"
   },
   {
    "duration": 5,
    "start_time": "2023-12-26T12:55:55.865Z"
   },
   {
    "duration": 37054,
    "start_time": "2023-12-26T12:56:04.008Z"
   },
   {
    "duration": 0,
    "start_time": "2023-12-26T12:56:41.064Z"
   },
   {
    "duration": 7959,
    "start_time": "2023-12-26T12:56:52.151Z"
   },
   {
    "duration": 10,
    "start_time": "2023-12-26T12:57:00.112Z"
   },
   {
    "duration": 6,
    "start_time": "2023-12-26T12:58:22.062Z"
   },
   {
    "duration": 16,
    "start_time": "2023-12-26T12:58:26.133Z"
   },
   {
    "duration": 9,
    "start_time": "2023-12-26T12:59:22.057Z"
   },
   {
    "duration": 7,
    "start_time": "2023-12-26T12:59:35.951Z"
   },
   {
    "duration": 17,
    "start_time": "2023-12-26T12:59:38.093Z"
   },
   {
    "duration": 15,
    "start_time": "2023-12-26T12:59:42.375Z"
   },
   {
    "duration": 17,
    "start_time": "2023-12-26T12:59:45.124Z"
   },
   {
    "duration": 4,
    "start_time": "2023-12-26T12:59:47.540Z"
   },
   {
    "duration": 41,
    "start_time": "2023-12-26T12:59:50.064Z"
   },
   {
    "duration": 6,
    "start_time": "2023-12-26T13:06:15.340Z"
   },
   {
    "duration": 22,
    "start_time": "2023-12-26T13:09:49.953Z"
   },
   {
    "duration": 14,
    "start_time": "2023-12-26T13:11:35.285Z"
   },
   {
    "duration": 14,
    "start_time": "2023-12-26T13:11:37.989Z"
   },
   {
    "duration": 14,
    "start_time": "2023-12-26T13:11:40.074Z"
   },
   {
    "duration": 17,
    "start_time": "2023-12-26T13:13:28.400Z"
   },
   {
    "duration": 3,
    "start_time": "2023-12-26T13:13:37.039Z"
   },
   {
    "duration": 144,
    "start_time": "2023-12-26T13:13:39.583Z"
   },
   {
    "duration": 139,
    "start_time": "2023-12-26T13:15:37.824Z"
   },
   {
    "duration": 145,
    "start_time": "2023-12-26T13:16:17.554Z"
   },
   {
    "duration": 18,
    "start_time": "2023-12-26T13:17:22.318Z"
   },
   {
    "duration": 147,
    "start_time": "2023-12-26T13:17:35.893Z"
   },
   {
    "duration": 5,
    "start_time": "2023-12-26T13:19:06.653Z"
   },
   {
    "duration": 152,
    "start_time": "2023-12-26T13:19:08.322Z"
   },
   {
    "duration": 3,
    "start_time": "2023-12-26T13:19:15.584Z"
   },
   {
    "duration": 144,
    "start_time": "2023-12-26T13:19:16.958Z"
   },
   {
    "duration": 4,
    "start_time": "2023-12-26T13:19:26.240Z"
   },
   {
    "duration": 147,
    "start_time": "2023-12-26T13:19:28.914Z"
   },
   {
    "duration": 3,
    "start_time": "2023-12-26T13:19:40.519Z"
   },
   {
    "duration": 141,
    "start_time": "2023-12-26T13:19:41.579Z"
   },
   {
    "duration": 142,
    "start_time": "2023-12-26T13:19:52.659Z"
   },
   {
    "duration": 165,
    "start_time": "2023-12-26T13:19:52.803Z"
   },
   {
    "duration": 152,
    "start_time": "2023-12-26T13:19:52.970Z"
   },
   {
    "duration": 184,
    "start_time": "2023-12-26T13:19:53.124Z"
   },
   {
    "duration": 26,
    "start_time": "2023-12-26T13:19:53.310Z"
   },
   {
    "duration": 0,
    "start_time": "2023-12-26T13:19:53.338Z"
   },
   {
    "duration": 0,
    "start_time": "2023-12-26T13:19:53.339Z"
   },
   {
    "duration": 0,
    "start_time": "2023-12-26T13:19:53.340Z"
   },
   {
    "duration": 0,
    "start_time": "2023-12-26T13:19:53.342Z"
   },
   {
    "duration": 1,
    "start_time": "2023-12-26T13:19:53.343Z"
   },
   {
    "duration": 0,
    "start_time": "2023-12-26T13:19:53.345Z"
   },
   {
    "duration": 0,
    "start_time": "2023-12-26T13:19:53.346Z"
   },
   {
    "duration": 19,
    "start_time": "2023-12-26T13:20:26.918Z"
   },
   {
    "duration": 141,
    "start_time": "2023-12-26T13:20:33.425Z"
   },
   {
    "duration": 167,
    "start_time": "2023-12-26T13:20:56.500Z"
   },
   {
    "duration": 16,
    "start_time": "2023-12-26T13:23:12.269Z"
   },
   {
    "duration": 132,
    "start_time": "2023-12-26T13:23:58.818Z"
   },
   {
    "duration": 130,
    "start_time": "2023-12-26T13:24:58.024Z"
   },
   {
    "duration": 18,
    "start_time": "2023-12-26T13:25:50.646Z"
   },
   {
    "duration": 21,
    "start_time": "2023-12-26T13:26:07.177Z"
   },
   {
    "duration": 127,
    "start_time": "2023-12-26T13:26:16.670Z"
   },
   {
    "duration": 150,
    "start_time": "2023-12-26T13:26:51.291Z"
   },
   {
    "duration": 135,
    "start_time": "2023-12-26T13:26:54.377Z"
   },
   {
    "duration": 135,
    "start_time": "2023-12-26T13:26:55.506Z"
   },
   {
    "duration": 993,
    "start_time": "2023-12-26T13:27:56.955Z"
   },
   {
    "duration": 2580,
    "start_time": "2023-12-26T13:28:11.345Z"
   },
   {
    "duration": 4,
    "start_time": "2023-12-26T13:28:13.928Z"
   },
   {
    "duration": 90,
    "start_time": "2023-12-26T13:28:13.934Z"
   },
   {
    "duration": 15,
    "start_time": "2023-12-26T13:28:14.026Z"
   },
   {
    "duration": 36,
    "start_time": "2023-12-26T13:28:14.043Z"
   },
   {
    "duration": 6,
    "start_time": "2023-12-26T13:28:14.081Z"
   },
   {
    "duration": 35,
    "start_time": "2023-12-26T13:28:14.089Z"
   },
   {
    "duration": 25,
    "start_time": "2023-12-26T13:28:14.126Z"
   },
   {
    "duration": 920,
    "start_time": "2023-12-26T13:28:14.152Z"
   },
   {
    "duration": 10,
    "start_time": "2023-12-26T13:28:15.073Z"
   },
   {
    "duration": 55,
    "start_time": "2023-12-26T13:28:15.084Z"
   },
   {
    "duration": 27,
    "start_time": "2023-12-26T13:28:15.140Z"
   },
   {
    "duration": 42,
    "start_time": "2023-12-26T13:28:15.168Z"
   },
   {
    "duration": 25,
    "start_time": "2023-12-26T13:28:15.213Z"
   },
   {
    "duration": 70,
    "start_time": "2023-12-26T13:28:15.240Z"
   },
   {
    "duration": 22,
    "start_time": "2023-12-26T13:28:15.312Z"
   },
   {
    "duration": 38,
    "start_time": "2023-12-26T13:28:15.336Z"
   },
   {
    "duration": 360,
    "start_time": "2023-12-26T13:28:15.376Z"
   },
   {
    "duration": 21,
    "start_time": "2023-12-26T13:28:15.738Z"
   },
   {
    "duration": 50,
    "start_time": "2023-12-26T13:28:15.760Z"
   },
   {
    "duration": 10,
    "start_time": "2023-12-26T13:28:15.812Z"
   },
   {
    "duration": 210,
    "start_time": "2023-12-26T13:28:15.823Z"
   },
   {
    "duration": 196,
    "start_time": "2023-12-26T13:28:16.034Z"
   },
   {
    "duration": 200,
    "start_time": "2023-12-26T13:28:16.232Z"
   },
   {
    "duration": 209,
    "start_time": "2023-12-26T13:28:16.434Z"
   },
   {
    "duration": 194,
    "start_time": "2023-12-26T13:28:16.645Z"
   },
   {
    "duration": 19,
    "start_time": "2023-12-26T13:28:16.841Z"
   },
   {
    "duration": 235,
    "start_time": "2023-12-26T13:28:16.861Z"
   },
   {
    "duration": 12,
    "start_time": "2023-12-26T13:28:17.098Z"
   },
   {
    "duration": 28,
    "start_time": "2023-12-26T13:28:17.112Z"
   },
   {
    "duration": 70,
    "start_time": "2023-12-26T13:28:17.142Z"
   },
   {
    "duration": 25,
    "start_time": "2023-12-26T13:28:17.214Z"
   },
   {
    "duration": 136,
    "start_time": "2023-12-26T13:28:17.241Z"
   },
   {
    "duration": 6,
    "start_time": "2023-12-26T13:28:17.379Z"
   },
   {
    "duration": 39,
    "start_time": "2023-12-26T13:28:17.386Z"
   },
   {
    "duration": 55,
    "start_time": "2023-12-26T13:28:17.427Z"
   },
   {
    "duration": 2777,
    "start_time": "2023-12-26T13:28:17.483Z"
   },
   {
    "duration": 7,
    "start_time": "2023-12-26T13:28:20.261Z"
   },
   {
    "duration": 66,
    "start_time": "2023-12-26T13:28:20.269Z"
   },
   {
    "duration": 1889,
    "start_time": "2023-12-26T13:28:20.337Z"
   },
   {
    "duration": 8,
    "start_time": "2023-12-26T13:28:22.232Z"
   },
   {
    "duration": 29,
    "start_time": "2023-12-26T13:28:22.242Z"
   },
   {
    "duration": 1842,
    "start_time": "2023-12-26T13:28:22.273Z"
   },
   {
    "duration": 6,
    "start_time": "2023-12-26T13:28:24.122Z"
   },
   {
    "duration": 50,
    "start_time": "2023-12-26T13:28:24.129Z"
   },
   {
    "duration": 789,
    "start_time": "2023-12-26T13:28:24.181Z"
   },
   {
    "duration": 5,
    "start_time": "2023-12-26T13:28:24.971Z"
   },
   {
    "duration": 7740,
    "start_time": "2023-12-26T13:28:24.978Z"
   },
   {
    "duration": 6,
    "start_time": "2023-12-26T13:28:32.720Z"
   },
   {
    "duration": 226,
    "start_time": "2023-12-26T13:28:32.728Z"
   },
   {
    "duration": 6,
    "start_time": "2023-12-26T13:28:32.956Z"
   },
   {
    "duration": 129,
    "start_time": "2023-12-26T13:28:32.964Z"
   },
   {
    "duration": 66,
    "start_time": "2023-12-26T13:28:33.095Z"
   },
   {
    "duration": 16,
    "start_time": "2023-12-26T13:28:33.162Z"
   },
   {
    "duration": 7,
    "start_time": "2023-12-26T13:28:33.180Z"
   },
   {
    "duration": 19,
    "start_time": "2023-12-26T13:28:33.189Z"
   },
   {
    "duration": 149,
    "start_time": "2023-12-26T13:28:33.210Z"
   },
   {
    "duration": 145,
    "start_time": "2023-12-26T13:28:33.361Z"
   },
   {
    "duration": 146,
    "start_time": "2023-12-26T13:28:33.508Z"
   },
   {
    "duration": 158,
    "start_time": "2023-12-26T13:28:33.656Z"
   },
   {
    "duration": 148,
    "start_time": "2023-12-26T13:28:33.821Z"
   },
   {
    "duration": 161,
    "start_time": "2023-12-26T13:28:33.971Z"
   },
   {
    "duration": 147,
    "start_time": "2023-12-26T13:28:34.134Z"
   },
   {
    "duration": 142,
    "start_time": "2023-12-26T13:28:34.282Z"
   },
   {
    "duration": 143,
    "start_time": "2023-12-26T13:28:34.425Z"
   },
   {
    "duration": 7,
    "start_time": "2023-12-26T13:28:34.570Z"
   },
   {
    "duration": 46,
    "start_time": "2023-12-26T13:28:34.578Z"
   },
   {
    "duration": 12,
    "start_time": "2023-12-26T13:28:34.626Z"
   },
   {
    "duration": 16,
    "start_time": "2023-12-26T13:32:30.950Z"
   },
   {
    "duration": 14,
    "start_time": "2023-12-26T13:33:26.565Z"
   },
   {
    "duration": 144,
    "start_time": "2023-12-26T13:33:54.958Z"
   },
   {
    "duration": 44048,
    "start_time": "2023-12-26T13:34:33.333Z"
   },
   {
    "duration": 331,
    "start_time": "2023-12-26T13:39:47.611Z"
   },
   {
    "duration": 316,
    "start_time": "2023-12-26T13:43:51.184Z"
   },
   {
    "duration": 320,
    "start_time": "2023-12-26T13:44:03.186Z"
   },
   {
    "duration": 297,
    "start_time": "2023-12-26T13:44:14.414Z"
   },
   {
    "duration": 3259,
    "start_time": "2023-12-26T14:23:10.538Z"
   },
   {
    "duration": 1204,
    "start_time": "2023-12-26T14:23:13.799Z"
   },
   {
    "duration": 56,
    "start_time": "2023-12-26T14:23:15.005Z"
   },
   {
    "duration": 94,
    "start_time": "2023-12-26T14:23:15.062Z"
   },
   {
    "duration": 112,
    "start_time": "2023-12-26T14:23:15.158Z"
   },
   {
    "duration": 15,
    "start_time": "2023-12-26T14:23:15.272Z"
   },
   {
    "duration": 30,
    "start_time": "2023-12-26T14:23:15.288Z"
   },
   {
    "duration": 32,
    "start_time": "2023-12-26T14:23:15.320Z"
   },
   {
    "duration": 793,
    "start_time": "2023-12-26T14:23:15.354Z"
   },
   {
    "duration": 9,
    "start_time": "2023-12-26T14:23:16.148Z"
   },
   {
    "duration": 30,
    "start_time": "2023-12-26T14:23:16.159Z"
   },
   {
    "duration": 17,
    "start_time": "2023-12-26T14:23:16.190Z"
   },
   {
    "duration": 38,
    "start_time": "2023-12-26T14:23:16.208Z"
   },
   {
    "duration": 9,
    "start_time": "2023-12-26T14:23:16.248Z"
   },
   {
    "duration": 18,
    "start_time": "2023-12-26T14:23:16.258Z"
   },
   {
    "duration": 23,
    "start_time": "2023-12-26T14:23:16.278Z"
   },
   {
    "duration": 21,
    "start_time": "2023-12-26T14:23:16.303Z"
   },
   {
    "duration": 336,
    "start_time": "2023-12-26T14:23:16.327Z"
   },
   {
    "duration": 31,
    "start_time": "2023-12-26T14:23:16.665Z"
   },
   {
    "duration": 15,
    "start_time": "2023-12-26T14:23:16.698Z"
   },
   {
    "duration": 54,
    "start_time": "2023-12-26T14:23:16.714Z"
   },
   {
    "duration": 194,
    "start_time": "2023-12-26T14:23:16.769Z"
   },
   {
    "duration": 204,
    "start_time": "2023-12-26T14:23:16.966Z"
   },
   {
    "duration": 198,
    "start_time": "2023-12-26T14:23:17.171Z"
   },
   {
    "duration": 191,
    "start_time": "2023-12-26T14:23:17.370Z"
   },
   {
    "duration": 199,
    "start_time": "2023-12-26T14:23:17.562Z"
   },
   {
    "duration": 29,
    "start_time": "2023-12-26T14:23:17.763Z"
   },
   {
    "duration": 301,
    "start_time": "2023-12-26T14:23:17.793Z"
   },
   {
    "duration": 15,
    "start_time": "2023-12-26T14:23:18.096Z"
   },
   {
    "duration": 7,
    "start_time": "2023-12-26T14:23:18.113Z"
   },
   {
    "duration": 86,
    "start_time": "2023-12-26T14:23:18.122Z"
   },
   {
    "duration": 13,
    "start_time": "2023-12-26T14:23:18.210Z"
   },
   {
    "duration": 21,
    "start_time": "2023-12-26T14:23:18.225Z"
   },
   {
    "duration": 318,
    "start_time": "2023-12-26T14:23:18.248Z"
   },
   {
    "duration": 7,
    "start_time": "2023-12-26T14:23:18.567Z"
   },
   {
    "duration": 10,
    "start_time": "2023-12-26T14:23:18.588Z"
   },
   {
    "duration": 28,
    "start_time": "2023-12-26T14:23:18.600Z"
   },
   {
    "duration": 2724,
    "start_time": "2023-12-26T14:23:18.630Z"
   },
   {
    "duration": 7,
    "start_time": "2023-12-26T14:23:21.356Z"
   },
   {
    "duration": 42,
    "start_time": "2023-12-26T14:23:21.365Z"
   },
   {
    "duration": 1752,
    "start_time": "2023-12-26T14:23:21.413Z"
   },
   {
    "duration": 6,
    "start_time": "2023-12-26T14:23:23.167Z"
   },
   {
    "duration": 23,
    "start_time": "2023-12-26T14:23:23.188Z"
   },
   {
    "duration": 1923,
    "start_time": "2023-12-26T14:23:23.213Z"
   },
   {
    "duration": 5,
    "start_time": "2023-12-26T14:23:25.138Z"
   },
   {
    "duration": 80,
    "start_time": "2023-12-26T14:23:25.145Z"
   },
   {
    "duration": 926,
    "start_time": "2023-12-26T14:23:25.227Z"
   },
   {
    "duration": 6,
    "start_time": "2023-12-26T14:23:26.155Z"
   },
   {
    "duration": 7479,
    "start_time": "2023-12-26T14:23:26.162Z"
   },
   {
    "duration": 7,
    "start_time": "2023-12-26T14:23:33.642Z"
   },
   {
    "duration": 225,
    "start_time": "2023-12-26T14:23:33.650Z"
   },
   {
    "duration": 12,
    "start_time": "2023-12-26T14:23:33.877Z"
   },
   {
    "duration": 17,
    "start_time": "2023-12-26T14:23:33.890Z"
   },
   {
    "duration": 15,
    "start_time": "2023-12-26T14:23:33.909Z"
   },
   {
    "duration": 16,
    "start_time": "2023-12-26T14:23:33.926Z"
   },
   {
    "duration": 10,
    "start_time": "2023-12-26T14:23:33.943Z"
   },
   {
    "duration": 10,
    "start_time": "2023-12-26T14:23:33.955Z"
   },
   {
    "duration": 146,
    "start_time": "2023-12-26T14:23:33.989Z"
   },
   {
    "duration": 135,
    "start_time": "2023-12-26T14:23:34.138Z"
   },
   {
    "duration": 141,
    "start_time": "2023-12-26T14:23:34.275Z"
   },
   {
    "duration": 146,
    "start_time": "2023-12-26T14:23:34.417Z"
   },
   {
    "duration": 150,
    "start_time": "2023-12-26T14:23:34.564Z"
   },
   {
    "duration": 146,
    "start_time": "2023-12-26T14:23:34.716Z"
   },
   {
    "duration": 150,
    "start_time": "2023-12-26T14:23:34.863Z"
   },
   {
    "duration": 143,
    "start_time": "2023-12-26T14:23:35.015Z"
   },
   {
    "duration": 242,
    "start_time": "2023-12-26T14:23:35.160Z"
   },
   {
    "duration": 7,
    "start_time": "2023-12-26T14:23:35.404Z"
   },
   {
    "duration": 16,
    "start_time": "2023-12-26T14:23:35.413Z"
   },
   {
    "duration": 41,
    "start_time": "2023-12-26T14:23:35.431Z"
   },
   {
    "duration": 99,
    "start_time": "2023-12-26T14:27:44.800Z"
   },
   {
    "duration": 239,
    "start_time": "2023-12-26T14:27:50.611Z"
   },
   {
    "duration": 298,
    "start_time": "2023-12-26T14:28:00.658Z"
   },
   {
    "duration": 8,
    "start_time": "2023-12-26T14:30:45.055Z"
   },
   {
    "duration": 25,
    "start_time": "2023-12-26T14:30:47.638Z"
   },
   {
    "duration": 1421,
    "start_time": "2023-12-26T14:30:53.310Z"
   },
   {
    "duration": 7,
    "start_time": "2023-12-26T14:31:24.472Z"
   },
   {
    "duration": 25,
    "start_time": "2023-12-26T14:31:30.448Z"
   },
   {
    "duration": 2552,
    "start_time": "2023-12-26T14:31:30.800Z"
   },
   {
    "duration": 2631,
    "start_time": "2023-12-26T14:35:47.002Z"
   },
   {
    "duration": 1207,
    "start_time": "2023-12-26T14:35:49.635Z"
   },
   {
    "duration": 60,
    "start_time": "2023-12-26T14:35:50.843Z"
   },
   {
    "duration": 18,
    "start_time": "2023-12-26T14:35:50.905Z"
   },
   {
    "duration": 15,
    "start_time": "2023-12-26T14:35:50.925Z"
   },
   {
    "duration": 9,
    "start_time": "2023-12-26T14:35:50.941Z"
   },
   {
    "duration": 16,
    "start_time": "2023-12-26T14:35:50.952Z"
   },
   {
    "duration": 24,
    "start_time": "2023-12-26T14:35:50.970Z"
   },
   {
    "duration": 802,
    "start_time": "2023-12-26T14:35:50.995Z"
   },
   {
    "duration": 8,
    "start_time": "2023-12-26T14:35:51.800Z"
   },
   {
    "duration": 8,
    "start_time": "2023-12-26T14:35:51.810Z"
   },
   {
    "duration": 8,
    "start_time": "2023-12-26T14:35:51.819Z"
   },
   {
    "duration": 24,
    "start_time": "2023-12-26T14:35:51.828Z"
   },
   {
    "duration": 5,
    "start_time": "2023-12-26T14:35:51.853Z"
   },
   {
    "duration": 34,
    "start_time": "2023-12-26T14:35:51.859Z"
   },
   {
    "duration": 5,
    "start_time": "2023-12-26T14:35:51.895Z"
   },
   {
    "duration": 20,
    "start_time": "2023-12-26T14:35:51.902Z"
   },
   {
    "duration": 342,
    "start_time": "2023-12-26T14:35:51.923Z"
   },
   {
    "duration": 25,
    "start_time": "2023-12-26T14:35:52.266Z"
   },
   {
    "duration": 13,
    "start_time": "2023-12-26T14:35:52.293Z"
   },
   {
    "duration": 4,
    "start_time": "2023-12-26T14:35:52.307Z"
   },
   {
    "duration": 208,
    "start_time": "2023-12-26T14:35:52.312Z"
   },
   {
    "duration": 199,
    "start_time": "2023-12-26T14:35:52.522Z"
   },
   {
    "duration": 185,
    "start_time": "2023-12-26T14:35:52.723Z"
   },
   {
    "duration": 182,
    "start_time": "2023-12-26T14:35:52.910Z"
   },
   {
    "duration": 177,
    "start_time": "2023-12-26T14:35:53.094Z"
   },
   {
    "duration": 27,
    "start_time": "2023-12-26T14:35:53.272Z"
   },
   {
    "duration": 315,
    "start_time": "2023-12-26T14:35:53.304Z"
   },
   {
    "duration": 10,
    "start_time": "2023-12-26T14:35:53.620Z"
   },
   {
    "duration": 15,
    "start_time": "2023-12-26T14:35:53.632Z"
   },
   {
    "duration": 51,
    "start_time": "2023-12-26T14:35:53.648Z"
   },
   {
    "duration": 13,
    "start_time": "2023-12-26T14:35:53.701Z"
   },
   {
    "duration": 15,
    "start_time": "2023-12-26T14:35:53.716Z"
   },
   {
    "duration": 307,
    "start_time": "2023-12-26T14:35:53.733Z"
   },
   {
    "duration": 6,
    "start_time": "2023-12-26T14:35:54.041Z"
   },
   {
    "duration": 8,
    "start_time": "2023-12-26T14:35:54.049Z"
   },
   {
    "duration": 40,
    "start_time": "2023-12-26T14:35:54.058Z"
   },
   {
    "duration": 2525,
    "start_time": "2023-12-26T14:35:54.099Z"
   },
   {
    "duration": 5,
    "start_time": "2023-12-26T14:35:56.626Z"
   },
   {
    "duration": 65,
    "start_time": "2023-12-26T14:35:56.633Z"
   },
   {
    "duration": 1696,
    "start_time": "2023-12-26T14:35:56.700Z"
   },
   {
    "duration": 6,
    "start_time": "2023-12-26T14:35:58.398Z"
   },
   {
    "duration": 52,
    "start_time": "2023-12-26T14:35:58.406Z"
   },
   {
    "duration": 1887,
    "start_time": "2023-12-26T14:35:58.460Z"
   },
   {
    "duration": 6,
    "start_time": "2023-12-26T14:36:00.348Z"
   },
   {
    "duration": 57,
    "start_time": "2023-12-26T14:36:00.355Z"
   },
   {
    "duration": 805,
    "start_time": "2023-12-26T14:36:00.413Z"
   },
   {
    "duration": 5,
    "start_time": "2023-12-26T14:36:01.220Z"
   },
   {
    "duration": 7587,
    "start_time": "2023-12-26T14:36:01.227Z"
   },
   {
    "duration": 6,
    "start_time": "2023-12-26T14:36:08.815Z"
   },
   {
    "duration": 197,
    "start_time": "2023-12-26T14:36:08.823Z"
   },
   {
    "duration": 6,
    "start_time": "2023-12-26T14:36:09.022Z"
   },
   {
    "duration": 54,
    "start_time": "2023-12-26T14:36:09.030Z"
   },
   {
    "duration": 26,
    "start_time": "2023-12-26T14:36:09.086Z"
   },
   {
    "duration": 17,
    "start_time": "2023-12-26T14:36:09.114Z"
   },
   {
    "duration": 19,
    "start_time": "2023-12-26T14:36:09.133Z"
   },
   {
    "duration": 20,
    "start_time": "2023-12-26T14:36:09.154Z"
   },
   {
    "duration": 158,
    "start_time": "2023-12-26T14:36:09.176Z"
   },
   {
    "duration": 138,
    "start_time": "2023-12-26T14:36:09.336Z"
   },
   {
    "duration": 145,
    "start_time": "2023-12-26T14:36:09.475Z"
   },
   {
    "duration": 261,
    "start_time": "2023-12-26T14:36:09.622Z"
   },
   {
    "duration": 142,
    "start_time": "2023-12-26T14:36:09.885Z"
   },
   {
    "duration": 141,
    "start_time": "2023-12-26T14:36:10.029Z"
   },
   {
    "duration": 137,
    "start_time": "2023-12-26T14:36:10.171Z"
   },
   {
    "duration": 148,
    "start_time": "2023-12-26T14:36:10.310Z"
   },
   {
    "duration": 237,
    "start_time": "2023-12-26T14:36:10.460Z"
   },
   {
    "duration": 6,
    "start_time": "2023-12-26T14:36:10.699Z"
   },
   {
    "duration": 43,
    "start_time": "2023-12-26T14:36:10.707Z"
   },
   {
    "duration": 18,
    "start_time": "2023-12-26T14:36:10.751Z"
   },
   {
    "duration": 2571,
    "start_time": "2023-12-26T14:46:27.178Z"
   },
   {
    "duration": 5,
    "start_time": "2023-12-26T14:46:30.312Z"
   },
   {
    "duration": 60,
    "start_time": "2023-12-26T14:46:37.199Z"
   },
   {
    "duration": 16,
    "start_time": "2023-12-26T14:46:38.506Z"
   },
   {
    "duration": 17,
    "start_time": "2023-12-26T14:46:41.091Z"
   },
   {
    "duration": 17,
    "start_time": "2023-12-26T14:49:49.429Z"
   },
   {
    "duration": 9,
    "start_time": "2023-12-26T14:50:12.812Z"
   },
   {
    "duration": 2531,
    "start_time": "2023-12-26T14:50:25.374Z"
   },
   {
    "duration": 4,
    "start_time": "2023-12-26T14:50:27.907Z"
   },
   {
    "duration": 62,
    "start_time": "2023-12-26T14:50:27.912Z"
   },
   {
    "duration": 16,
    "start_time": "2023-12-26T14:50:27.976Z"
   },
   {
    "duration": 21,
    "start_time": "2023-12-26T14:50:27.993Z"
   },
   {
    "duration": 3,
    "start_time": "2023-12-26T14:50:28.015Z"
   },
   {
    "duration": 29,
    "start_time": "2023-12-26T14:50:28.020Z"
   },
   {
    "duration": 7,
    "start_time": "2023-12-26T14:50:28.051Z"
   },
   {
    "duration": 918,
    "start_time": "2023-12-26T14:50:28.060Z"
   },
   {
    "duration": 9,
    "start_time": "2023-12-26T14:50:28.981Z"
   },
   {
    "duration": 12,
    "start_time": "2023-12-26T14:50:28.992Z"
   },
   {
    "duration": 8,
    "start_time": "2023-12-26T14:52:30.384Z"
   },
   {
    "duration": 2585,
    "start_time": "2023-12-26T14:52:43.996Z"
   },
   {
    "duration": 4,
    "start_time": "2023-12-26T14:52:46.583Z"
   },
   {
    "duration": 83,
    "start_time": "2023-12-26T14:52:46.589Z"
   },
   {
    "duration": 15,
    "start_time": "2023-12-26T14:52:46.674Z"
   },
   {
    "duration": 18,
    "start_time": "2023-12-26T14:52:46.690Z"
   },
   {
    "duration": 3,
    "start_time": "2023-12-26T14:52:46.709Z"
   },
   {
    "duration": 27,
    "start_time": "2023-12-26T14:52:46.714Z"
   },
   {
    "duration": 7,
    "start_time": "2023-12-26T14:52:46.743Z"
   },
   {
    "duration": 915,
    "start_time": "2023-12-26T14:52:46.751Z"
   },
   {
    "duration": 10,
    "start_time": "2023-12-26T14:52:47.668Z"
   },
   {
    "duration": 74,
    "start_time": "2023-12-26T14:52:47.679Z"
   },
   {
    "duration": 10,
    "start_time": "2023-12-26T14:54:29.747Z"
   },
   {
    "duration": 27,
    "start_time": "2023-12-26T14:54:41.632Z"
   },
   {
    "duration": 2532,
    "start_time": "2023-12-26T14:55:05.381Z"
   },
   {
    "duration": 4,
    "start_time": "2023-12-26T14:55:07.916Z"
   },
   {
    "duration": 77,
    "start_time": "2023-12-26T14:55:07.922Z"
   },
   {
    "duration": 15,
    "start_time": "2023-12-26T14:55:08.001Z"
   },
   {
    "duration": 62,
    "start_time": "2023-12-26T14:55:08.018Z"
   },
   {
    "duration": 4,
    "start_time": "2023-12-26T14:55:08.081Z"
   },
   {
    "duration": 58,
    "start_time": "2023-12-26T14:55:08.086Z"
   },
   {
    "duration": 27,
    "start_time": "2023-12-26T14:55:08.146Z"
   },
   {
    "duration": 890,
    "start_time": "2023-12-26T14:55:08.174Z"
   },
   {
    "duration": 10,
    "start_time": "2023-12-26T14:55:09.065Z"
   },
   {
    "duration": 30,
    "start_time": "2023-12-26T14:55:09.076Z"
   },
   {
    "duration": 10,
    "start_time": "2023-12-26T14:55:09.108Z"
   },
   {
    "duration": 6,
    "start_time": "2023-12-26T14:55:09.120Z"
   },
   {
    "duration": 34,
    "start_time": "2023-12-26T14:55:09.129Z"
   },
   {
    "duration": 5,
    "start_time": "2023-12-26T14:55:09.165Z"
   },
   {
    "duration": 17,
    "start_time": "2023-12-26T14:55:09.171Z"
   },
   {
    "duration": 5,
    "start_time": "2023-12-26T14:55:09.190Z"
   },
   {
    "duration": 41,
    "start_time": "2023-12-26T14:55:09.197Z"
   },
   {
    "duration": 330,
    "start_time": "2023-12-26T14:55:09.240Z"
   },
   {
    "duration": 19,
    "start_time": "2023-12-26T14:55:09.572Z"
   },
   {
    "duration": 21,
    "start_time": "2023-12-26T14:55:09.593Z"
   },
   {
    "duration": 29,
    "start_time": "2023-12-26T14:55:09.622Z"
   },
   {
    "duration": 190,
    "start_time": "2023-12-26T14:55:09.652Z"
   },
   {
    "duration": 188,
    "start_time": "2023-12-26T14:55:09.844Z"
   },
   {
    "duration": 192,
    "start_time": "2023-12-26T14:55:10.034Z"
   },
   {
    "duration": 211,
    "start_time": "2023-12-26T14:55:10.228Z"
   },
   {
    "duration": 183,
    "start_time": "2023-12-26T14:55:10.441Z"
   },
   {
    "duration": 19,
    "start_time": "2023-12-26T14:55:10.625Z"
   },
   {
    "duration": 268,
    "start_time": "2023-12-26T14:55:10.645Z"
   },
   {
    "duration": 16,
    "start_time": "2023-12-26T14:55:10.915Z"
   },
   {
    "duration": 75,
    "start_time": "2023-12-26T14:55:10.933Z"
   },
   {
    "duration": 111,
    "start_time": "2023-12-26T14:55:11.010Z"
   },
   {
    "duration": 14,
    "start_time": "2023-12-26T14:55:11.123Z"
   },
   {
    "duration": 44,
    "start_time": "2023-12-26T14:55:11.139Z"
   },
   {
    "duration": 754,
    "start_time": "2023-12-26T15:01:28.954Z"
   },
   {
    "duration": 676,
    "start_time": "2023-12-26T15:02:31.593Z"
   },
   {
    "duration": 8,
    "start_time": "2023-12-26T15:04:50.238Z"
   },
   {
    "duration": 2517,
    "start_time": "2023-12-26T15:04:57.597Z"
   },
   {
    "duration": 4,
    "start_time": "2023-12-26T15:05:00.116Z"
   },
   {
    "duration": 177,
    "start_time": "2023-12-26T15:05:00.121Z"
   },
   {
    "duration": 15,
    "start_time": "2023-12-26T15:05:00.300Z"
   },
   {
    "duration": 49,
    "start_time": "2023-12-26T15:05:00.317Z"
   },
   {
    "duration": 46,
    "start_time": "2023-12-26T15:05:00.368Z"
   },
   {
    "duration": 56,
    "start_time": "2023-12-26T15:05:00.415Z"
   },
   {
    "duration": 33,
    "start_time": "2023-12-26T15:05:00.473Z"
   },
   {
    "duration": 870,
    "start_time": "2023-12-26T15:05:00.508Z"
   },
   {
    "duration": 10,
    "start_time": "2023-12-26T15:05:01.382Z"
   },
   {
    "duration": 83,
    "start_time": "2023-12-26T15:05:01.394Z"
   },
   {
    "duration": 29,
    "start_time": "2023-12-26T15:05:01.479Z"
   },
   {
    "duration": 25,
    "start_time": "2023-12-26T15:05:01.510Z"
   },
   {
    "duration": 144,
    "start_time": "2023-12-26T15:05:01.537Z"
   },
   {
    "duration": 78,
    "start_time": "2023-12-26T15:05:01.683Z"
   },
   {
    "duration": 68,
    "start_time": "2023-12-26T15:05:01.763Z"
   },
   {
    "duration": 27,
    "start_time": "2023-12-26T15:05:01.833Z"
   },
   {
    "duration": 57,
    "start_time": "2023-12-26T15:05:01.862Z"
   },
   {
    "duration": 391,
    "start_time": "2023-12-26T15:05:01.921Z"
   },
   {
    "duration": 26,
    "start_time": "2023-12-26T15:05:02.314Z"
   },
   {
    "duration": 20,
    "start_time": "2023-12-26T15:05:02.342Z"
   },
   {
    "duration": 8,
    "start_time": "2023-12-26T15:05:02.363Z"
   },
   {
    "duration": 199,
    "start_time": "2023-12-26T15:05:02.373Z"
   },
   {
    "duration": 202,
    "start_time": "2023-12-26T15:05:02.574Z"
   },
   {
    "duration": 195,
    "start_time": "2023-12-26T15:05:02.777Z"
   },
   {
    "duration": 192,
    "start_time": "2023-12-26T15:05:02.974Z"
   },
   {
    "duration": 189,
    "start_time": "2023-12-26T15:05:03.168Z"
   },
   {
    "duration": 18,
    "start_time": "2023-12-26T15:05:03.361Z"
   },
   {
    "duration": 233,
    "start_time": "2023-12-26T15:05:03.381Z"
   },
   {
    "duration": 15,
    "start_time": "2023-12-26T15:05:03.616Z"
   },
   {
    "duration": 11,
    "start_time": "2023-12-26T15:05:03.633Z"
   },
   {
    "duration": 60,
    "start_time": "2023-12-26T15:05:03.645Z"
   },
   {
    "duration": 14,
    "start_time": "2023-12-26T15:05:03.707Z"
   },
   {
    "duration": 26,
    "start_time": "2023-12-26T15:05:03.723Z"
   },
   {
    "duration": 667,
    "start_time": "2023-12-26T15:05:03.751Z"
   },
   {
    "duration": 4,
    "start_time": "2023-12-26T15:05:04.422Z"
   },
   {
    "duration": 1432,
    "start_time": "2023-12-26T15:05:04.427Z"
   },
   {
    "duration": 29,
    "start_time": "2023-12-26T15:05:05.860Z"
   },
   {
    "duration": 2636,
    "start_time": "2023-12-26T15:06:26.796Z"
   },
   {
    "duration": 7,
    "start_time": "2023-12-26T15:06:56.066Z"
   },
   {
    "duration": 2644,
    "start_time": "2023-12-26T15:07:00.145Z"
   },
   {
    "duration": 8,
    "start_time": "2023-12-26T15:07:17.323Z"
   },
   {
    "duration": 2665,
    "start_time": "2023-12-26T15:07:20.288Z"
   },
   {
    "duration": 8,
    "start_time": "2023-12-26T15:07:45.866Z"
   },
   {
    "duration": 2737,
    "start_time": "2023-12-26T15:07:48.610Z"
   },
   {
    "duration": 7,
    "start_time": "2023-12-26T15:08:10.468Z"
   },
   {
    "duration": 2507,
    "start_time": "2023-12-26T15:08:32.858Z"
   },
   {
    "duration": 4,
    "start_time": "2023-12-26T15:08:35.368Z"
   },
   {
    "duration": 63,
    "start_time": "2023-12-26T15:08:35.373Z"
   },
   {
    "duration": 15,
    "start_time": "2023-12-26T15:08:35.438Z"
   },
   {
    "duration": 19,
    "start_time": "2023-12-26T15:08:35.455Z"
   },
   {
    "duration": 6,
    "start_time": "2023-12-26T15:08:35.476Z"
   },
   {
    "duration": 25,
    "start_time": "2023-12-26T15:08:35.484Z"
   },
   {
    "duration": 13,
    "start_time": "2023-12-26T15:08:35.522Z"
   },
   {
    "duration": 933,
    "start_time": "2023-12-26T15:08:35.537Z"
   },
   {
    "duration": 10,
    "start_time": "2023-12-26T15:08:36.472Z"
   },
   {
    "duration": 25,
    "start_time": "2023-12-26T15:08:36.483Z"
   },
   {
    "duration": 15,
    "start_time": "2023-12-26T15:08:36.509Z"
   },
   {
    "duration": 12,
    "start_time": "2023-12-26T15:08:36.526Z"
   },
   {
    "duration": 29,
    "start_time": "2023-12-26T15:08:36.541Z"
   },
   {
    "duration": 4,
    "start_time": "2023-12-26T15:08:36.572Z"
   },
   {
    "duration": 35,
    "start_time": "2023-12-26T15:08:36.578Z"
   },
   {
    "duration": 16,
    "start_time": "2023-12-26T15:08:36.615Z"
   },
   {
    "duration": 24,
    "start_time": "2023-12-26T15:08:36.633Z"
   },
   {
    "duration": 333,
    "start_time": "2023-12-26T15:08:36.658Z"
   },
   {
    "duration": 20,
    "start_time": "2023-12-26T15:08:36.992Z"
   },
   {
    "duration": 16,
    "start_time": "2023-12-26T15:08:37.021Z"
   },
   {
    "duration": 3,
    "start_time": "2023-12-26T15:08:37.039Z"
   },
   {
    "duration": 235,
    "start_time": "2023-12-26T15:08:37.044Z"
   },
   {
    "duration": 205,
    "start_time": "2023-12-26T15:08:37.281Z"
   },
   {
    "duration": 202,
    "start_time": "2023-12-26T15:08:37.487Z"
   },
   {
    "duration": 182,
    "start_time": "2023-12-26T15:08:37.691Z"
   },
   {
    "duration": 182,
    "start_time": "2023-12-26T15:08:37.875Z"
   },
   {
    "duration": 18,
    "start_time": "2023-12-26T15:08:38.058Z"
   },
   {
    "duration": 226,
    "start_time": "2023-12-26T15:08:38.078Z"
   },
   {
    "duration": 17,
    "start_time": "2023-12-26T15:08:38.306Z"
   },
   {
    "duration": 7,
    "start_time": "2023-12-26T15:08:38.325Z"
   },
   {
    "duration": 46,
    "start_time": "2023-12-26T15:08:38.333Z"
   },
   {
    "duration": 14,
    "start_time": "2023-12-26T15:08:38.381Z"
   },
   {
    "duration": 33,
    "start_time": "2023-12-26T15:08:38.396Z"
   },
   {
    "duration": 864,
    "start_time": "2023-12-26T15:08:38.431Z"
   },
   {
    "duration": 5,
    "start_time": "2023-12-26T15:08:39.297Z"
   },
   {
    "duration": 23,
    "start_time": "2023-12-26T15:08:39.305Z"
   },
   {
    "duration": 61,
    "start_time": "2023-12-26T15:08:39.330Z"
   },
   {
    "duration": 371,
    "start_time": "2023-12-26T15:08:39.393Z"
   },
   {
    "duration": 6,
    "start_time": "2023-12-26T15:08:39.766Z"
   },
   {
    "duration": 47,
    "start_time": "2023-12-26T15:08:39.776Z"
   },
   {
    "duration": 325,
    "start_time": "2023-12-26T15:08:39.825Z"
   },
   {
    "duration": 6,
    "start_time": "2023-12-26T15:08:40.152Z"
   },
   {
    "duration": 40,
    "start_time": "2023-12-26T15:08:40.160Z"
   },
   {
    "duration": 365,
    "start_time": "2023-12-26T15:08:40.201Z"
   },
   {
    "duration": 7,
    "start_time": "2023-12-26T15:08:40.568Z"
   },
   {
    "duration": 47,
    "start_time": "2023-12-26T15:08:40.576Z"
   },
   {
    "duration": 363,
    "start_time": "2023-12-26T15:08:40.625Z"
   },
   {
    "duration": 6,
    "start_time": "2023-12-26T15:08:40.990Z"
   },
   {
    "duration": 343,
    "start_time": "2023-12-26T15:08:40.998Z"
   },
   {
    "duration": 7,
    "start_time": "2023-12-26T15:08:41.342Z"
   },
   {
    "duration": 2518,
    "start_time": "2023-12-26T15:10:07.542Z"
   },
   {
    "duration": 4,
    "start_time": "2023-12-26T15:10:10.062Z"
   },
   {
    "duration": 102,
    "start_time": "2023-12-26T15:10:10.067Z"
   },
   {
    "duration": 15,
    "start_time": "2023-12-26T15:10:10.171Z"
   },
   {
    "duration": 31,
    "start_time": "2023-12-26T15:10:10.188Z"
   },
   {
    "duration": 16,
    "start_time": "2023-12-26T15:10:10.220Z"
   },
   {
    "duration": 26,
    "start_time": "2023-12-26T15:10:10.238Z"
   },
   {
    "duration": 6,
    "start_time": "2023-12-26T15:10:10.266Z"
   },
   {
    "duration": 893,
    "start_time": "2023-12-26T15:10:10.274Z"
   },
   {
    "duration": 9,
    "start_time": "2023-12-26T15:10:11.169Z"
   },
   {
    "duration": 19,
    "start_time": "2023-12-26T15:10:11.179Z"
   },
   {
    "duration": 7,
    "start_time": "2023-12-26T15:10:11.200Z"
   },
   {
    "duration": 5,
    "start_time": "2023-12-26T15:10:11.221Z"
   },
   {
    "duration": 28,
    "start_time": "2023-12-26T15:10:11.229Z"
   },
   {
    "duration": 4,
    "start_time": "2023-12-26T15:10:11.259Z"
   },
   {
    "duration": 16,
    "start_time": "2023-12-26T15:10:11.265Z"
   },
   {
    "duration": 8,
    "start_time": "2023-12-26T15:10:11.282Z"
   },
   {
    "duration": 42,
    "start_time": "2023-12-26T15:10:11.291Z"
   },
   {
    "duration": 341,
    "start_time": "2023-12-26T15:10:11.335Z"
   },
   {
    "duration": 20,
    "start_time": "2023-12-26T15:10:11.677Z"
   },
   {
    "duration": 30,
    "start_time": "2023-12-26T15:10:11.699Z"
   },
   {
    "duration": 3,
    "start_time": "2023-12-26T15:10:11.731Z"
   },
   {
    "duration": 195,
    "start_time": "2023-12-26T15:10:11.735Z"
   },
   {
    "duration": 194,
    "start_time": "2023-12-26T15:10:11.931Z"
   },
   {
    "duration": 349,
    "start_time": "2023-12-26T15:10:12.126Z"
   },
   {
    "duration": 184,
    "start_time": "2023-12-26T15:10:12.477Z"
   },
   {
    "duration": 189,
    "start_time": "2023-12-26T15:10:12.662Z"
   },
   {
    "duration": 17,
    "start_time": "2023-12-26T15:10:12.853Z"
   },
   {
    "duration": 223,
    "start_time": "2023-12-26T15:10:12.872Z"
   },
   {
    "duration": 12,
    "start_time": "2023-12-26T15:10:13.097Z"
   },
   {
    "duration": 4,
    "start_time": "2023-12-26T15:10:13.122Z"
   },
   {
    "duration": 47,
    "start_time": "2023-12-26T15:10:13.127Z"
   },
   {
    "duration": 14,
    "start_time": "2023-12-26T15:10:13.176Z"
   },
   {
    "duration": 31,
    "start_time": "2023-12-26T15:10:13.192Z"
   },
   {
    "duration": 699,
    "start_time": "2023-12-26T15:10:13.225Z"
   },
   {
    "duration": 7,
    "start_time": "2023-12-26T15:10:13.927Z"
   },
   {
    "duration": 29,
    "start_time": "2023-12-26T15:10:13.936Z"
   },
   {
    "duration": 362,
    "start_time": "2023-12-26T15:10:13.967Z"
   },
   {
    "duration": 6,
    "start_time": "2023-12-26T15:10:14.331Z"
   },
   {
    "duration": 33,
    "start_time": "2023-12-26T15:10:14.339Z"
   },
   {
    "duration": 330,
    "start_time": "2023-12-26T15:10:14.377Z"
   },
   {
    "duration": 16,
    "start_time": "2023-12-26T15:10:14.709Z"
   },
   {
    "duration": 27,
    "start_time": "2023-12-26T15:10:14.726Z"
   },
   {
    "duration": 394,
    "start_time": "2023-12-26T15:10:14.754Z"
   },
   {
    "duration": 6,
    "start_time": "2023-12-26T15:10:15.149Z"
   },
   {
    "duration": 33,
    "start_time": "2023-12-26T15:10:15.156Z"
   },
   {
    "duration": 468,
    "start_time": "2023-12-26T15:10:15.190Z"
   },
   {
    "duration": 6,
    "start_time": "2023-12-26T15:10:15.660Z"
   },
   {
    "duration": 347,
    "start_time": "2023-12-26T15:10:15.667Z"
   },
   {
    "duration": 9,
    "start_time": "2023-12-26T15:10:16.016Z"
   },
   {
    "duration": 181,
    "start_time": "2023-12-26T15:10:16.027Z"
   },
   {
    "duration": 12,
    "start_time": "2023-12-26T15:10:16.210Z"
   },
   {
    "duration": 20,
    "start_time": "2023-12-26T15:10:16.223Z"
   },
   {
    "duration": 18,
    "start_time": "2023-12-26T15:10:16.244Z"
   },
   {
    "duration": 17,
    "start_time": "2023-12-26T15:10:16.263Z"
   },
   {
    "duration": 5,
    "start_time": "2023-12-26T15:10:16.281Z"
   },
   {
    "duration": 5,
    "start_time": "2023-12-26T15:10:16.287Z"
   },
   {
    "duration": 144,
    "start_time": "2023-12-26T15:10:16.323Z"
   },
   {
    "duration": 145,
    "start_time": "2023-12-26T15:10:16.468Z"
   },
   {
    "duration": 139,
    "start_time": "2023-12-26T15:10:16.615Z"
   },
   {
    "duration": 177,
    "start_time": "2023-12-26T15:10:16.755Z"
   },
   {
    "duration": 150,
    "start_time": "2023-12-26T15:10:16.933Z"
   },
   {
    "duration": 147,
    "start_time": "2023-12-26T15:10:17.085Z"
   },
   {
    "duration": 137,
    "start_time": "2023-12-26T15:10:17.234Z"
   },
   {
    "duration": 141,
    "start_time": "2023-12-26T15:10:17.373Z"
   },
   {
    "duration": 143,
    "start_time": "2023-12-26T15:10:17.522Z"
   },
   {
    "duration": 6,
    "start_time": "2023-12-26T15:10:17.667Z"
   },
   {
    "duration": 33,
    "start_time": "2023-12-26T15:10:17.675Z"
   },
   {
    "duration": 7,
    "start_time": "2023-12-26T15:10:17.709Z"
   },
   {
    "duration": 151,
    "start_time": "2023-12-26T15:11:41.396Z"
   },
   {
    "duration": 136,
    "start_time": "2023-12-26T15:12:24.170Z"
   },
   {
    "duration": 140,
    "start_time": "2023-12-26T15:13:14.893Z"
   },
   {
    "duration": 778,
    "start_time": "2023-12-26T15:22:38.906Z"
   },
   {
    "duration": 2565,
    "start_time": "2023-12-26T15:23:55.922Z"
   },
   {
    "duration": 3,
    "start_time": "2023-12-26T15:23:58.490Z"
   },
   {
    "duration": 63,
    "start_time": "2023-12-26T15:23:58.495Z"
   },
   {
    "duration": 14,
    "start_time": "2023-12-26T15:23:58.560Z"
   },
   {
    "duration": 33,
    "start_time": "2023-12-26T15:23:58.576Z"
   },
   {
    "duration": 11,
    "start_time": "2023-12-26T15:23:58.610Z"
   },
   {
    "duration": 24,
    "start_time": "2023-12-26T15:23:58.623Z"
   },
   {
    "duration": 30,
    "start_time": "2023-12-26T15:23:58.649Z"
   },
   {
    "duration": 903,
    "start_time": "2023-12-26T15:23:58.680Z"
   },
   {
    "duration": 10,
    "start_time": "2023-12-26T15:23:59.584Z"
   },
   {
    "duration": 36,
    "start_time": "2023-12-26T15:23:59.595Z"
   },
   {
    "duration": 31,
    "start_time": "2023-12-26T15:23:59.633Z"
   },
   {
    "duration": 32,
    "start_time": "2023-12-26T15:23:59.666Z"
   },
   {
    "duration": 41,
    "start_time": "2023-12-26T15:23:59.701Z"
   },
   {
    "duration": 15,
    "start_time": "2023-12-26T15:23:59.744Z"
   },
   {
    "duration": 36,
    "start_time": "2023-12-26T15:23:59.760Z"
   },
   {
    "duration": 16,
    "start_time": "2023-12-26T15:23:59.798Z"
   },
   {
    "duration": 55,
    "start_time": "2023-12-26T15:23:59.815Z"
   },
   {
    "duration": 364,
    "start_time": "2023-12-26T15:23:59.872Z"
   },
   {
    "duration": 18,
    "start_time": "2023-12-26T15:24:00.238Z"
   },
   {
    "duration": 61,
    "start_time": "2023-12-26T15:24:00.258Z"
   },
   {
    "duration": 36,
    "start_time": "2023-12-26T15:24:00.321Z"
   },
   {
    "duration": 327,
    "start_time": "2023-12-26T15:24:00.359Z"
   },
   {
    "duration": 268,
    "start_time": "2023-12-26T15:24:00.721Z"
   },
   {
    "duration": 189,
    "start_time": "2023-12-26T15:24:00.990Z"
   },
   {
    "duration": 338,
    "start_time": "2023-12-26T15:24:01.181Z"
   },
   {
    "duration": 793,
    "start_time": "2023-12-26T15:24:01.522Z"
   },
   {
    "duration": 20,
    "start_time": "2023-12-26T15:24:02.317Z"
   },
   {
    "duration": 306,
    "start_time": "2023-12-26T15:24:02.339Z"
   },
   {
    "duration": 13,
    "start_time": "2023-12-26T15:24:02.647Z"
   },
   {
    "duration": 167,
    "start_time": "2023-12-26T15:24:02.662Z"
   },
   {
    "duration": 111,
    "start_time": "2023-12-26T15:24:02.831Z"
   },
   {
    "duration": 20,
    "start_time": "2023-12-26T15:24:02.944Z"
   },
   {
    "duration": 38,
    "start_time": "2023-12-26T15:24:02.966Z"
   },
   {
    "duration": 819,
    "start_time": "2023-12-26T15:24:03.006Z"
   },
   {
    "duration": 8,
    "start_time": "2023-12-26T15:24:03.827Z"
   },
   {
    "duration": 87,
    "start_time": "2023-12-26T15:24:03.836Z"
   },
   {
    "duration": 383,
    "start_time": "2023-12-26T15:24:03.925Z"
   },
   {
    "duration": 14,
    "start_time": "2023-12-26T15:24:04.310Z"
   },
   {
    "duration": 29,
    "start_time": "2023-12-26T15:24:04.325Z"
   },
   {
    "duration": 324,
    "start_time": "2023-12-26T15:24:04.358Z"
   },
   {
    "duration": 6,
    "start_time": "2023-12-26T15:24:04.683Z"
   },
   {
    "duration": 36,
    "start_time": "2023-12-26T15:24:04.690Z"
   },
   {
    "duration": 383,
    "start_time": "2023-12-26T15:24:04.728Z"
   },
   {
    "duration": 12,
    "start_time": "2023-12-26T15:24:05.112Z"
   },
   {
    "duration": 45,
    "start_time": "2023-12-26T15:24:05.125Z"
   },
   {
    "duration": 373,
    "start_time": "2023-12-26T15:24:05.172Z"
   },
   {
    "duration": 6,
    "start_time": "2023-12-26T15:24:05.546Z"
   },
   {
    "duration": 462,
    "start_time": "2023-12-26T15:24:05.553Z"
   },
   {
    "duration": 10,
    "start_time": "2023-12-26T15:24:06.016Z"
   },
   {
    "duration": 196,
    "start_time": "2023-12-26T15:24:06.027Z"
   },
   {
    "duration": 6,
    "start_time": "2023-12-26T15:24:06.225Z"
   },
   {
    "duration": 24,
    "start_time": "2023-12-26T15:24:06.232Z"
   },
   {
    "duration": 39,
    "start_time": "2023-12-26T15:24:06.258Z"
   },
   {
    "duration": 28,
    "start_time": "2023-12-26T15:24:06.299Z"
   },
   {
    "duration": 23,
    "start_time": "2023-12-26T15:24:06.329Z"
   },
   {
    "duration": 11,
    "start_time": "2023-12-26T15:24:06.354Z"
   },
   {
    "duration": 156,
    "start_time": "2023-12-26T15:24:06.367Z"
   },
   {
    "duration": 149,
    "start_time": "2023-12-26T15:24:06.524Z"
   },
   {
    "duration": 149,
    "start_time": "2023-12-26T15:24:06.674Z"
   },
   {
    "duration": 149,
    "start_time": "2023-12-26T15:24:06.824Z"
   },
   {
    "duration": 149,
    "start_time": "2023-12-26T15:24:06.975Z"
   },
   {
    "duration": 149,
    "start_time": "2023-12-26T15:24:07.126Z"
   },
   {
    "duration": 286,
    "start_time": "2023-12-26T15:24:07.277Z"
   },
   {
    "duration": 152,
    "start_time": "2023-12-26T15:24:07.565Z"
   },
   {
    "duration": 143,
    "start_time": "2023-12-26T15:24:07.729Z"
   },
   {
    "duration": 8,
    "start_time": "2023-12-26T15:24:07.874Z"
   },
   {
    "duration": 47,
    "start_time": "2023-12-26T15:24:07.884Z"
   },
   {
    "duration": 45,
    "start_time": "2023-12-26T15:24:07.933Z"
   },
   {
    "duration": 2520,
    "start_time": "2023-12-26T15:26:41.082Z"
   },
   {
    "duration": 3,
    "start_time": "2023-12-26T15:26:43.605Z"
   },
   {
    "duration": 138,
    "start_time": "2023-12-26T15:26:43.610Z"
   },
   {
    "duration": 15,
    "start_time": "2023-12-26T15:26:43.750Z"
   },
   {
    "duration": 65,
    "start_time": "2023-12-26T15:26:43.767Z"
   },
   {
    "duration": 82,
    "start_time": "2023-12-26T15:26:43.834Z"
   },
   {
    "duration": 37,
    "start_time": "2023-12-26T15:26:43.918Z"
   },
   {
    "duration": 38,
    "start_time": "2023-12-26T15:26:43.956Z"
   },
   {
    "duration": 885,
    "start_time": "2023-12-26T15:26:43.995Z"
   },
   {
    "duration": 10,
    "start_time": "2023-12-26T15:26:44.883Z"
   },
   {
    "duration": 10,
    "start_time": "2023-12-26T15:26:44.895Z"
   },
   {
    "duration": 21,
    "start_time": "2023-12-26T15:26:44.906Z"
   },
   {
    "duration": 21,
    "start_time": "2023-12-26T15:26:44.929Z"
   },
   {
    "duration": 13,
    "start_time": "2023-12-26T15:26:44.952Z"
   },
   {
    "duration": 38,
    "start_time": "2023-12-26T15:26:44.966Z"
   },
   {
    "duration": 4,
    "start_time": "2023-12-26T15:26:45.006Z"
   },
   {
    "duration": 81,
    "start_time": "2023-12-26T15:26:45.012Z"
   },
   {
    "duration": 56,
    "start_time": "2023-12-26T15:26:45.094Z"
   },
   {
    "duration": 92,
    "start_time": "2023-12-26T15:26:45.151Z"
   },
   {
    "duration": 344,
    "start_time": "2023-12-26T15:26:45.244Z"
   },
   {
    "duration": 20,
    "start_time": "2023-12-26T15:26:45.589Z"
   },
   {
    "duration": 23,
    "start_time": "2023-12-26T15:26:45.611Z"
   },
   {
    "duration": 14,
    "start_time": "2023-12-26T15:26:45.636Z"
   },
   {
    "duration": 215,
    "start_time": "2023-12-26T15:26:45.652Z"
   },
   {
    "duration": 193,
    "start_time": "2023-12-26T15:26:45.868Z"
   },
   {
    "duration": 189,
    "start_time": "2023-12-26T15:26:46.063Z"
   },
   {
    "duration": 193,
    "start_time": "2023-12-26T15:26:46.254Z"
   },
   {
    "duration": 199,
    "start_time": "2023-12-26T15:26:46.452Z"
   },
   {
    "duration": 19,
    "start_time": "2023-12-26T15:26:46.653Z"
   },
   {
    "duration": 254,
    "start_time": "2023-12-26T15:26:46.674Z"
   },
   {
    "duration": 12,
    "start_time": "2023-12-26T15:26:46.930Z"
   },
   {
    "duration": 5,
    "start_time": "2023-12-26T15:26:46.943Z"
   },
   {
    "duration": 50,
    "start_time": "2023-12-26T15:26:46.949Z"
   },
   {
    "duration": 30,
    "start_time": "2023-12-26T15:26:47.000Z"
   },
   {
    "duration": 14,
    "start_time": "2023-12-26T15:26:47.031Z"
   },
   {
    "duration": 883,
    "start_time": "2023-12-26T15:26:47.046Z"
   },
   {
    "duration": 7,
    "start_time": "2023-12-26T15:26:47.931Z"
   },
   {
    "duration": 49,
    "start_time": "2023-12-26T15:26:47.939Z"
   },
   {
    "duration": 362,
    "start_time": "2023-12-26T15:26:47.990Z"
   },
   {
    "duration": 5,
    "start_time": "2023-12-26T15:26:48.354Z"
   },
   {
    "duration": 24,
    "start_time": "2023-12-26T15:26:48.361Z"
   },
   {
    "duration": 319,
    "start_time": "2023-12-26T15:26:48.387Z"
   },
   {
    "duration": 5,
    "start_time": "2023-12-26T15:26:48.707Z"
   },
   {
    "duration": 85,
    "start_time": "2023-12-26T15:26:48.723Z"
   },
   {
    "duration": 357,
    "start_time": "2023-12-26T15:26:48.810Z"
   },
   {
    "duration": 6,
    "start_time": "2023-12-26T15:26:49.169Z"
   },
   {
    "duration": 38,
    "start_time": "2023-12-26T15:26:49.176Z"
   },
   {
    "duration": 332,
    "start_time": "2023-12-26T15:26:49.221Z"
   },
   {
    "duration": 6,
    "start_time": "2023-12-26T15:26:49.554Z"
   },
   {
    "duration": 336,
    "start_time": "2023-12-26T15:26:49.562Z"
   },
   {
    "duration": 6,
    "start_time": "2023-12-26T15:26:49.900Z"
   },
   {
    "duration": 202,
    "start_time": "2023-12-26T15:26:49.908Z"
   },
   {
    "duration": 10,
    "start_time": "2023-12-26T15:26:50.112Z"
   },
   {
    "duration": 41,
    "start_time": "2023-12-26T15:26:50.124Z"
   },
   {
    "duration": 21,
    "start_time": "2023-12-26T15:26:50.167Z"
   },
   {
    "duration": 35,
    "start_time": "2023-12-26T15:26:50.190Z"
   },
   {
    "duration": 22,
    "start_time": "2023-12-26T15:26:50.227Z"
   },
   {
    "duration": 24,
    "start_time": "2023-12-26T15:26:50.250Z"
   },
   {
    "duration": 161,
    "start_time": "2023-12-26T15:26:50.276Z"
   },
   {
    "duration": 147,
    "start_time": "2023-12-26T15:26:50.439Z"
   },
   {
    "duration": 157,
    "start_time": "2023-12-26T15:26:50.588Z"
   },
   {
    "duration": 160,
    "start_time": "2023-12-26T15:26:50.747Z"
   },
   {
    "duration": 142,
    "start_time": "2023-12-26T15:26:50.909Z"
   },
   {
    "duration": 151,
    "start_time": "2023-12-26T15:26:51.053Z"
   },
   {
    "duration": 288,
    "start_time": "2023-12-26T15:26:51.205Z"
   },
   {
    "duration": 148,
    "start_time": "2023-12-26T15:26:51.494Z"
   },
   {
    "duration": 149,
    "start_time": "2023-12-26T15:26:51.644Z"
   },
   {
    "duration": 7,
    "start_time": "2023-12-26T15:26:51.795Z"
   },
   {
    "duration": 35,
    "start_time": "2023-12-26T15:26:51.803Z"
   },
   {
    "duration": 18,
    "start_time": "2023-12-26T15:26:51.840Z"
   },
   {
    "duration": 2598,
    "start_time": "2023-12-26T16:28:26.596Z"
   },
   {
    "duration": 1266,
    "start_time": "2023-12-26T16:28:29.196Z"
   },
   {
    "duration": 56,
    "start_time": "2023-12-26T16:28:30.464Z"
   },
   {
    "duration": 545,
    "start_time": "2023-12-26T16:28:30.522Z"
   },
   {
    "duration": 287,
    "start_time": "2023-12-26T16:28:31.069Z"
   },
   {
    "duration": 65,
    "start_time": "2023-12-26T16:28:31.357Z"
   },
   {
    "duration": 254,
    "start_time": "2023-12-26T16:28:31.424Z"
   },
   {
    "duration": 60,
    "start_time": "2023-12-26T16:28:31.680Z"
   },
   {
    "duration": 1214,
    "start_time": "2023-12-26T16:28:31.741Z"
   },
   {
    "duration": 9,
    "start_time": "2023-12-26T16:28:32.958Z"
   },
   {
    "duration": 24,
    "start_time": "2023-12-26T16:28:32.969Z"
   },
   {
    "duration": 6,
    "start_time": "2023-12-26T16:28:32.995Z"
   },
   {
    "duration": 61,
    "start_time": "2023-12-26T16:28:33.003Z"
   },
   {
    "duration": 21,
    "start_time": "2023-12-26T16:28:33.066Z"
   },
   {
    "duration": 31,
    "start_time": "2023-12-26T16:28:33.089Z"
   },
   {
    "duration": 14,
    "start_time": "2023-12-26T16:28:33.122Z"
   },
   {
    "duration": 40,
    "start_time": "2023-12-26T16:28:33.138Z"
   },
   {
    "duration": 43,
    "start_time": "2023-12-26T16:28:33.180Z"
   },
   {
    "duration": 72,
    "start_time": "2023-12-26T16:28:33.224Z"
   },
   {
    "duration": 374,
    "start_time": "2023-12-26T16:28:33.297Z"
   },
   {
    "duration": 27,
    "start_time": "2023-12-26T16:28:33.673Z"
   },
   {
    "duration": 37,
    "start_time": "2023-12-26T16:28:33.702Z"
   },
   {
    "duration": 5,
    "start_time": "2023-12-26T16:28:33.741Z"
   },
   {
    "duration": 219,
    "start_time": "2023-12-26T16:28:33.748Z"
   },
   {
    "duration": 208,
    "start_time": "2023-12-26T16:28:33.969Z"
   },
   {
    "duration": 228,
    "start_time": "2023-12-26T16:28:34.179Z"
   },
   {
    "duration": 192,
    "start_time": "2023-12-26T16:28:34.408Z"
   },
   {
    "duration": 195,
    "start_time": "2023-12-26T16:28:34.604Z"
   },
   {
    "duration": 20,
    "start_time": "2023-12-26T16:28:34.800Z"
   },
   {
    "duration": 313,
    "start_time": "2023-12-26T16:28:34.821Z"
   },
   {
    "duration": 11,
    "start_time": "2023-12-26T16:28:35.135Z"
   },
   {
    "duration": 25,
    "start_time": "2023-12-26T16:28:35.147Z"
   },
   {
    "duration": 90,
    "start_time": "2023-12-26T16:28:35.174Z"
   },
   {
    "duration": 12,
    "start_time": "2023-12-26T16:28:35.266Z"
   },
   {
    "duration": 41,
    "start_time": "2023-12-26T16:28:35.280Z"
   },
   {
    "duration": 693,
    "start_time": "2023-12-26T16:28:35.323Z"
   },
   {
    "duration": 7,
    "start_time": "2023-12-26T16:28:36.017Z"
   },
   {
    "duration": 32,
    "start_time": "2023-12-26T16:28:36.026Z"
   },
   {
    "duration": 388,
    "start_time": "2023-12-26T16:28:36.060Z"
   },
   {
    "duration": 6,
    "start_time": "2023-12-26T16:28:36.449Z"
   },
   {
    "duration": 38,
    "start_time": "2023-12-26T16:28:36.456Z"
   },
   {
    "duration": 339,
    "start_time": "2023-12-26T16:28:36.495Z"
   },
   {
    "duration": 5,
    "start_time": "2023-12-26T16:28:36.835Z"
   },
   {
    "duration": 67,
    "start_time": "2023-12-26T16:28:36.841Z"
   },
   {
    "duration": 397,
    "start_time": "2023-12-26T16:28:36.909Z"
   },
   {
    "duration": 5,
    "start_time": "2023-12-26T16:28:37.308Z"
   },
   {
    "duration": 49,
    "start_time": "2023-12-26T16:28:37.315Z"
   },
   {
    "duration": 416,
    "start_time": "2023-12-26T16:28:37.366Z"
   },
   {
    "duration": 5,
    "start_time": "2023-12-26T16:28:37.788Z"
   },
   {
    "duration": 128,
    "start_time": "2023-12-26T16:28:37.795Z"
   },
   {
    "duration": 0,
    "start_time": "2023-12-26T16:28:37.924Z"
   },
   {
    "duration": 0,
    "start_time": "2023-12-26T16:28:37.926Z"
   },
   {
    "duration": 0,
    "start_time": "2023-12-26T16:28:37.927Z"
   },
   {
    "duration": 0,
    "start_time": "2023-12-26T16:28:37.928Z"
   },
   {
    "duration": 0,
    "start_time": "2023-12-26T16:28:37.930Z"
   },
   {
    "duration": 0,
    "start_time": "2023-12-26T16:28:37.931Z"
   },
   {
    "duration": 0,
    "start_time": "2023-12-26T16:28:37.933Z"
   },
   {
    "duration": 0,
    "start_time": "2023-12-26T16:28:37.935Z"
   },
   {
    "duration": 0,
    "start_time": "2023-12-26T16:28:37.936Z"
   },
   {
    "duration": 0,
    "start_time": "2023-12-26T16:28:37.937Z"
   },
   {
    "duration": 0,
    "start_time": "2023-12-26T16:28:37.938Z"
   },
   {
    "duration": 0,
    "start_time": "2023-12-26T16:28:37.940Z"
   },
   {
    "duration": 0,
    "start_time": "2023-12-26T16:28:37.941Z"
   },
   {
    "duration": 0,
    "start_time": "2023-12-26T16:28:37.943Z"
   },
   {
    "duration": 0,
    "start_time": "2023-12-26T16:28:37.945Z"
   },
   {
    "duration": 0,
    "start_time": "2023-12-26T16:28:37.946Z"
   },
   {
    "duration": 0,
    "start_time": "2023-12-26T16:28:37.947Z"
   },
   {
    "duration": 0,
    "start_time": "2023-12-26T16:28:37.949Z"
   },
   {
    "duration": 0,
    "start_time": "2023-12-26T16:28:37.987Z"
   },
   {
    "duration": 0,
    "start_time": "2023-12-26T16:28:37.990Z"
   },
   {
    "duration": 2,
    "start_time": "2023-12-26T16:30:11.177Z"
   },
   {
    "duration": 173,
    "start_time": "2023-12-26T16:30:17.323Z"
   },
   {
    "duration": 2523,
    "start_time": "2024-01-29T16:01:27.984Z"
   },
   {
    "duration": 1102,
    "start_time": "2024-01-29T16:01:30.511Z"
   },
   {
    "duration": 94,
    "start_time": "2024-01-29T16:01:31.619Z"
   },
   {
    "duration": 16,
    "start_time": "2024-01-29T16:01:31.714Z"
   },
   {
    "duration": 14,
    "start_time": "2024-01-29T16:01:31.732Z"
   },
   {
    "duration": 3,
    "start_time": "2024-01-29T16:01:31.748Z"
   },
   {
    "duration": 28,
    "start_time": "2024-01-29T16:01:31.752Z"
   },
   {
    "duration": 12,
    "start_time": "2024-01-29T16:01:31.782Z"
   },
   {
    "duration": 838,
    "start_time": "2024-01-29T16:01:31.796Z"
   },
   {
    "duration": 8,
    "start_time": "2024-01-29T16:01:32.636Z"
   },
   {
    "duration": 7,
    "start_time": "2024-01-29T16:01:32.646Z"
   },
   {
    "duration": 6,
    "start_time": "2024-01-29T16:01:32.654Z"
   },
   {
    "duration": 5,
    "start_time": "2024-01-29T16:01:32.661Z"
   },
   {
    "duration": 4,
    "start_time": "2024-01-29T16:01:32.669Z"
   },
   {
    "duration": 48,
    "start_time": "2024-01-29T16:01:32.674Z"
   },
   {
    "duration": 5,
    "start_time": "2024-01-29T16:01:32.724Z"
   },
   {
    "duration": 22,
    "start_time": "2024-01-29T16:01:32.730Z"
   },
   {
    "duration": 5,
    "start_time": "2024-01-29T16:01:32.753Z"
   },
   {
    "duration": 19,
    "start_time": "2024-01-29T16:01:32.759Z"
   },
   {
    "duration": 330,
    "start_time": "2024-01-29T16:01:32.779Z"
   },
   {
    "duration": 23,
    "start_time": "2024-01-29T16:01:33.110Z"
   },
   {
    "duration": 14,
    "start_time": "2024-01-29T16:01:33.135Z"
   },
   {
    "duration": 4,
    "start_time": "2024-01-29T16:01:33.151Z"
   },
   {
    "duration": 200,
    "start_time": "2024-01-29T16:01:33.157Z"
   },
   {
    "duration": 178,
    "start_time": "2024-01-29T16:01:33.359Z"
   },
   {
    "duration": 181,
    "start_time": "2024-01-29T16:01:33.538Z"
   },
   {
    "duration": 176,
    "start_time": "2024-01-29T16:01:33.721Z"
   },
   {
    "duration": 168,
    "start_time": "2024-01-29T16:01:33.899Z"
   },
   {
    "duration": 17,
    "start_time": "2024-01-29T16:01:34.069Z"
   },
   {
    "duration": 286,
    "start_time": "2024-01-29T16:01:34.087Z"
   },
   {
    "duration": 10,
    "start_time": "2024-01-29T16:01:34.374Z"
   },
   {
    "duration": 14,
    "start_time": "2024-01-29T16:01:34.385Z"
   },
   {
    "duration": 46,
    "start_time": "2024-01-29T16:01:34.401Z"
   },
   {
    "duration": 13,
    "start_time": "2024-01-29T16:01:34.449Z"
   },
   {
    "duration": 17,
    "start_time": "2024-01-29T16:01:34.463Z"
   },
   {
    "duration": 631,
    "start_time": "2024-01-29T16:01:34.481Z"
   },
   {
    "duration": 7,
    "start_time": "2024-01-29T16:01:35.113Z"
   },
   {
    "duration": 36,
    "start_time": "2024-01-29T16:01:35.121Z"
   },
   {
    "duration": 339,
    "start_time": "2024-01-29T16:01:35.158Z"
   },
   {
    "duration": 6,
    "start_time": "2024-01-29T16:01:35.498Z"
   },
   {
    "duration": 22,
    "start_time": "2024-01-29T16:01:35.519Z"
   },
   {
    "duration": 308,
    "start_time": "2024-01-29T16:01:35.543Z"
   },
   {
    "duration": 6,
    "start_time": "2024-01-29T16:01:35.852Z"
   },
   {
    "duration": 24,
    "start_time": "2024-01-29T16:01:35.859Z"
   },
   {
    "duration": 335,
    "start_time": "2024-01-29T16:01:35.884Z"
   },
   {
    "duration": 6,
    "start_time": "2024-01-29T16:01:36.221Z"
   },
   {
    "duration": 24,
    "start_time": "2024-01-29T16:01:36.228Z"
   },
   {
    "duration": 398,
    "start_time": "2024-01-29T16:01:36.253Z"
   },
   {
    "duration": 5,
    "start_time": "2024-01-29T16:01:36.653Z"
   },
   {
    "duration": 112,
    "start_time": "2024-01-29T16:01:36.659Z"
   },
   {
    "duration": 0,
    "start_time": "2024-01-29T16:01:36.772Z"
   },
   {
    "duration": 0,
    "start_time": "2024-01-29T16:01:36.774Z"
   },
   {
    "duration": 0,
    "start_time": "2024-01-29T16:01:36.775Z"
   },
   {
    "duration": 0,
    "start_time": "2024-01-29T16:01:36.776Z"
   },
   {
    "duration": 0,
    "start_time": "2024-01-29T16:01:36.776Z"
   },
   {
    "duration": 0,
    "start_time": "2024-01-29T16:01:36.778Z"
   },
   {
    "duration": 0,
    "start_time": "2024-01-29T16:01:36.779Z"
   },
   {
    "duration": 0,
    "start_time": "2024-01-29T16:01:36.780Z"
   },
   {
    "duration": 0,
    "start_time": "2024-01-29T16:01:36.780Z"
   },
   {
    "duration": 0,
    "start_time": "2024-01-29T16:01:36.782Z"
   },
   {
    "duration": 0,
    "start_time": "2024-01-29T16:01:36.782Z"
   },
   {
    "duration": 0,
    "start_time": "2024-01-29T16:01:36.783Z"
   },
   {
    "duration": 0,
    "start_time": "2024-01-29T16:01:36.784Z"
   },
   {
    "duration": 0,
    "start_time": "2024-01-29T16:01:36.785Z"
   },
   {
    "duration": 0,
    "start_time": "2024-01-29T16:01:36.786Z"
   },
   {
    "duration": 0,
    "start_time": "2024-01-29T16:01:36.787Z"
   },
   {
    "duration": 0,
    "start_time": "2024-01-29T16:01:36.788Z"
   },
   {
    "duration": 0,
    "start_time": "2024-01-29T16:01:36.789Z"
   },
   {
    "duration": 0,
    "start_time": "2024-01-29T16:01:36.818Z"
   }
  ],
  "kernelspec": {
   "display_name": "Python 3 (ipykernel)",
   "language": "python",
   "name": "python3"
  },
  "language_info": {
   "codemirror_mode": {
    "name": "ipython",
    "version": 3
   },
   "file_extension": ".py",
   "mimetype": "text/x-python",
   "name": "python",
   "nbconvert_exporter": "python",
   "pygments_lexer": "ipython3",
   "version": "3.9.5"
  },
  "toc": {
   "base_numbering": 1,
   "nav_menu": {},
   "number_sections": true,
   "sideBar": true,
   "skip_h1_title": true,
   "title_cell": "Table of Contents",
   "title_sidebar": "Contents",
   "toc_cell": false,
   "toc_position": {},
   "toc_section_display": true,
   "toc_window_display": false
  }
 },
 "nbformat": 4,
 "nbformat_minor": 2
}
